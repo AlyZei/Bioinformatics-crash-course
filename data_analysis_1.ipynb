{
 "cells": [
  {
   "cell_type": "markdown",
   "metadata": {},
   "source": [
    "# Data Analysis and Data Science\n",
    "## Be curious about the data \n",
    "\n",
    "By: Caroline Labelle\n",
    "<br>For: BCM6065-65\n",
    "\n",
    "<br>\n",
    "Date: June 30th, 2022\n",
    "\n",
    "<hr style=\"border:1px solid black\"> </hr>\n"
   ]
  },
  {
   "cell_type": "markdown",
   "metadata": {},
   "source": [
    "## Importing the data\n",
    "\n",
    "Once we've indified an interesting dataset, we need to import it. A great Python's library to do is Pandas.\n",
    "\n",
    "Pandas is a library that have multiple functions to help with data manipulation and analysis."
   ]
  },
  {
   "cell_type": "code",
   "execution_count": 1,
   "metadata": {},
   "outputs": [],
   "source": [
    "## Import some library for DF manipulation\n",
    "import pandas as pd"
   ]
  },
  {
   "cell_type": "code",
   "execution_count": 2,
   "metadata": {},
   "outputs": [],
   "source": [
    "## Define variable with file name\n",
    "fn = \"palmer_penguins.csv\""
   ]
  },
  {
   "cell_type": "code",
   "execution_count": 3,
   "metadata": {},
   "outputs": [],
   "source": [
    "## Read ans save data into variable as a dataframe\n",
    "data = pd.read_csv(fn)"
   ]
  },
  {
   "cell_type": "code",
   "execution_count": 4,
   "metadata": {
    "scrolled": true
   },
   "outputs": [
    {
     "data": {
      "text/html": [
       "<div>\n",
       "<style scoped>\n",
       "    .dataframe tbody tr th:only-of-type {\n",
       "        vertical-align: middle;\n",
       "    }\n",
       "\n",
       "    .dataframe tbody tr th {\n",
       "        vertical-align: top;\n",
       "    }\n",
       "\n",
       "    .dataframe thead th {\n",
       "        text-align: right;\n",
       "    }\n",
       "</style>\n",
       "<table border=\"1\" class=\"dataframe\">\n",
       "  <thead>\n",
       "    <tr style=\"text-align: right;\">\n",
       "      <th></th>\n",
       "      <th>species</th>\n",
       "      <th>island</th>\n",
       "      <th>bill_length_mm</th>\n",
       "      <th>bill_depth_mm</th>\n",
       "      <th>flipper_length_mm</th>\n",
       "      <th>body_mass_g</th>\n",
       "      <th>sex</th>\n",
       "    </tr>\n",
       "  </thead>\n",
       "  <tbody>\n",
       "    <tr>\n",
       "      <th>0</th>\n",
       "      <td>Adelie</td>\n",
       "      <td>Torgersen</td>\n",
       "      <td>39.1</td>\n",
       "      <td>18.7</td>\n",
       "      <td>181.0</td>\n",
       "      <td>3750.0</td>\n",
       "      <td>MALE</td>\n",
       "    </tr>\n",
       "    <tr>\n",
       "      <th>1</th>\n",
       "      <td>Adelie</td>\n",
       "      <td>Torgersen</td>\n",
       "      <td>39.5</td>\n",
       "      <td>17.4</td>\n",
       "      <td>186.0</td>\n",
       "      <td>3800.0</td>\n",
       "      <td>FEMALE</td>\n",
       "    </tr>\n",
       "    <tr>\n",
       "      <th>2</th>\n",
       "      <td>Adelie</td>\n",
       "      <td>Torgersen</td>\n",
       "      <td>40.3</td>\n",
       "      <td>18.0</td>\n",
       "      <td>195.0</td>\n",
       "      <td>3250.0</td>\n",
       "      <td>FEMALE</td>\n",
       "    </tr>\n",
       "    <tr>\n",
       "      <th>3</th>\n",
       "      <td>Adelie</td>\n",
       "      <td>Torgersen</td>\n",
       "      <td>NaN</td>\n",
       "      <td>NaN</td>\n",
       "      <td>NaN</td>\n",
       "      <td>NaN</td>\n",
       "      <td>NaN</td>\n",
       "    </tr>\n",
       "    <tr>\n",
       "      <th>4</th>\n",
       "      <td>Adelie</td>\n",
       "      <td>Torgersen</td>\n",
       "      <td>36.7</td>\n",
       "      <td>19.3</td>\n",
       "      <td>193.0</td>\n",
       "      <td>3450.0</td>\n",
       "      <td>FEMALE</td>\n",
       "    </tr>\n",
       "  </tbody>\n",
       "</table>\n",
       "</div>"
      ],
      "text/plain": [
       "  species     island  bill_length_mm  bill_depth_mm  flipper_length_mm  \\\n",
       "0  Adelie  Torgersen            39.1           18.7              181.0   \n",
       "1  Adelie  Torgersen            39.5           17.4              186.0   \n",
       "2  Adelie  Torgersen            40.3           18.0              195.0   \n",
       "3  Adelie  Torgersen             NaN            NaN                NaN   \n",
       "4  Adelie  Torgersen            36.7           19.3              193.0   \n",
       "\n",
       "   body_mass_g     sex  \n",
       "0       3750.0    MALE  \n",
       "1       3800.0  FEMALE  \n",
       "2       3250.0  FEMALE  \n",
       "3          NaN     NaN  \n",
       "4       3450.0  FEMALE  "
      ]
     },
     "execution_count": 4,
     "metadata": {},
     "output_type": "execute_result"
    }
   ],
   "source": [
    "## Show the first few rows of the dataset\n",
    "data.head()"
   ]
  },
  {
   "cell_type": "code",
   "execution_count": 15,
   "metadata": {},
   "outputs": [
    {
     "data": {
      "text/plain": [
       "(344, 7)"
      ]
     },
     "execution_count": 15,
     "metadata": {},
     "output_type": "execute_result"
    }
   ],
   "source": [
    "data.shape"
   ]
  },
  {
   "cell_type": "code",
   "execution_count": 5,
   "metadata": {
    "scrolled": true
   },
   "outputs": [
    {
     "data": {
      "text/html": [
       "<div>\n",
       "<style scoped>\n",
       "    .dataframe tbody tr th:only-of-type {\n",
       "        vertical-align: middle;\n",
       "    }\n",
       "\n",
       "    .dataframe tbody tr th {\n",
       "        vertical-align: top;\n",
       "    }\n",
       "\n",
       "    .dataframe thead th {\n",
       "        text-align: right;\n",
       "    }\n",
       "</style>\n",
       "<table border=\"1\" class=\"dataframe\">\n",
       "  <thead>\n",
       "    <tr style=\"text-align: right;\">\n",
       "      <th></th>\n",
       "      <th>bill_length_mm</th>\n",
       "      <th>bill_depth_mm</th>\n",
       "      <th>flipper_length_mm</th>\n",
       "      <th>body_mass_g</th>\n",
       "    </tr>\n",
       "  </thead>\n",
       "  <tbody>\n",
       "    <tr>\n",
       "      <th>count</th>\n",
       "      <td>342.000000</td>\n",
       "      <td>342.000000</td>\n",
       "      <td>342.000000</td>\n",
       "      <td>342.000000</td>\n",
       "    </tr>\n",
       "    <tr>\n",
       "      <th>mean</th>\n",
       "      <td>43.921930</td>\n",
       "      <td>17.151170</td>\n",
       "      <td>200.915205</td>\n",
       "      <td>4201.754386</td>\n",
       "    </tr>\n",
       "    <tr>\n",
       "      <th>std</th>\n",
       "      <td>5.459584</td>\n",
       "      <td>1.974793</td>\n",
       "      <td>14.061714</td>\n",
       "      <td>801.954536</td>\n",
       "    </tr>\n",
       "    <tr>\n",
       "      <th>min</th>\n",
       "      <td>32.100000</td>\n",
       "      <td>13.100000</td>\n",
       "      <td>172.000000</td>\n",
       "      <td>2700.000000</td>\n",
       "    </tr>\n",
       "    <tr>\n",
       "      <th>25%</th>\n",
       "      <td>39.225000</td>\n",
       "      <td>15.600000</td>\n",
       "      <td>190.000000</td>\n",
       "      <td>3550.000000</td>\n",
       "    </tr>\n",
       "    <tr>\n",
       "      <th>50%</th>\n",
       "      <td>44.450000</td>\n",
       "      <td>17.300000</td>\n",
       "      <td>197.000000</td>\n",
       "      <td>4050.000000</td>\n",
       "    </tr>\n",
       "    <tr>\n",
       "      <th>75%</th>\n",
       "      <td>48.500000</td>\n",
       "      <td>18.700000</td>\n",
       "      <td>213.000000</td>\n",
       "      <td>4750.000000</td>\n",
       "    </tr>\n",
       "    <tr>\n",
       "      <th>max</th>\n",
       "      <td>59.600000</td>\n",
       "      <td>21.500000</td>\n",
       "      <td>231.000000</td>\n",
       "      <td>6300.000000</td>\n",
       "    </tr>\n",
       "  </tbody>\n",
       "</table>\n",
       "</div>"
      ],
      "text/plain": [
       "       bill_length_mm  bill_depth_mm  flipper_length_mm  body_mass_g\n",
       "count      342.000000     342.000000         342.000000   342.000000\n",
       "mean        43.921930      17.151170         200.915205  4201.754386\n",
       "std          5.459584       1.974793          14.061714   801.954536\n",
       "min         32.100000      13.100000         172.000000  2700.000000\n",
       "25%         39.225000      15.600000         190.000000  3550.000000\n",
       "50%         44.450000      17.300000         197.000000  4050.000000\n",
       "75%         48.500000      18.700000         213.000000  4750.000000\n",
       "max         59.600000      21.500000         231.000000  6300.000000"
      ]
     },
     "execution_count": 5,
     "metadata": {},
     "output_type": "execute_result"
    }
   ],
   "source": [
    "data.describe()"
   ]
  },
  {
   "cell_type": "code",
   "execution_count": 6,
   "metadata": {},
   "outputs": [
    {
     "data": {
      "text/plain": [
       "array(['Adelie', 'Chinstrap', 'Gentoo'], dtype=object)"
      ]
     },
     "execution_count": 6,
     "metadata": {},
     "output_type": "execute_result"
    }
   ],
   "source": [
    "data['species'].unique()"
   ]
  },
  {
   "cell_type": "code",
   "execution_count": 7,
   "metadata": {},
   "outputs": [
    {
     "data": {
      "text/plain": [
       "array(['Torgersen', 'Biscoe', 'Dream'], dtype=object)"
      ]
     },
     "execution_count": 7,
     "metadata": {},
     "output_type": "execute_result"
    }
   ],
   "source": [
    "data['island'].unique()"
   ]
  },
  {
   "cell_type": "markdown",
   "metadata": {},
   "source": [
    "What observation can you make?\n",
    "\n",
    "We can observe the columns, see that there are 3 species, 3 islands. There are NaN values as well. "
   ]
  },
  {
   "cell_type": "markdown",
   "metadata": {},
   "source": [
    "<hr style=\"border:1px dashed black\"> </hr>"
   ]
  },
  {
   "cell_type": "markdown",
   "metadata": {},
   "source": [
    "## Cleaning out the dataset\n",
    "\n",
    "When cleaning a dataset, it is important to document how and why we do it: we can not just remove data and continue as it never existed."
   ]
  },
  {
   "cell_type": "code",
   "execution_count": 10,
   "metadata": {},
   "outputs": [
    {
     "name": "stdout",
     "output_type": "stream",
     "text": [
      "The number of missing data in column species is 0.\n",
      "The number of missing data in column island is 0.\n",
      "The number of missing data in column bill_length_mm is 2.\n",
      "The number of missing data in column bill_depth_mm is 2.\n",
      "The number of missing data in column flipper_length_mm is 2.\n",
      "The number of missing data in column body_mass_g is 2.\n",
      "The number of missing data in column sex is 11.\n"
     ]
    }
   ],
   "source": [
    "## Which variables have missing data?\n",
    "## The function df.isna() returns a boolean DataFrame\n",
    "for column in data.columns:\n",
    "    print (\"The number of missing data in column \" +str(column)+ \" is \" +str(data[column].isna().sum())+\".\")"
   ]
  },
  {
   "cell_type": "code",
   "execution_count": null,
   "metadata": {},
   "outputs": [],
   "source": [
    "## How can we evaluate if a variable (i.e. column) contains Nan?\n"
   ]
  },
  {
   "cell_type": "code",
   "execution_count": 11,
   "metadata": {},
   "outputs": [],
   "source": [
    "## Dropping a.k.a removing missing data\n",
    "\n",
    "## We want to drop the rows where at least one element is missing\n",
    "## It is good practice to make a new cleaned DataFrame\n",
    "data_clean = data.dropna(axis=0)"
   ]
  },
  {
   "cell_type": "code",
   "execution_count": 13,
   "metadata": {},
   "outputs": [
    {
     "name": "stdout",
     "output_type": "stream",
     "text": [
      "The number of samples that were removed is 11.\n"
     ]
    }
   ],
   "source": [
    "## How many samples were removed?\n",
    "print(\"The number of samples that were removed is \" + str(data.shape[0]-data_clean.shape[0])+\".\")"
   ]
  },
  {
   "cell_type": "markdown",
   "metadata": {},
   "source": [
    "<hr style=\"border:1px dashed black\"> </hr>"
   ]
  },
  {
   "cell_type": "markdown",
   "metadata": {},
   "source": [
    "## Exploring the data"
   ]
  },
  {
   "cell_type": "code",
   "execution_count": 14,
   "metadata": {},
   "outputs": [
    {
     "name": "stdout",
     "output_type": "stream",
     "text": [
      "The number of samples that we have is 333.\n"
     ]
    }
   ],
   "source": [
    "### How many samples and variables do we have?\n",
    "print(\"The number of samples that we have is \" + str(data_clean.shape[0])+\".\")"
   ]
  },
  {
   "cell_type": "code",
   "execution_count": null,
   "metadata": {},
   "outputs": [],
   "source": [
    "### What are the variables?\n",
    "variables = "
   ]
  },
  {
   "cell_type": "code",
   "execution_count": null,
   "metadata": {},
   "outputs": [],
   "source": [
    "### What are the types of each variable?\n"
   ]
  },
  {
   "cell_type": "code",
   "execution_count": null,
   "metadata": {},
   "outputs": [],
   "source": [
    "### For the numeric variables,\n",
    "### what are the min. max, mean and median values?\n",
    "\n",
    "print(\"Min. values: \")\n"
   ]
  },
  {
   "cell_type": "code",
   "execution_count": null,
   "metadata": {},
   "outputs": [],
   "source": [
    "print(\"Max. values: \")\n"
   ]
  },
  {
   "cell_type": "code",
   "execution_count": null,
   "metadata": {},
   "outputs": [],
   "source": [
    "print(\"Median. values: \")\n"
   ]
  },
  {
   "cell_type": "code",
   "execution_count": null,
   "metadata": {},
   "outputs": [],
   "source": [
    "print(\"Mean. values: \")\n"
   ]
  },
  {
   "cell_type": "code",
   "execution_count": null,
   "metadata": {},
   "outputs": [],
   "source": [
    "### For the categorical variables, how many \"categories\" each has?\n",
    "print(\"Nb. species:\", )\n",
    "print(\"Nb. islands:\", )\n",
    "print(\"Nb. sex:\", )"
   ]
  },
  {
   "cell_type": "code",
   "execution_count": null,
   "metadata": {},
   "outputs": [],
   "source": [
    "### What are the species name? \n"
   ]
  },
  {
   "cell_type": "markdown",
   "metadata": {},
   "source": [
    "![alt text](https://allisonhorst.github.io/palmerpenguins/reference/figures/lter_penguins.png)"
   ]
  },
  {
   "cell_type": "code",
   "execution_count": null,
   "metadata": {},
   "outputs": [],
   "source": [
    "### Since we have different groups, let's group our data!\n",
    "### What are the mean mass and lengths values?\n",
    "\n",
    "### By species\n"
   ]
  },
  {
   "cell_type": "code",
   "execution_count": null,
   "metadata": {},
   "outputs": [],
   "source": [
    "### By island\n"
   ]
  },
  {
   "cell_type": "code",
   "execution_count": null,
   "metadata": {},
   "outputs": [],
   "source": [
    "### By sex\n"
   ]
  },
  {
   "cell_type": "markdown",
   "metadata": {},
   "source": [
    "Based on these results, what hypothesis can you formulate?"
   ]
  },
  {
   "cell_type": "markdown",
   "metadata": {},
   "source": [
    "<hr style=\"border:1px dashed black\"> </hr>"
   ]
  },
  {
   "cell_type": "markdown",
   "metadata": {},
   "source": [
    "## Visualize the data\n",
    "\n",
    "Seaborn is a Python data visualization library based on matplotlib. It provides a high-level interface for drawing attractive and informative statistical graphics.\n",
    "\n",
    "Example gallery: https://seaborn.pydata.org/examples/index.html<br>\n",
    "Helpfull tutorial: https://seaborn.pydata.org/tutorial.html"
   ]
  },
  {
   "cell_type": "code",
   "execution_count": null,
   "metadata": {},
   "outputs": [],
   "source": [
    "## Import the seaborn library\n",
    "## You might have to install it first!\n"
   ]
  },
  {
   "cell_type": "markdown",
   "metadata": {},
   "source": [
    "We can set global theme parameters (<code>sns.set_theme</code>) that will be apply to all plots.\n",
    "\n",
    "Ressource: https://seaborn.pydata.org/generated/seaborn.set_theme.html"
   ]
  },
  {
   "cell_type": "markdown",
   "metadata": {},
   "source": [
    "The <code>context</code> will affect things like the size of the labels, lines, and other elements of the plot, but not the overall style. You can choose between \"notebook\", \"paper\", \"talk\" and \"poster\".\n",
    "\n",
    "The <code>style</code> will affect things like the color of the axes, whether a grid is enabled by default, and other aesthetic elements. You can choose between \"darkgrid\", \"whitegrid\", \"dark\", \"white\", \"ticks\".\n",
    "\n",
    "The <code>palette</code> will define the colors used when plotting."
   ]
  },
  {
   "cell_type": "code",
   "execution_count": null,
   "metadata": {},
   "outputs": [],
   "source": [
    "sns.set(rc={'figure.figsize':(9, 4)})\n",
    "sns.set_theme(context=\"notebook\", style=\"white\", palette=\"Set2\")"
   ]
  },
  {
   "cell_type": "markdown",
   "metadata": {},
   "source": [
    "![alt text](https://seaborn.pydata.org/_images/function_overview_8_0.png)"
   ]
  },
  {
   "cell_type": "markdown",
   "metadata": {},
   "source": [
    "The general syntax to generat a ploft/figure with seaborn:\n",
    "\n",
    "```python\n",
    "sns.type_of_plot(data=data_df, x=col_name, (y=col_name), [ARGS])\n",
    "```\n",
    "\n",
    "<br><br>\n",
    "For instance, we can generate a plot with the values of sepal length represented by histograms:\n",
    "\n",
    "```python\n",
    "sns.histplot(data, x=\"body_mass_g\")\n",
    "```"
   ]
  },
  {
   "cell_type": "code",
   "execution_count": null,
   "metadata": {},
   "outputs": [],
   "source": [
    "### Plot body mass as a histogram\n",
    "sns.histplot(data_clean, x=\"body_mass_g\")\n",
    "sns.despine()"
   ]
  },
  {
   "cell_type": "markdown",
   "metadata": {},
   "source": [
    "### Exploring distribution of measurements \n",
    "\n",
    "A histogram is a classic visualization tool that represents the distribution of one or more variables by counting the number of observations that fall within disrete bins.\n",
    "\n",
    "Ressource: https://seaborn.pydata.org/generated/seaborn.histplot.html?highlight=histplot#seaborn.histplot"
   ]
  },
  {
   "cell_type": "code",
   "execution_count": null,
   "metadata": {},
   "outputs": [],
   "source": [
    "### We want to look a the distribution of measurements for body_mass\n",
    "sns.histplot()\n",
    "sns.despine()"
   ]
  },
  {
   "cell_type": "markdown",
   "metadata": {},
   "source": [
    "---\n",
    "**bins => str, number, vector, or a pair of such values**<br>\n",
    "Generic bin parameter that can be the name of a reference rule, the number of bins, or the breaks of the bins."
   ]
  },
  {
   "cell_type": "code",
   "execution_count": null,
   "metadata": {},
   "outputs": [],
   "source": [
    "### Let's use more bins...\n",
    "sns.histplot(data_clean, x=\"flipper_length_mm\")\n",
    "sns.despine()"
   ]
  },
  {
   "cell_type": "markdown",
   "metadata": {},
   "source": [
    "---\n",
    "**binwidth => number or pair of numbers** <br>\n",
    "Width of each bin, overrides bins"
   ]
  },
  {
   "cell_type": "code",
   "execution_count": null,
   "metadata": {},
   "outputs": [],
   "source": [
    "### Let's use smaller bins...\n",
    "sns.histplot(data_clean, x=\"flipper_length_mm\")\n",
    "sns.despine()"
   ]
  },
  {
   "cell_type": "markdown",
   "metadata": {},
   "source": [
    "---\n",
    "**hue => vector or key in data**<br>\n",
    "Semantic variable that is mapped to determine the color of plot elements."
   ]
  },
  {
   "cell_type": "code",
   "execution_count": null,
   "metadata": {},
   "outputs": [],
   "source": [
    "### We want the distribution to be sex-specific\n",
    "sns.histplot(data_clean, x=\"flipper_length_mm\")\n",
    "sns.despine()"
   ]
  },
  {
   "cell_type": "markdown",
   "metadata": {},
   "source": [
    "---\n",
    "**multiple ==> {“layer”, “dodge”, “stack”, “fill”}** <br>\n",
    "Approach to resolving multiple elements when semantic mapping creates subsets. Only relevant with univariate data."
   ]
  },
  {
   "cell_type": "code",
   "execution_count": null,
   "metadata": {},
   "outputs": [],
   "source": [
    "### Make our plot more readable\n",
    "p = sns.histplot(data_clean, x=\"flipper_length_mm\", bins=25, hue=\"sex\")\n",
    "p.set_title(\"Stacked Distribution of flipper length (mm)\")\n",
    "sns.despine()"
   ]
  },
  {
   "cell_type": "markdown",
   "metadata": {},
   "source": [
    "***\n",
    "We can use <code>displot</code>, instead of <code>histplot</code>, which will allow us to draw distribution plots onto a FacetGrid a.k.a have a figure with various subplots.<br>\n",
    "\n",
    "Ressource: https://seaborn.pydata.org/generated/seaborn.displot.html?highlight=displot#seaborn.displot"
   ]
  },
  {
   "cell_type": "markdown",
   "metadata": {},
   "source": [
    "**kind => {“hist”, “kde”, “ecdf”}**<br>\n",
    "Approach for visualizing the data. Selects the underlying plotting function and determines the additional set of valid parameters."
   ]
  },
  {
   "cell_type": "markdown",
   "metadata": {},
   "source": [
    "**row, col ==> vectors or keys in data**<br>\n",
    "Variables that define subsets to plot on different facets."
   ]
  },
  {
   "cell_type": "code",
   "execution_count": null,
   "metadata": {},
   "outputs": [],
   "source": [
    "### Modify the following line of code so that:\n",
    "### --> you are using displot()\n",
    "### --> you are representing the flipper length with histogram\n",
    "### --> you have a figure of 1 row and 3 columns: one column per species\n",
    "\n",
    "sns.histplot(data_clean, x=\"flipper_length_mm\", bins=25, hue=\"sex\", multiple=\"stack\")\n",
    "sns.despine()"
   ]
  },
  {
   "cell_type": "markdown",
   "metadata": {},
   "source": [
    "What do you observe in the above figure?\n",
    "***\n",
    "Once you have figure, you can save it in a vector format (<code>.pdf</code> or <code>.svg</code>). Figures can then be easily modified/edited in apps such as Illustrator and Affinity Design."
   ]
  },
  {
   "cell_type": "code",
   "execution_count": null,
   "metadata": {},
   "outputs": [],
   "source": [
    "### Save your last figure as a pdf\n",
    "p = sns.displot(data_clean, x=\"flipper_length_mm\", bins=25, hue=\"sex\", multiple=\"stack\", kind=\"hist\", col=\"species\")\n",
    "p.despine()\n",
    "\n",
    "p.savefig(\"\")"
   ]
  },
  {
   "cell_type": "markdown",
   "metadata": {},
   "source": [
    "We have been representing the distributions in terms of \"count of occurrences\" (y-axis). It is worth noting that the distribution statistic can easily be change with the <code>stat</code> argument.\n",
    "\n",
    "**stat => {“count”, “frequency”, “density”, “probability”}**\n",
    "\n",
    "Aggregate statistic to compute in each bin.\n",
    "* **count** shows the number of observations\n",
    "* **frequency** shows the number of observations divided by the bin width\n",
    "* **density** normalizes counts so that the area of the histogram is 1\n",
    "* **probability** normalizes counts so that the sum of the bar heights is 1"
   ]
  },
  {
   "cell_type": "markdown",
   "metadata": {},
   "source": [
    "### Visualizing relationships\n",
    "\n",
    "A scatterplot is a classic visualization tool that represents the relationship between <code>x</code> and <code>y</code>. Different subsets of the data can be shown by altering the color, size and style of the marker.\n",
    "\n",
    "Even though it is possible to show up to three dimensions independently by using all three semantic types (color, size and style), this style of plot can be hard to interpret and is often ineffective.\n",
    "\n",
    "Ressource: https://seaborn.pydata.org/generated/seaborn.scatterplot.html?highlight=scatterplot#seaborn.scatterplot"
   ]
  },
  {
   "cell_type": "code",
   "execution_count": null,
   "metadata": {},
   "outputs": [],
   "source": [
    "### We are interested in the relation between bill length and depth\n",
    "### Plot this relation as a scatter plot\n",
    "sns.scatterplot()\n",
    "sns.despine()"
   ]
  },
  {
   "cell_type": "markdown",
   "metadata": {},
   "source": [
    "***\n",
    "**hue => vector or key in data**<br>\n",
    "Grouping variable that will produce points with different colors. Can be either categorical or numeric, although color mapping will behave differently in latter case."
   ]
  },
  {
   "cell_type": "code",
   "execution_count": null,
   "metadata": {},
   "outputs": [],
   "source": [
    "### Color the marker based on the species\n",
    "sns.scatterplot(data=data_clean, x=\"bill_length_mm\", y=\"bill_depth_mm\")\n",
    "sns.despine()"
   ]
  },
  {
   "cell_type": "markdown",
   "metadata": {},
   "source": [
    "***\n",
    "**size => vector or key in data**<br>\n",
    "Grouping variable that will produce points with different sizes. Can be either categorical or numeric, although size mapping will behave differently in latter case.\n",
    "<br><br>\n",
    "**style => vector or key in data**<br>\n",
    "Grouping variable that will produce points with different markers. Can have a numeric dtype but will always be treated as categorical."
   ]
  },
  {
   "cell_type": "code",
   "execution_count": null,
   "metadata": {},
   "outputs": [],
   "source": [
    "### How could we incorporate species, island and sex identification\n",
    "### into our bill length and depth scatter plot?\n",
    "\n",
    "## marker color: species\n",
    "## marker size: sex\n",
    "## marker style: island\n",
    "\n",
    "sns.scatterplot(data=data_clean, x=\"bill_length_mm\", y=\"bill_depth_mm\")\n",
    "sns.despine()"
   ]
  },
  {
   "cell_type": "code",
   "execution_count": null,
   "metadata": {},
   "outputs": [],
   "source": [
    "### To change figure size, we need to use the Matplotlib library\n",
    "### It was installed as dependency of seaborn: you just have to import it!\n"
   ]
  },
  {
   "cell_type": "markdown",
   "metadata": {},
   "source": [
    "Matplotlib is a comprehensive library for creating static, animated, and interactive visualizations in Python: the Seaborn library is based on matplotlib.<br>\n",
    "\n",
    "Ressource: https://matplotlib.org/stable/index.html\n",
    "\n",
    "***\n",
    "<code>plt.figure</code> implements a top level figure object that will hold all plot element. We can specify various arguments such as the size of the figure, it's facecolor and esdgecolor.\n",
    "\n",
    "Ressource: https://matplotlib.org/stable/api/figure_api.html?highlight=figure#module-matplotlib.figure"
   ]
  },
  {
   "cell_type": "code",
   "execution_count": null,
   "metadata": {},
   "outputs": [],
   "source": [
    "### Define a figure object with the desired dimension\n",
    "fig = plt.figure()\n",
    "p = sns.scatterplot(data=data_clean, x=\"bill_length_mm\", y=\"bill_depth_mm\", hue=\"species\", size=\"sex\", style=\"island\")\n",
    "sns.despine()\n",
    "\n",
    "### We can also play with our legend\n",
    "## Legend outside of plot\n",
    "plt.legend()\n",
    "sns.despine()\n",
    "\n",
    "### Add a descriptive title\n",
    "p.set_title(\"\")\n",
    "\n",
    "### save figure as pdf\n",
    "fig.savefig(\"\")"
   ]
  },
  {
   "cell_type": "markdown",
   "metadata": {},
   "source": [
    "***\n",
    "It is hard to fit multiple pairwise relationships from a dataset into a single plot. The rendered plot can be hard to read and interpret!\n",
    "\n",
    "<br>\n",
    "Instead of using <code>scatteplot</code>, let's try <code>pairplot</code>!\n",
    "\n",
    "This  will create a grid of Axes such that each numeric variable in data will by shared across the y-axes across a single row and the x-axes across a single column. The diagonal plots are treated differently: a univariate distribution plot is drawn to show the marginal distribution of the data in each column.\n",
    "\n",
    "It is also possible to show a subset of variables or plot different variables on the rows and columns.\n",
    "\n",
    "Ressource: https://seaborn.pydata.org/generated/seaborn.pairplot.html?highlight=pairplot#seaborn.pairplot"
   ]
  },
  {
   "cell_type": "code",
   "execution_count": null,
   "metadata": {},
   "outputs": [],
   "source": [
    "### Plot all pairwise relationships between all numeric variables\n",
    "### Color samples based on their species\n",
    "### The diagonal should contain histogram\n",
    "\n",
    "sns.pairplot()\n",
    "sns.despine()"
   ]
  },
  {
   "cell_type": "markdown",
   "metadata": {},
   "source": [
    "There is some redundance in the figure obtained...\n",
    "\n",
    "We can specify to plot only the lower triangle with <code>corner=True</code>."
   ]
  },
  {
   "cell_type": "code",
   "execution_count": null,
   "metadata": {},
   "outputs": [],
   "source": [
    "### Only plot lower triangle of the pairwise plot\n",
    "p = sns.pairplot(data_clean, hue=\"species\", diag_kind=\"hist\")\n",
    "sns.despine()\n",
    "\n",
    "### Save figure to PDF\n",
    "p.savefig(\"pairwise_penguins.pdf\")"
   ]
  },
  {
   "cell_type": "markdown",
   "metadata": {},
   "source": [
    "What do you observe in the above figure?"
   ]
  },
  {
   "cell_type": "markdown",
   "metadata": {},
   "source": [
    "### Visualizing statistical relationships\n",
    "\n",
    "Many datasets contain multiple quantitative variables, and the goal of an analysis is often to relate those variables to each other. Seaborn can be very useful as it allows to use statistical models to estimate a simple relationship between two noisy sets of observations.\n",
    "\n",
    "Remember that Seaborn is a *visualization* tool and not a statistical library: you test for linear and non-linear correlations between subsets but you will not have the associated coefficient or other statistical metrics."
   ]
  },
  {
   "cell_type": "markdown",
   "metadata": {},
   "source": [
    "The two main functions to visualize a linear relationship are <code>regplot()</code> and <code>lmplot()</code>. Both functions draw a scatterplot of two variables, <code>x</code> and <code>y</code>, and then fit the regression model <code>y ~ x</code> and plot the resulting regression line and a 95% confidence interval for that regression "
   ]
  },
  {
   "cell_type": "markdown",
   "metadata": {},
   "source": [
    "***\n",
    "<code>regplot()</code> always shows a single relationship (i.e. no <code>hue</code> argument).\n",
    "\n",
    "Ressource: https://seaborn.pydata.org/generated/seaborn.regplot.html#seaborn.regplot"
   ]
  },
  {
   "cell_type": "code",
   "execution_count": null,
   "metadata": {},
   "outputs": [],
   "source": [
    "### Plot linear regression between bill length and depth\n",
    "sns.regplot()\n",
    "\n",
    "### Add a title\n",
    "plt.title(\"Linear regression - Bill length vs. depth\")\n",
    "sns.despine()"
   ]
  },
  {
   "cell_type": "markdown",
   "metadata": {},
   "source": [
    "***\n",
    "<code>lmplot()</code> combines <code>regplot()</code> with <code>FacetGrid</code> to provide an easy interface to show a linear regression on “faceted” plots that allow you to explore interactions with up to three additional categorical variables.\n",
    "\n",
    "Ressource: https://seaborn.pydata.org/generated/seaborn.lmplot.html#seaborn.lmplot"
   ]
  },
  {
   "cell_type": "code",
   "execution_count": null,
   "metadata": {},
   "outputs": [],
   "source": [
    "### Plot linear regression between bill length and depth\n",
    "### The regression should be species-specific\n",
    "sns.lmplot()\n",
    "\n",
    "### Add a title\n",
    "plt.title(\"Linear regression - Bill length vs. depth\")\n",
    "sns.despine()"
   ]
  },
  {
   "cell_type": "markdown",
   "metadata": {},
   "source": [
    "**truncate => bool, optional**\n",
    "\n",
    "If True, the regression line is bounded by the data limits. If False, it extends to the x axis limits."
   ]
  },
  {
   "cell_type": "code",
   "execution_count": null,
   "metadata": {},
   "outputs": [],
   "source": [
    "### Plot linear regression between bill length and depth\n",
    "### The regression should be species-specific\n",
    "### We want a figure of 1 row and 3 columns: one column per species\n",
    "sns.lmplot(data=data_clean, x=\"bill_length_mm\", y=\"bill_depth_mm\", hue=\"species\", truncate=False)\n",
    "sns.despine()"
   ]
  },
  {
   "cell_type": "markdown",
   "metadata": {},
   "source": [
    "***\n",
    "It is possible to only show the linear regresion, i.e. remove the scatter plot\n",
    "\n",
    "**scatter => bool, optional**\n",
    "\n",
    "If True, draw a scatterplot with the underlying observations (or the x_estimator values)."
   ]
  },
  {
   "cell_type": "code",
   "execution_count": null,
   "metadata": {},
   "outputs": [],
   "source": [
    "### Only show the linear regression\n",
    "sns.lmplot(data=data_clean, x=\"bill_length_mm\", y=\"bill_depth_mm\", hue=\"island\", truncate=False)\n",
    "\n",
    "### Add a title\n",
    "plt.title(\"Linear regression - Bill length vs. width\")\n",
    "sns.despine()"
   ]
  },
  {
   "cell_type": "markdown",
   "metadata": {},
   "source": [
    "***\n",
    "Various parameters of the linear regression can be adjusted for both <code>regplot()</code> and <code>lmplot()</code>:\n",
    "\n",
    "* **ci => int in [0, 100] or None, optional** <br>Size of the confidence interval for the regression estimate. This will be drawn using translucent bands around the regression line. The confidence interval is estimated using a bootstrap; for large datasets, it may be advisable to avoid that computation by setting this parameter to None. \n",
    "<br>\n",
    "\n",
    "* **x_estimator => callable that maps vector -> scalar, optional** <br>Apply this function to each unique value of x and plot the resulting estimate. This is useful when x is a discrete variable. If x_ci is given, this estimate will be bootstrapped and a confidence interval will be drawn.\n",
    "<br>\n",
    "\n",
    "* **logistic => bool, optional** <br>If True, assume that y is a binary variable and use statsmodels to estimate a logistic regression model. Note that this is substantially more computationally intensive than linear regression, so you may wish to decrease the number of bootstrap resamples (n_boot) or set ci to None.\n",
    "<br>\n",
    "\n",
    "* **logx => bool, optional** <br>If True, estimate a linear regression of the form y ~ log(x), but plot the scatterplot and regression model in the input space. Note that x must be positive for this to work.\n",
    "<br>\n",
    "\n"
   ]
  },
  {
   "cell_type": "markdown",
   "metadata": {},
   "source": [
    "### Other interesting visualisation"
   ]
  },
  {
   "cell_type": "markdown",
   "metadata": {},
   "source": [
    "<code>jointplot()</code> will draw a plot of two variables with bivariate and univariate graphs.\n",
    "\n",
    "Ressource: https://seaborn.pydata.org/generated/seaborn.jointplot.html?highlight=jointplot#seaborn.jointplot"
   ]
  },
  {
   "cell_type": "code",
   "execution_count": null,
   "metadata": {},
   "outputs": [],
   "source": [
    "sns.jointplot(data=data_clean, x=\"bill_length_mm\", y=\"bill_depth_mm\", hue=\"species\")\n",
    "sns.despine()"
   ]
  },
  {
   "cell_type": "code",
   "execution_count": null,
   "metadata": {},
   "outputs": [],
   "source": [
    "sns.jointplot(data=data_clean, x=\"bill_length_mm\", y=\"bill_depth_mm\", kind=\"reg\")\n",
    "sns.despine()"
   ]
  },
  {
   "cell_type": "markdown",
   "metadata": {},
   "source": [
    "***\n",
    "<code>rugplot()</code> will Plot marginal distributions by drawing ticks along the x and y axes..\n",
    "\n",
    "Ressource: https://seaborn.pydata.org/generated/seaborn.rugplot.html?highlight=rugplot#seaborn.rugplot"
   ]
  },
  {
   "cell_type": "code",
   "execution_count": null,
   "metadata": {},
   "outputs": [],
   "source": [
    "sns.scatterplot(data=data_clean, x=\"bill_length_mm\", y=\"bill_depth_mm\", hue=\"species\")\n",
    "sns.rugplot(data=data_clean, x=\"bill_length_mm\", y=\"bill_depth_mm\", hue=\"species\")\n",
    "sns.despine()\n",
    "\n",
    "plt.legend(bbox_to_anchor=(1,1))\n",
    "sns.despine()"
   ]
  }
 ],
 "metadata": {
  "kernelspec": {
   "display_name": "Python 3",
   "language": "python",
   "name": "python3"
  },
  "language_info": {
   "codemirror_mode": {
    "name": "ipython",
    "version": 3
   },
   "file_extension": ".py",
   "mimetype": "text/x-python",
   "name": "python",
   "nbconvert_exporter": "python",
   "pygments_lexer": "ipython3",
   "version": "3.8.5"
  }
 },
 "nbformat": 4,
 "nbformat_minor": 2
}
