{
 "cells": [
  {
   "cell_type": "markdown",
   "metadata": {},
   "source": [
    "Assignment designed by Sébastien Lemieux, from the Université de Montréal\n",
    "<br>\n",
    "All answers were written by Alya Zeinaty\n",
    "<br> Date: July 2022"
   ]
  },
  {
   "cell_type": "markdown",
   "metadata": {},
   "source": [
    "(The spirit when programming: \"*Why spend 5 days doing some work when you can spend 5 weeks automating it!*\")"
   ]
  },
  {
   "cell_type": "markdown",
   "metadata": {},
   "source": [
    "# Creating your own kernel / environment"
   ]
  },
  {
   "cell_type": "markdown",
   "metadata": {},
   "source": [
    "Create a Python environment (where packages are installed):\n",
    "- Open a terminal\n",
    "- `python -m venv bioinfo`\n",
    "- `source bioinfo/bin/activate`"
   ]
  },
  {
   "cell_type": "markdown",
   "metadata": {},
   "source": [
    "Link it to a Jupyter kernel (so that your code execute with it):\n",
    "- `pip install ipykernel`\n",
    "- `python -m ipykernel install --user --name bioinfo --display-name \"Python (bioinfo)\"`"
   ]
  },
  {
   "cell_type": "markdown",
   "metadata": {},
   "source": [
    "Then you can install new packages:\n",
    "- `pip install pandas`"
   ]
  },
  {
   "cell_type": "markdown",
   "metadata": {},
   "source": [
    "In your notebook, you'll need to `Kernel` -> `Change kernel` to this new kernel. It is probably safe to then `Kernel` -> `Restart & clear output`. Make sure this new kernel is the one active (upper right corner of your screen, just below the button `Control Panel`)."
   ]
  },
  {
   "cell_type": "markdown",
   "metadata": {},
   "source": [
    "# Working with real data"
   ]
  },
  {
   "cell_type": "code",
   "execution_count": 54,
   "metadata": {},
   "outputs": [],
   "source": [
    "import pandas as pd"
   ]
  },
  {
   "cell_type": "markdown",
   "metadata": {},
   "source": [
    "## Read from / write to TSV and CSV files (in and out of Excel / R)"
   ]
  },
  {
   "cell_type": "markdown",
   "metadata": {},
   "source": [
    "(Doc: https://pandas.pydata.org/docs/reference/api/pandas.read_table.html#pandas.read_table)"
   ]
  },
  {
   "cell_type": "code",
   "execution_count": 55,
   "metadata": {},
   "outputs": [],
   "source": [
    "df=pd.read_csv(\"kmers.tsv\", sep='\\t')"
   ]
  },
  {
   "cell_type": "markdown",
   "metadata": {},
   "source": [
    "(Doc: https://pandas.pydata.org/docs/reference/api/pandas.DataFrame.to_csv.html)"
   ]
  },
  {
   "cell_type": "code",
   "execution_count": 56,
   "metadata": {},
   "outputs": [
    {
     "data": {
      "text/html": [
       "<div>\n",
       "<style scoped>\n",
       "    .dataframe tbody tr th:only-of-type {\n",
       "        vertical-align: middle;\n",
       "    }\n",
       "\n",
       "    .dataframe tbody tr th {\n",
       "        vertical-align: top;\n",
       "    }\n",
       "\n",
       "    .dataframe thead th {\n",
       "        text-align: right;\n",
       "    }\n",
       "</style>\n",
       "<table border=\"1\" class=\"dataframe\">\n",
       "  <thead>\n",
       "    <tr style=\"text-align: right;\">\n",
       "      <th></th>\n",
       "      <th>Seq</th>\n",
       "      <th>Id</th>\n",
       "      <th>Count</th>\n",
       "    </tr>\n",
       "  </thead>\n",
       "  <tbody>\n",
       "    <tr>\n",
       "      <th>0</th>\n",
       "      <td>AAAAAAAAAAAAAAAAAAAAAAAAAAAAAAA</td>\n",
       "      <td>1</td>\n",
       "      <td>113422</td>\n",
       "    </tr>\n",
       "    <tr>\n",
       "      <th>1</th>\n",
       "      <td>CAGGACTCCAATATAGAGATAAGTTAATGTC</td>\n",
       "      <td>2</td>\n",
       "      <td>93</td>\n",
       "    </tr>\n",
       "    <tr>\n",
       "      <th>2</th>\n",
       "      <td>TATGTAATTGGTTCCAGTGTGAGTCATTAAA</td>\n",
       "      <td>3</td>\n",
       "      <td>5</td>\n",
       "    </tr>\n",
       "    <tr>\n",
       "      <th>3</th>\n",
       "      <td>GATATTTTCGAAAAGTGGGATTTTTTAAACC</td>\n",
       "      <td>4</td>\n",
       "      <td>88</td>\n",
       "    </tr>\n",
       "    <tr>\n",
       "      <th>4</th>\n",
       "      <td>CTCCATCTCAGGTATTAGAATGAATGCTTAC</td>\n",
       "      <td>5</td>\n",
       "      <td>7</td>\n",
       "    </tr>\n",
       "  </tbody>\n",
       "</table>\n",
       "</div>"
      ],
      "text/plain": [
       "                               Seq  Id   Count\n",
       "0  AAAAAAAAAAAAAAAAAAAAAAAAAAAAAAA   1  113422\n",
       "1  CAGGACTCCAATATAGAGATAAGTTAATGTC   2      93\n",
       "2  TATGTAATTGGTTCCAGTGTGAGTCATTAAA   3       5\n",
       "3  GATATTTTCGAAAAGTGGGATTTTTTAAACC   4      88\n",
       "4  CTCCATCTCAGGTATTAGAATGAATGCTTAC   5       7"
      ]
     },
     "execution_count": 56,
     "metadata": {},
     "output_type": "execute_result"
    }
   ],
   "source": [
    "df.head()"
   ]
  },
  {
   "cell_type": "markdown",
   "metadata": {},
   "source": [
    "## Dataframe manipulation"
   ]
  },
  {
   "cell_type": "markdown",
   "metadata": {},
   "source": [
    "(.head(), .tail(), .shape, .Col, sum(), len(), .describe(), [\"Col\"], .drop())"
   ]
  },
  {
   "cell_type": "code",
   "execution_count": 57,
   "metadata": {},
   "outputs": [
    {
     "data": {
      "text/plain": [
       "(4000, 3)"
      ]
     },
     "execution_count": 57,
     "metadata": {},
     "output_type": "execute_result"
    }
   ],
   "source": [
    "df.shape"
   ]
  },
  {
   "cell_type": "markdown",
   "metadata": {},
   "source": [
    "(Arithmetics on columns)"
   ]
  },
  {
   "cell_type": "markdown",
   "metadata": {},
   "source": [
    "## Guided exercise(s) here..."
   ]
  },
  {
   "cell_type": "markdown",
   "metadata": {},
   "source": [
    "### 1) Add a column with nucleotide count (A)\n",
    "([loc](https://pandas.pydata.org/docs/reference/api/pandas.DataFrame.loc.html)[*row*,*col*], .[apply](https://pandas.pydata.org/docs/reference/api/pandas.DataFrame.apply.html)())"
   ]
  },
  {
   "cell_type": "code",
   "execution_count": 58,
   "metadata": {},
   "outputs": [],
   "source": [
    "def count_nuc(seq, nuc):\n",
    "    a=seq.count(nuc)\n",
    "    return a"
   ]
  },
  {
   "cell_type": "markdown",
   "metadata": {},
   "source": [
    "(First step: We'll try to first apply it to the second row, counting As only)"
   ]
  },
  {
   "cell_type": "code",
   "execution_count": 59,
   "metadata": {},
   "outputs": [
    {
     "name": "stdout",
     "output_type": "stream",
     "text": [
      "5\n"
     ]
    }
   ],
   "source": [
    "print(count_nuc('AAAAATTTTT', 'A'))"
   ]
  },
  {
   "cell_type": "markdown",
   "metadata": {},
   "source": [
    "(Doc: https://pandas.pydata.org/pandas-docs/stable/reference/api/pandas.DataFrame.loc.html)"
   ]
  },
  {
   "cell_type": "code",
   "execution_count": 60,
   "metadata": {},
   "outputs": [
    {
     "data": {
      "text/html": [
       "<div>\n",
       "<style scoped>\n",
       "    .dataframe tbody tr th:only-of-type {\n",
       "        vertical-align: middle;\n",
       "    }\n",
       "\n",
       "    .dataframe tbody tr th {\n",
       "        vertical-align: top;\n",
       "    }\n",
       "\n",
       "    .dataframe thead th {\n",
       "        text-align: right;\n",
       "    }\n",
       "</style>\n",
       "<table border=\"1\" class=\"dataframe\">\n",
       "  <thead>\n",
       "    <tr style=\"text-align: right;\">\n",
       "      <th></th>\n",
       "      <th>Seq</th>\n",
       "      <th>Id</th>\n",
       "      <th>Count</th>\n",
       "      <th>A_count</th>\n",
       "    </tr>\n",
       "  </thead>\n",
       "  <tbody>\n",
       "    <tr>\n",
       "      <th>0</th>\n",
       "      <td>AAAAAAAAAAAAAAAAAAAAAAAAAAAAAAA</td>\n",
       "      <td>1</td>\n",
       "      <td>113422</td>\n",
       "      <td>31</td>\n",
       "    </tr>\n",
       "    <tr>\n",
       "      <th>1</th>\n",
       "      <td>CAGGACTCCAATATAGAGATAAGTTAATGTC</td>\n",
       "      <td>2</td>\n",
       "      <td>93</td>\n",
       "      <td>12</td>\n",
       "    </tr>\n",
       "    <tr>\n",
       "      <th>2</th>\n",
       "      <td>TATGTAATTGGTTCCAGTGTGAGTCATTAAA</td>\n",
       "      <td>3</td>\n",
       "      <td>5</td>\n",
       "      <td>9</td>\n",
       "    </tr>\n",
       "    <tr>\n",
       "      <th>3</th>\n",
       "      <td>GATATTTTCGAAAAGTGGGATTTTTTAAACC</td>\n",
       "      <td>4</td>\n",
       "      <td>88</td>\n",
       "      <td>10</td>\n",
       "    </tr>\n",
       "    <tr>\n",
       "      <th>4</th>\n",
       "      <td>CTCCATCTCAGGTATTAGAATGAATGCTTAC</td>\n",
       "      <td>5</td>\n",
       "      <td>7</td>\n",
       "      <td>9</td>\n",
       "    </tr>\n",
       "  </tbody>\n",
       "</table>\n",
       "</div>"
      ],
      "text/plain": [
       "                               Seq  Id   Count  A_count\n",
       "0  AAAAAAAAAAAAAAAAAAAAAAAAAAAAAAA   1  113422       31\n",
       "1  CAGGACTCCAATATAGAGATAAGTTAATGTC   2      93       12\n",
       "2  TATGTAATTGGTTCCAGTGTGAGTCATTAAA   3       5        9\n",
       "3  GATATTTTCGAAAAGTGGGATTTTTTAAACC   4      88       10\n",
       "4  CTCCATCTCAGGTATTAGAATGAATGCTTAC   5       7        9"
      ]
     },
     "execution_count": 60,
     "metadata": {},
     "output_type": "execute_result"
    }
   ],
   "source": [
    "#Adding the A_count column to df\n",
    "A_count=[count_nuc(seq, 'A') for seq in df.Seq]\n",
    "df['A_count']=A_count\n",
    "df.head()"
   ]
  },
  {
   "cell_type": "markdown",
   "metadata": {},
   "source": [
    "(Doc: https://pandas.pydata.org/pandas-docs/stable/reference/api/pandas.DataFrame.apply.html)"
   ]
  },
  {
   "cell_type": "markdown",
   "metadata": {},
   "source": [
    "(Whiz-kid corner: lambda expressions, https://docs.python.org/3/tutorial/controlflow.html#lambda-expressions)"
   ]
  },
  {
   "cell_type": "code",
   "execution_count": 61,
   "metadata": {},
   "outputs": [
    {
     "data": {
      "text/plain": [
       "0       31\n",
       "1       12\n",
       "2        9\n",
       "3       10\n",
       "4        9\n",
       "        ..\n",
       "3995     9\n",
       "3996     6\n",
       "3997     7\n",
       "3998     9\n",
       "3999    10\n",
       "Length: 4000, dtype: int64"
      ]
     },
     "execution_count": 61,
     "metadata": {},
     "output_type": "execute_result"
    }
   ],
   "source": [
    "df.apply(lambda row: count_nuc(row.Seq, 'A'), axis=1)"
   ]
  },
  {
   "cell_type": "markdown",
   "metadata": {},
   "source": [
    "### 2) Show the 10 sequences with the most number of A. How many reads do they represent? What % of the (truncated) transcriptome?\n",
    "(.sort_values())"
   ]
  },
  {
   "cell_type": "markdown",
   "metadata": {},
   "source": [
    "(Doc: https://pandas.pydata.org/pandas-docs/stable/reference/api/pandas.DataFrame.sort_values.html)"
   ]
  },
  {
   "cell_type": "code",
   "execution_count": 62,
   "metadata": {},
   "outputs": [],
   "source": [
    "sorted_df=df.sort_values(by='A_count', ascending=False)"
   ]
  },
  {
   "cell_type": "code",
   "execution_count": 66,
   "metadata": {},
   "outputs": [],
   "source": [
    "first_ten_most_As=sorted_df.head(10)\n",
    "#first_ten_most_As"
   ]
  },
  {
   "cell_type": "code",
   "execution_count": 67,
   "metadata": {},
   "outputs": [
    {
     "name": "stdout",
     "output_type": "stream",
     "text": [
      "The ten sequences with the most number of As are:\n",
      "0       AAAAAAAAAAAAAAAAAAAAAAAAAAAAAAA\n",
      "650     CAAAAAAAAAAAAACAAAAAACAAAAAAACA\n",
      "2507    AAATAACAAAAAATTAAAAAAAAAAAAAAAA\n",
      "168     AAAAAAGATTAAAAAATTAAAAAAAAAAGAA\n",
      "3678    AAAACAAAAACAAAACAAACAAACAAAAAAG\n",
      "3880    AAAGAAAGAAAAAGAAAAAAAAAATAGCACA\n",
      "2321    AATAACAGAAAGAAAACAAAAAGAAAAATAA\n",
      "1663    AAAACAAACAAAAACAAACAAGAAAGAAATC\n",
      "3186    ATAAATAAAAAGGAAAAGAAAAGAAAAGAAG\n",
      "3491    AAAAGAAGACAAAAGAAAAGAGAAAGAAGAA\n",
      "Name: Seq, dtype: object\n"
     ]
    }
   ],
   "source": [
    "#Ten sequences with the most number of As:\n",
    "print(\"The ten sequences with the most number of As are:\")\n",
    "print(first_ten_most_As.Seq)"
   ]
  },
  {
   "cell_type": "code",
   "execution_count": 68,
   "metadata": {},
   "outputs": [
    {
     "name": "stdout",
     "output_type": "stream",
     "text": [
      "The number of reads they represent is 113579.\n"
     ]
    }
   ],
   "source": [
    "#number of reads represented\n",
    "print(\"The number of reads they represent is \" +str(first_ten_most_As.Count.sum())+\".\")"
   ]
  },
  {
   "cell_type": "code",
   "execution_count": 69,
   "metadata": {},
   "outputs": [
    {
     "name": "stdout",
     "output_type": "stream",
     "text": [
      "The percentage of the transcriptome they represent is 30.478896975161547%.\n"
     ]
    }
   ],
   "source": [
    "#percentage of the transcriptome\n",
    "print(\"The percentage of the transcriptome they represent is \"+str(first_ten_most_As.Count.sum()/df.Count.sum()*100)+\"%.\")"
   ]
  },
  {
   "cell_type": "markdown",
   "metadata": {},
   "source": [
    "### 3) How many sequences with 25 or more As?\n",
    "(Cond. row selection)"
   ]
  },
  {
   "cell_type": "code",
   "execution_count": 70,
   "metadata": {},
   "outputs": [
    {
     "name": "stdout",
     "output_type": "stream",
     "text": [
      "The number of sequences with 25 or more As is 5.\n"
     ]
    }
   ],
   "source": [
    "print(\"The number of sequences with 25 or more As is \"+str(df[df.A_count>=25].shape[0])+\".\")"
   ]
  },
  {
   "cell_type": "markdown",
   "metadata": {},
   "source": [
    "### 4) Clean up the dataframe (or re-run), add counts for all 4 nucl"
   ]
  },
  {
   "cell_type": "code",
   "execution_count": 71,
   "metadata": {
    "scrolled": true
   },
   "outputs": [
    {
     "data": {
      "text/html": [
       "<div>\n",
       "<style scoped>\n",
       "    .dataframe tbody tr th:only-of-type {\n",
       "        vertical-align: middle;\n",
       "    }\n",
       "\n",
       "    .dataframe tbody tr th {\n",
       "        vertical-align: top;\n",
       "    }\n",
       "\n",
       "    .dataframe thead th {\n",
       "        text-align: right;\n",
       "    }\n",
       "</style>\n",
       "<table border=\"1\" class=\"dataframe\">\n",
       "  <thead>\n",
       "    <tr style=\"text-align: right;\">\n",
       "      <th></th>\n",
       "      <th>Seq</th>\n",
       "      <th>Id</th>\n",
       "      <th>Count</th>\n",
       "      <th>A_count</th>\n",
       "      <th>C_count</th>\n",
       "      <th>G_count</th>\n",
       "      <th>T_count</th>\n",
       "    </tr>\n",
       "  </thead>\n",
       "  <tbody>\n",
       "    <tr>\n",
       "      <th>0</th>\n",
       "      <td>AAAAAAAAAAAAAAAAAAAAAAAAAAAAAAA</td>\n",
       "      <td>1</td>\n",
       "      <td>113422</td>\n",
       "      <td>31</td>\n",
       "      <td>0</td>\n",
       "      <td>0</td>\n",
       "      <td>0</td>\n",
       "    </tr>\n",
       "    <tr>\n",
       "      <th>1</th>\n",
       "      <td>CAGGACTCCAATATAGAGATAAGTTAATGTC</td>\n",
       "      <td>2</td>\n",
       "      <td>93</td>\n",
       "      <td>12</td>\n",
       "      <td>5</td>\n",
       "      <td>6</td>\n",
       "      <td>8</td>\n",
       "    </tr>\n",
       "    <tr>\n",
       "      <th>2</th>\n",
       "      <td>TATGTAATTGGTTCCAGTGTGAGTCATTAAA</td>\n",
       "      <td>3</td>\n",
       "      <td>5</td>\n",
       "      <td>9</td>\n",
       "      <td>3</td>\n",
       "      <td>7</td>\n",
       "      <td>12</td>\n",
       "    </tr>\n",
       "    <tr>\n",
       "      <th>3</th>\n",
       "      <td>GATATTTTCGAAAAGTGGGATTTTTTAAACC</td>\n",
       "      <td>4</td>\n",
       "      <td>88</td>\n",
       "      <td>10</td>\n",
       "      <td>3</td>\n",
       "      <td>6</td>\n",
       "      <td>12</td>\n",
       "    </tr>\n",
       "    <tr>\n",
       "      <th>4</th>\n",
       "      <td>CTCCATCTCAGGTATTAGAATGAATGCTTAC</td>\n",
       "      <td>5</td>\n",
       "      <td>7</td>\n",
       "      <td>9</td>\n",
       "      <td>7</td>\n",
       "      <td>5</td>\n",
       "      <td>10</td>\n",
       "    </tr>\n",
       "  </tbody>\n",
       "</table>\n",
       "</div>"
      ],
      "text/plain": [
       "                               Seq  Id   Count  A_count  C_count  G_count  \\\n",
       "0  AAAAAAAAAAAAAAAAAAAAAAAAAAAAAAA   1  113422       31        0        0   \n",
       "1  CAGGACTCCAATATAGAGATAAGTTAATGTC   2      93       12        5        6   \n",
       "2  TATGTAATTGGTTCCAGTGTGAGTCATTAAA   3       5        9        3        7   \n",
       "3  GATATTTTCGAAAAGTGGGATTTTTTAAACC   4      88       10        3        6   \n",
       "4  CTCCATCTCAGGTATTAGAATGAATGCTTAC   5       7        9        7        5   \n",
       "\n",
       "   T_count  \n",
       "0        0  \n",
       "1        8  \n",
       "2       12  \n",
       "3       12  \n",
       "4       10  "
      ]
     },
     "execution_count": 71,
     "metadata": {},
     "output_type": "execute_result"
    }
   ],
   "source": [
    "nuc_count_dict={'C_count':[], 'G_count':[], 'T_count':[]}\n",
    "for key in nuc_count_dict.keys():\n",
    "    nuc_count_dict[key]=[count_nuc(seq, key[0]) for seq in df.Seq]\n",
    "    df[key]=nuc_count_dict[key]\n",
    "df.head()"
   ]
  },
  {
   "cell_type": "markdown",
   "metadata": {},
   "source": [
    "(Whiz kid corner: a function returning a function)"
   ]
  },
  {
   "cell_type": "markdown",
   "metadata": {},
   "source": [
    "### 5) Add a %GC column"
   ]
  },
  {
   "cell_type": "code",
   "execution_count": 72,
   "metadata": {},
   "outputs": [],
   "source": [
    "df['GC_percentage']=((df['G_count']+df['C_count'])/(df['A_count']+df['T_count']+df['G_count']+df['C_count'])*100)"
   ]
  },
  {
   "cell_type": "code",
   "execution_count": 73,
   "metadata": {},
   "outputs": [
    {
     "data": {
      "text/html": [
       "<div>\n",
       "<style scoped>\n",
       "    .dataframe tbody tr th:only-of-type {\n",
       "        vertical-align: middle;\n",
       "    }\n",
       "\n",
       "    .dataframe tbody tr th {\n",
       "        vertical-align: top;\n",
       "    }\n",
       "\n",
       "    .dataframe thead th {\n",
       "        text-align: right;\n",
       "    }\n",
       "</style>\n",
       "<table border=\"1\" class=\"dataframe\">\n",
       "  <thead>\n",
       "    <tr style=\"text-align: right;\">\n",
       "      <th></th>\n",
       "      <th>Id</th>\n",
       "      <th>Count</th>\n",
       "      <th>A_count</th>\n",
       "      <th>C_count</th>\n",
       "      <th>G_count</th>\n",
       "      <th>T_count</th>\n",
       "      <th>GC_percentage</th>\n",
       "    </tr>\n",
       "  </thead>\n",
       "  <tbody>\n",
       "    <tr>\n",
       "      <th>count</th>\n",
       "      <td>4000.000000</td>\n",
       "      <td>4000.000000</td>\n",
       "      <td>4000.000000</td>\n",
       "      <td>4000.000000</td>\n",
       "      <td>4000.000000</td>\n",
       "      <td>4000.00000</td>\n",
       "      <td>4000.000000</td>\n",
       "    </tr>\n",
       "    <tr>\n",
       "      <th>mean</th>\n",
       "      <td>2000.500000</td>\n",
       "      <td>93.162000</td>\n",
       "      <td>9.427000</td>\n",
       "      <td>7.058500</td>\n",
       "      <td>6.840750</td>\n",
       "      <td>7.67375</td>\n",
       "      <td>44.836290</td>\n",
       "    </tr>\n",
       "    <tr>\n",
       "      <th>std</th>\n",
       "      <td>1154.844867</td>\n",
       "      <td>1804.997654</td>\n",
       "      <td>3.637922</td>\n",
       "      <td>3.313732</td>\n",
       "      <td>3.118464</td>\n",
       "      <td>3.19654</td>\n",
       "      <td>13.908145</td>\n",
       "    </tr>\n",
       "    <tr>\n",
       "      <th>min</th>\n",
       "      <td>1.000000</td>\n",
       "      <td>5.000000</td>\n",
       "      <td>0.000000</td>\n",
       "      <td>0.000000</td>\n",
       "      <td>0.000000</td>\n",
       "      <td>0.00000</td>\n",
       "      <td>0.000000</td>\n",
       "    </tr>\n",
       "    <tr>\n",
       "      <th>25%</th>\n",
       "      <td>1000.750000</td>\n",
       "      <td>7.000000</td>\n",
       "      <td>7.000000</td>\n",
       "      <td>5.000000</td>\n",
       "      <td>5.000000</td>\n",
       "      <td>5.00000</td>\n",
       "      <td>35.483871</td>\n",
       "    </tr>\n",
       "    <tr>\n",
       "      <th>50%</th>\n",
       "      <td>2000.500000</td>\n",
       "      <td>14.000000</td>\n",
       "      <td>9.000000</td>\n",
       "      <td>7.000000</td>\n",
       "      <td>7.000000</td>\n",
       "      <td>7.00000</td>\n",
       "      <td>45.161290</td>\n",
       "    </tr>\n",
       "    <tr>\n",
       "      <th>75%</th>\n",
       "      <td>3000.250000</td>\n",
       "      <td>42.000000</td>\n",
       "      <td>12.000000</td>\n",
       "      <td>9.000000</td>\n",
       "      <td>9.000000</td>\n",
       "      <td>10.00000</td>\n",
       "      <td>54.838710</td>\n",
       "    </tr>\n",
       "    <tr>\n",
       "      <th>max</th>\n",
       "      <td>4000.000000</td>\n",
       "      <td>113422.000000</td>\n",
       "      <td>31.000000</td>\n",
       "      <td>21.000000</td>\n",
       "      <td>20.000000</td>\n",
       "      <td>20.00000</td>\n",
       "      <td>87.096774</td>\n",
       "    </tr>\n",
       "  </tbody>\n",
       "</table>\n",
       "</div>"
      ],
      "text/plain": [
       "                Id          Count      A_count      C_count      G_count  \\\n",
       "count  4000.000000    4000.000000  4000.000000  4000.000000  4000.000000   \n",
       "mean   2000.500000      93.162000     9.427000     7.058500     6.840750   \n",
       "std    1154.844867    1804.997654     3.637922     3.313732     3.118464   \n",
       "min       1.000000       5.000000     0.000000     0.000000     0.000000   \n",
       "25%    1000.750000       7.000000     7.000000     5.000000     5.000000   \n",
       "50%    2000.500000      14.000000     9.000000     7.000000     7.000000   \n",
       "75%    3000.250000      42.000000    12.000000     9.000000     9.000000   \n",
       "max    4000.000000  113422.000000    31.000000    21.000000    20.000000   \n",
       "\n",
       "          T_count  GC_percentage  \n",
       "count  4000.00000    4000.000000  \n",
       "mean      7.67375      44.836290  \n",
       "std       3.19654      13.908145  \n",
       "min       0.00000       0.000000  \n",
       "25%       5.00000      35.483871  \n",
       "50%       7.00000      45.161290  \n",
       "75%      10.00000      54.838710  \n",
       "max      20.00000      87.096774  "
      ]
     },
     "execution_count": 73,
     "metadata": {},
     "output_type": "execute_result"
    }
   ],
   "source": [
    "df.describe()"
   ]
  },
  {
   "cell_type": "markdown",
   "metadata": {},
   "source": [
    "### 6) And find the 10 sequences with highest GC content. How many reads do they represent?\n",
    "(as a bonus, store this result in a new dataframe with only columns: Seq, Id, Count and %GC. You might need a few extra \"tricks\" with .loc[:,[\"Col1\", \"Col2\"])"
   ]
  },
  {
   "cell_type": "code",
   "execution_count": 74,
   "metadata": {
    "scrolled": true
   },
   "outputs": [
    {
     "data": {
      "text/html": [
       "<div>\n",
       "<style scoped>\n",
       "    .dataframe tbody tr th:only-of-type {\n",
       "        vertical-align: middle;\n",
       "    }\n",
       "\n",
       "    .dataframe tbody tr th {\n",
       "        vertical-align: top;\n",
       "    }\n",
       "\n",
       "    .dataframe thead th {\n",
       "        text-align: right;\n",
       "    }\n",
       "</style>\n",
       "<table border=\"1\" class=\"dataframe\">\n",
       "  <thead>\n",
       "    <tr style=\"text-align: right;\">\n",
       "      <th></th>\n",
       "      <th>Seq</th>\n",
       "      <th>Id</th>\n",
       "      <th>Count</th>\n",
       "      <th>A_count</th>\n",
       "      <th>C_count</th>\n",
       "      <th>G_count</th>\n",
       "      <th>T_count</th>\n",
       "      <th>GC_percentage</th>\n",
       "    </tr>\n",
       "  </thead>\n",
       "  <tbody>\n",
       "    <tr>\n",
       "      <th>1735</th>\n",
       "      <td>CTGCCCGCGCCCGCCGCCCAGGACCCCGCAC</td>\n",
       "      <td>1736</td>\n",
       "      <td>6</td>\n",
       "      <td>3</td>\n",
       "      <td>19</td>\n",
       "      <td>8</td>\n",
       "      <td>1</td>\n",
       "      <td>87.096774</td>\n",
       "    </tr>\n",
       "    <tr>\n",
       "      <th>963</th>\n",
       "      <td>CCGCGCCGCCCGGGCACCATGGCGGGGAAGG</td>\n",
       "      <td>964</td>\n",
       "      <td>7</td>\n",
       "      <td>4</td>\n",
       "      <td>12</td>\n",
       "      <td>14</td>\n",
       "      <td>1</td>\n",
       "      <td>83.870968</td>\n",
       "    </tr>\n",
       "    <tr>\n",
       "      <th>1751</th>\n",
       "      <td>CGGCGGTTGGCGGGGCACCACGGGAGGGGCC</td>\n",
       "      <td>1752</td>\n",
       "      <td>19</td>\n",
       "      <td>3</td>\n",
       "      <td>9</td>\n",
       "      <td>17</td>\n",
       "      <td>2</td>\n",
       "      <td>83.870968</td>\n",
       "    </tr>\n",
       "    <tr>\n",
       "      <th>233</th>\n",
       "      <td>ACCCGGCGCCCGGCCAGTCCTGCGCGTCCCC</td>\n",
       "      <td>234</td>\n",
       "      <td>38</td>\n",
       "      <td>2</td>\n",
       "      <td>17</td>\n",
       "      <td>9</td>\n",
       "      <td>3</td>\n",
       "      <td>83.870968</td>\n",
       "    </tr>\n",
       "    <tr>\n",
       "      <th>1508</th>\n",
       "      <td>ACGCACCCCTCCCCGGCCTGGGCGGCGGCGA</td>\n",
       "      <td>1509</td>\n",
       "      <td>72</td>\n",
       "      <td>3</td>\n",
       "      <td>15</td>\n",
       "      <td>11</td>\n",
       "      <td>2</td>\n",
       "      <td>83.870968</td>\n",
       "    </tr>\n",
       "    <tr>\n",
       "      <th>3021</th>\n",
       "      <td>GGGTCCGGCGCCGCCGGCTGCGGCTTCGCGA</td>\n",
       "      <td>3022</td>\n",
       "      <td>21</td>\n",
       "      <td>1</td>\n",
       "      <td>12</td>\n",
       "      <td>14</td>\n",
       "      <td>4</td>\n",
       "      <td>83.870968</td>\n",
       "    </tr>\n",
       "    <tr>\n",
       "      <th>1222</th>\n",
       "      <td>CTGCGGGGGGCCTGCGGAGACGGCGCCCGCA</td>\n",
       "      <td>1223</td>\n",
       "      <td>5</td>\n",
       "      <td>3</td>\n",
       "      <td>11</td>\n",
       "      <td>15</td>\n",
       "      <td>2</td>\n",
       "      <td>83.870968</td>\n",
       "    </tr>\n",
       "    <tr>\n",
       "      <th>3390</th>\n",
       "      <td>GCACGGGCGAAGGGGCCGCGGCCGCATGCCC</td>\n",
       "      <td>3391</td>\n",
       "      <td>64</td>\n",
       "      <td>4</td>\n",
       "      <td>12</td>\n",
       "      <td>14</td>\n",
       "      <td>1</td>\n",
       "      <td>83.870968</td>\n",
       "    </tr>\n",
       "    <tr>\n",
       "      <th>2021</th>\n",
       "      <td>CAGCCAGGGCGCCAGCCCCCAGCCCCAGCAC</td>\n",
       "      <td>2022</td>\n",
       "      <td>56</td>\n",
       "      <td>6</td>\n",
       "      <td>17</td>\n",
       "      <td>8</td>\n",
       "      <td>0</td>\n",
       "      <td>80.645161</td>\n",
       "    </tr>\n",
       "    <tr>\n",
       "      <th>2587</th>\n",
       "      <td>GCTCCCGGGGGAAGGCCCCCCCGCCAGATCC</td>\n",
       "      <td>2588</td>\n",
       "      <td>5</td>\n",
       "      <td>4</td>\n",
       "      <td>15</td>\n",
       "      <td>10</td>\n",
       "      <td>2</td>\n",
       "      <td>80.645161</td>\n",
       "    </tr>\n",
       "  </tbody>\n",
       "</table>\n",
       "</div>"
      ],
      "text/plain": [
       "                                  Seq    Id  Count  A_count  C_count  G_count  \\\n",
       "1735  CTGCCCGCGCCCGCCGCCCAGGACCCCGCAC  1736      6        3       19        8   \n",
       "963   CCGCGCCGCCCGGGCACCATGGCGGGGAAGG   964      7        4       12       14   \n",
       "1751  CGGCGGTTGGCGGGGCACCACGGGAGGGGCC  1752     19        3        9       17   \n",
       "233   ACCCGGCGCCCGGCCAGTCCTGCGCGTCCCC   234     38        2       17        9   \n",
       "1508  ACGCACCCCTCCCCGGCCTGGGCGGCGGCGA  1509     72        3       15       11   \n",
       "3021  GGGTCCGGCGCCGCCGGCTGCGGCTTCGCGA  3022     21        1       12       14   \n",
       "1222  CTGCGGGGGGCCTGCGGAGACGGCGCCCGCA  1223      5        3       11       15   \n",
       "3390  GCACGGGCGAAGGGGCCGCGGCCGCATGCCC  3391     64        4       12       14   \n",
       "2021  CAGCCAGGGCGCCAGCCCCCAGCCCCAGCAC  2022     56        6       17        8   \n",
       "2587  GCTCCCGGGGGAAGGCCCCCCCGCCAGATCC  2588      5        4       15       10   \n",
       "\n",
       "      T_count  GC_percentage  \n",
       "1735        1      87.096774  \n",
       "963         1      83.870968  \n",
       "1751        2      83.870968  \n",
       "233         3      83.870968  \n",
       "1508        2      83.870968  \n",
       "3021        4      83.870968  \n",
       "1222        2      83.870968  \n",
       "3390        1      83.870968  \n",
       "2021        0      80.645161  \n",
       "2587        2      80.645161  "
      ]
     },
     "execution_count": 74,
     "metadata": {},
     "output_type": "execute_result"
    }
   ],
   "source": [
    "(df.sort_values(by='GC_percentage', ascending=False)).head(10)"
   ]
  },
  {
   "cell_type": "code",
   "execution_count": 75,
   "metadata": {},
   "outputs": [],
   "source": [
    "new_df_GCpercentage=df[['Seq', 'Id', 'Count','GC_percentage']]"
   ]
  },
  {
   "cell_type": "code",
   "execution_count": 76,
   "metadata": {},
   "outputs": [
    {
     "name": "stdout",
     "output_type": "stream",
     "text": [
      "The number of reads that they represent is 293.\n"
     ]
    }
   ],
   "source": [
    "#The number of reads that they represent\n",
    "nb_reads=(df.sort_values(by='GC_percentage', ascending=False)).head(10).Count.sum()\n",
    "print(\"The number of reads that they represent is \" +str(nb_reads)+ \".\")"
   ]
  },
  {
   "cell_type": "markdown",
   "metadata": {},
   "source": [
    "### 7) How many sequences with ≥ 50%GC? What is the %GC of all the sequences together? How many sequence have %GC above the expected value?"
   ]
  },
  {
   "cell_type": "code",
   "execution_count": 77,
   "metadata": {},
   "outputs": [
    {
     "name": "stdout",
     "output_type": "stream",
     "text": [
      "The number of sequences with a GC percentage over 50 is 1453.\n"
     ]
    }
   ],
   "source": [
    "print(\"The number of sequences with a GC percentage over 50 is \"+ \n",
    "      str(new_df_GCpercentage[new_df_GCpercentage.GC_percentage>=50].shape[0])+\".\")"
   ]
  },
  {
   "cell_type": "code",
   "execution_count": 78,
   "metadata": {},
   "outputs": [
    {
     "name": "stdout",
     "output_type": "stream",
     "text": [
      "The GC percentage on the whole file is 44.836290322580645.\n"
     ]
    }
   ],
   "source": [
    "#%GC of all the sequences together\n",
    "#add a column length of sequence\n",
    "#df['Seq_Length']=df.apply(lambda row : len(row.Seq), axis=1) useless but cool\n",
    "\n",
    "#Find the %GC of everything combined\n",
    "total_GC_perc=((df['G_count']+df['C_count']).sum()/(df['A_count']+df['T_count']+df['G_count']+df['C_count']).sum()*100)\n",
    "\n",
    "print(\"The GC percentage on the whole file is \"+ str(total_GC_perc)+\".\")"
   ]
  },
  {
   "cell_type": "code",
   "execution_count": 79,
   "metadata": {},
   "outputs": [
    {
     "name": "stdout",
     "output_type": "stream",
     "text": [
      "The number of sequences that have a GC above expected value 2104.\n"
     ]
    }
   ],
   "source": [
    "#Number of sequences that have a GC above expected value\n",
    "print(\"The number of sequences that have a GC above expected value \"+ \n",
    "      str(new_df_GCpercentage[new_df_GCpercentage.GC_percentage>=total_GC_perc].shape[0])+\".\")"
   ]
  },
  {
   "cell_type": "markdown",
   "metadata": {},
   "source": [
    "### (*For fun*): Which sequence would form the longest stem linking the 5' and 3' extremities?\n",
    "(Answer: ATGAATTGAGTTGTGTCCCCCCAAAATTCAT, 7 base pairs, line number 2827)"
   ]
  },
  {
   "cell_type": "code",
   "execution_count": 80,
   "metadata": {},
   "outputs": [
    {
     "data": {
      "text/plain": [
       "3"
      ]
     },
     "execution_count": 80,
     "metadata": {},
     "output_type": "execute_result"
    }
   ],
   "source": [
    "nuc_match={'A':'T', 'C':'G', 'T':'A', 'G':'C'}\n",
    "\n",
    "def stemlinklength(seq):\n",
    "    counter=0\n",
    "    n=len(seq)\n",
    "    while nuc_match[seq[counter]]==seq[n-counter-1] and n-counter-1>counter:\n",
    "        counter+=1\n",
    "    return counter\n",
    "\n",
    "stemlinklength('AAATTT')"
   ]
  },
  {
   "cell_type": "code",
   "execution_count": 81,
   "metadata": {},
   "outputs": [],
   "source": [
    "df['Stem_link_length']=df.apply(lambda row : stemlinklength(row.Seq), axis=1) "
   ]
  },
  {
   "cell_type": "code",
   "execution_count": 82,
   "metadata": {},
   "outputs": [],
   "source": [
    "df_sorted_by_stem_link_length=df.sort_values(by='Stem_link_length', axis=0, ascending=False)"
   ]
  },
  {
   "cell_type": "code",
   "execution_count": 83,
   "metadata": {},
   "outputs": [
    {
     "data": {
      "text/html": [
       "<div>\n",
       "<style scoped>\n",
       "    .dataframe tbody tr th:only-of-type {\n",
       "        vertical-align: middle;\n",
       "    }\n",
       "\n",
       "    .dataframe tbody tr th {\n",
       "        vertical-align: top;\n",
       "    }\n",
       "\n",
       "    .dataframe thead th {\n",
       "        text-align: right;\n",
       "    }\n",
       "</style>\n",
       "<table border=\"1\" class=\"dataframe\">\n",
       "  <thead>\n",
       "    <tr style=\"text-align: right;\">\n",
       "      <th></th>\n",
       "      <th>Seq</th>\n",
       "      <th>Id</th>\n",
       "      <th>Count</th>\n",
       "      <th>A_count</th>\n",
       "      <th>C_count</th>\n",
       "      <th>G_count</th>\n",
       "      <th>T_count</th>\n",
       "      <th>GC_percentage</th>\n",
       "      <th>Stem_link_length</th>\n",
       "    </tr>\n",
       "  </thead>\n",
       "  <tbody>\n",
       "    <tr>\n",
       "      <th>2827</th>\n",
       "      <td>ATGAATTGAGTTGTGTCCCCCCAAAATTCAT</td>\n",
       "      <td>2828</td>\n",
       "      <td>12</td>\n",
       "      <td>9</td>\n",
       "      <td>7</td>\n",
       "      <td>5</td>\n",
       "      <td>10</td>\n",
       "      <td>38.709677</td>\n",
       "      <td>7</td>\n",
       "    </tr>\n",
       "    <tr>\n",
       "      <th>3956</th>\n",
       "      <td>GCTGGCAGAGGGCGCGCCAACAGCCGCCAGC</td>\n",
       "      <td>3957</td>\n",
       "      <td>10</td>\n",
       "      <td>6</td>\n",
       "      <td>12</td>\n",
       "      <td>12</td>\n",
       "      <td>1</td>\n",
       "      <td>77.419355</td>\n",
       "      <td>6</td>\n",
       "    </tr>\n",
       "    <tr>\n",
       "      <th>2022</th>\n",
       "      <td>GGCTCGAACCACCTCTTCTCTGAGCCGAGCC</td>\n",
       "      <td>2023</td>\n",
       "      <td>132</td>\n",
       "      <td>5</td>\n",
       "      <td>13</td>\n",
       "      <td>7</td>\n",
       "      <td>6</td>\n",
       "      <td>64.516129</td>\n",
       "      <td>6</td>\n",
       "    </tr>\n",
       "    <tr>\n",
       "      <th>2115</th>\n",
       "      <td>GAGGGAGTGGCGACACCACCACAGTGCCCTC</td>\n",
       "      <td>2116</td>\n",
       "      <td>16</td>\n",
       "      <td>7</td>\n",
       "      <td>11</td>\n",
       "      <td>10</td>\n",
       "      <td>3</td>\n",
       "      <td>67.741935</td>\n",
       "      <td>5</td>\n",
       "    </tr>\n",
       "    <tr>\n",
       "      <th>915</th>\n",
       "      <td>CCTTACTTCTGTTAATGGTGTGATAGAAAGG</td>\n",
       "      <td>916</td>\n",
       "      <td>5</td>\n",
       "      <td>8</td>\n",
       "      <td>4</td>\n",
       "      <td>8</td>\n",
       "      <td>11</td>\n",
       "      <td>38.709677</td>\n",
       "      <td>4</td>\n",
       "    </tr>\n",
       "    <tr>\n",
       "      <th>...</th>\n",
       "      <td>...</td>\n",
       "      <td>...</td>\n",
       "      <td>...</td>\n",
       "      <td>...</td>\n",
       "      <td>...</td>\n",
       "      <td>...</td>\n",
       "      <td>...</td>\n",
       "      <td>...</td>\n",
       "      <td>...</td>\n",
       "    </tr>\n",
       "    <tr>\n",
       "      <th>1545</th>\n",
       "      <td>ACGTAGCATCCTCCAGGGAGTGAGTTGGAAC</td>\n",
       "      <td>1546</td>\n",
       "      <td>12</td>\n",
       "      <td>8</td>\n",
       "      <td>7</td>\n",
       "      <td>10</td>\n",
       "      <td>6</td>\n",
       "      <td>54.838710</td>\n",
       "      <td>0</td>\n",
       "    </tr>\n",
       "    <tr>\n",
       "      <th>1546</th>\n",
       "      <td>AGTGAACCAGTATTTTCCAGATGACCAATGC</td>\n",
       "      <td>1547</td>\n",
       "      <td>17</td>\n",
       "      <td>10</td>\n",
       "      <td>7</td>\n",
       "      <td>6</td>\n",
       "      <td>8</td>\n",
       "      <td>41.935484</td>\n",
       "      <td>0</td>\n",
       "    </tr>\n",
       "    <tr>\n",
       "      <th>1548</th>\n",
       "      <td>AACTTGTTTTACAAATCTGGGTGCTTCTGTA</td>\n",
       "      <td>1549</td>\n",
       "      <td>7</td>\n",
       "      <td>7</td>\n",
       "      <td>5</td>\n",
       "      <td>6</td>\n",
       "      <td>13</td>\n",
       "      <td>35.483871</td>\n",
       "      <td>0</td>\n",
       "    </tr>\n",
       "    <tr>\n",
       "      <th>1549</th>\n",
       "      <td>GAAGCAAATTAATATTGTATCAGGTTTTGAA</td>\n",
       "      <td>1550</td>\n",
       "      <td>5</td>\n",
       "      <td>12</td>\n",
       "      <td>2</td>\n",
       "      <td>6</td>\n",
       "      <td>11</td>\n",
       "      <td>25.806452</td>\n",
       "      <td>0</td>\n",
       "    </tr>\n",
       "    <tr>\n",
       "      <th>3999</th>\n",
       "      <td>AAACCCAGTCACTGGACACCTAAGTGTCCAC</td>\n",
       "      <td>4000</td>\n",
       "      <td>11</td>\n",
       "      <td>10</td>\n",
       "      <td>11</td>\n",
       "      <td>5</td>\n",
       "      <td>5</td>\n",
       "      <td>51.612903</td>\n",
       "      <td>0</td>\n",
       "    </tr>\n",
       "  </tbody>\n",
       "</table>\n",
       "<p>4000 rows × 9 columns</p>\n",
       "</div>"
      ],
      "text/plain": [
       "                                  Seq    Id  Count  A_count  C_count  G_count  \\\n",
       "2827  ATGAATTGAGTTGTGTCCCCCCAAAATTCAT  2828     12        9        7        5   \n",
       "3956  GCTGGCAGAGGGCGCGCCAACAGCCGCCAGC  3957     10        6       12       12   \n",
       "2022  GGCTCGAACCACCTCTTCTCTGAGCCGAGCC  2023    132        5       13        7   \n",
       "2115  GAGGGAGTGGCGACACCACCACAGTGCCCTC  2116     16        7       11       10   \n",
       "915   CCTTACTTCTGTTAATGGTGTGATAGAAAGG   916      5        8        4        8   \n",
       "...                               ...   ...    ...      ...      ...      ...   \n",
       "1545  ACGTAGCATCCTCCAGGGAGTGAGTTGGAAC  1546     12        8        7       10   \n",
       "1546  AGTGAACCAGTATTTTCCAGATGACCAATGC  1547     17       10        7        6   \n",
       "1548  AACTTGTTTTACAAATCTGGGTGCTTCTGTA  1549      7        7        5        6   \n",
       "1549  GAAGCAAATTAATATTGTATCAGGTTTTGAA  1550      5       12        2        6   \n",
       "3999  AAACCCAGTCACTGGACACCTAAGTGTCCAC  4000     11       10       11        5   \n",
       "\n",
       "      T_count  GC_percentage  Stem_link_length  \n",
       "2827       10      38.709677                 7  \n",
       "3956        1      77.419355                 6  \n",
       "2022        6      64.516129                 6  \n",
       "2115        3      67.741935                 5  \n",
       "915        11      38.709677                 4  \n",
       "...       ...            ...               ...  \n",
       "1545        6      54.838710                 0  \n",
       "1546        8      41.935484                 0  \n",
       "1548       13      35.483871                 0  \n",
       "1549       11      25.806452                 0  \n",
       "3999        5      51.612903                 0  \n",
       "\n",
       "[4000 rows x 9 columns]"
      ]
     },
     "execution_count": 83,
     "metadata": {},
     "output_type": "execute_result"
    }
   ],
   "source": [
    "df_sorted_by_stem_link_length"
   ]
  }
 ],
 "metadata": {
  "kernelspec": {
   "display_name": "Python 3",
   "language": "python",
   "name": "python3"
  },
  "language_info": {
   "codemirror_mode": {
    "name": "ipython",
    "version": 3
   },
   "file_extension": ".py",
   "mimetype": "text/x-python",
   "name": "python",
   "nbconvert_exporter": "python",
   "pygments_lexer": "ipython3",
   "version": "3.8.5"
  }
 },
 "nbformat": 4,
 "nbformat_minor": 2
}
