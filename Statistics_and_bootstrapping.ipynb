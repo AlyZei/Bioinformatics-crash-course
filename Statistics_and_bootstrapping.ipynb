{
 "cells": [
  {
   "cell_type": "markdown",
   "metadata": {},
   "source": [
    "# BIM6065C-E22\n",
    "\n",
    "Assignment designed by Albert Feghaly\n",
    "\n",
    "Answers wriiten by Alya Zeinaty"
   ]
  },
  {
   "cell_type": "markdown",
   "metadata": {},
   "source": [
    "## Summary"
   ]
  },
  {
   "cell_type": "markdown",
   "metadata": {},
   "source": [
    "_Goal of the assignment: determining with a certain degree of confidence how likely it is that a random drawing of six 6-sided dice gives a sum over 50._\n",
    "\n",
    "<br>\n",
    "A. Trying random resamplings <br> <br>\n",
    "B. Bootstrap approach to test our hypothesis <br> <br>\n",
    "        -- Calculating p-values and confidence intervals <br>\n",
    "        -- Concluding <br>"
   ]
  },
  {
   "cell_type": "markdown",
   "metadata": {},
   "source": [
    "#### 0. Setup your environment"
   ]
  },
  {
   "cell_type": "code",
   "execution_count": 1,
   "metadata": {},
   "outputs": [
    {
     "data": {
      "text/plain": [
       "DataTransformerRegistry.enable('json_dir')"
      ]
     },
     "execution_count": 1,
     "metadata": {},
     "output_type": "execute_result"
    }
   ],
   "source": [
    "from random import choices, seed\n",
    "import altair as alt\n",
    "import pandas as pd\n",
    "import os\n",
    "import numpy as np\n",
    "\n",
    "def json_dir(data, data_dir='altairdata'):\n",
    "    os.makedirs(data_dir, exist_ok=True)\n",
    "    return alt.pipe(data, alt.to_json(filename=data_dir + '/{prefix}-{hash}.{extension}'))\n",
    "alt.data_transformers.register('json_dir', json_dir)\n",
    "alt.data_transformers.enable('json_dir')"
   ]
  },
  {
   "cell_type": "markdown",
   "metadata": {},
   "source": [
    "#### 1. Statistics\n",
    "Here we review code used during the presentation and break it down"
   ]
  },
  {
   "cell_type": "markdown",
   "metadata": {},
   "source": [
    "## A. Random resamplings"
   ]
  },
  {
   "cell_type": "markdown",
   "metadata": {},
   "source": [
    "_Code from presenation_"
   ]
  },
  {
   "cell_type": "code",
   "execution_count": 2,
   "metadata": {},
   "outputs": [
    {
     "name": "stdout",
     "output_type": "stream",
     "text": [
      "0.00302\n"
     ]
    }
   ],
   "source": [
    "from random import sample, seed\n",
    "values = [1,2,3,4,5,6]\n",
    "seed(0)\n",
    "print(sum([sum(choices(values, k=10)) >= 50 for _ in range(100000)])/100000)"
   ]
  },
  {
   "cell_type": "markdown",
   "metadata": {},
   "source": [
    "_can be re-written as_"
   ]
  },
  {
   "cell_type": "markdown",
   "metadata": {},
   "source": [
    "##### i) Define your data and parameters"
   ]
  },
  {
   "cell_type": "code",
   "execution_count": 3,
   "metadata": {},
   "outputs": [],
   "source": [
    "values = [1,2,3,4,5,6]  # possible outcomes from a 6-sided dice\n",
    "\n",
    "n = 100000  # number of random samplings"
   ]
  },
  {
   "cell_type": "markdown",
   "metadata": {},
   "source": [
    "##### ii) Calculate p-value by performing random samplings"
   ]
  },
  {
   "cell_type": "code",
   "execution_count": 4,
   "metadata": {},
   "outputs": [
    {
     "name": "stdout",
     "output_type": "stream",
     "text": [
      "0.00302\n"
     ]
    }
   ],
   "source": [
    "rs = []  # define list for storing the sums\n",
    "\n",
    "seed(0)  # use just before calling a function from 'random' to get reproducible results\n",
    "\n",
    "for _ in range(n):\n",
    "    random_values = choices(values, k=10)  # get 10 values from 'all_values' without replacement\n",
    "    random_sum = sum(random_values)\n",
    "    rs.append(random_sum)  # append means add the value 'random_sum' to rs\n",
    "                           # another way to write it is: rs = rs + [random_sum]\n",
    "\n",
    "at_least_50 = []\n",
    "for one_rs in rs:\n",
    "    at_least_50.append(one_rs >= 50)\n",
    "\n",
    "n_true = sum(at_least_50)\n",
    "pval = n_true/n\n",
    "print(pval)\n",
    "\n",
    "# Some notes\n",
    "#     Using the variable '_' tells python to ignore the value assigned to it.\n",
    "#     Setting the seed to 0 is arbitrary, any number would do, as long as you always the same number.\n",
    "#     When adding a value to an existing list, you do so with 'append'."
   ]
  },
  {
   "cell_type": "markdown",
   "metadata": {},
   "source": [
    "##### ii) Visualize your simulated data using altair"
   ]
  },
  {
   "cell_type": "code",
   "execution_count": 5,
   "metadata": {},
   "outputs": [
    {
     "name": "stderr",
     "output_type": "stream",
     "text": [
      "C:\\Users\\Alya\\anaconda3\\lib\\site-packages\\altair\\utils\\data.py:226: AltairDeprecationWarning: alt.pipe() is deprecated, and will be removed in a future release. Use toolz.curried.pipe() instead.\n",
      "  warnings.warn(\n"
     ]
    },
    {
     "data": {
      "text/html": [
       "\n",
       "<div id=\"altair-viz-4e658296887a47e5adb0488fb0e35575\"></div>\n",
       "<script type=\"text/javascript\">\n",
       "  var VEGA_DEBUG = (typeof VEGA_DEBUG == \"undefined\") ? {} : VEGA_DEBUG;\n",
       "  (function(spec, embedOpt){\n",
       "    let outputDiv = document.currentScript.previousElementSibling;\n",
       "    if (outputDiv.id !== \"altair-viz-4e658296887a47e5adb0488fb0e35575\") {\n",
       "      outputDiv = document.getElementById(\"altair-viz-4e658296887a47e5adb0488fb0e35575\");\n",
       "    }\n",
       "    const paths = {\n",
       "      \"vega\": \"https://cdn.jsdelivr.net/npm//vega@5?noext\",\n",
       "      \"vega-lib\": \"https://cdn.jsdelivr.net/npm//vega-lib?noext\",\n",
       "      \"vega-lite\": \"https://cdn.jsdelivr.net/npm//vega-lite@4.17.0?noext\",\n",
       "      \"vega-embed\": \"https://cdn.jsdelivr.net/npm//vega-embed@6?noext\",\n",
       "    };\n",
       "\n",
       "    function maybeLoadScript(lib, version) {\n",
       "      var key = `${lib.replace(\"-\", \"\")}_version`;\n",
       "      return (VEGA_DEBUG[key] == version) ?\n",
       "        Promise.resolve(paths[lib]) :\n",
       "        new Promise(function(resolve, reject) {\n",
       "          var s = document.createElement('script');\n",
       "          document.getElementsByTagName(\"head\")[0].appendChild(s);\n",
       "          s.async = true;\n",
       "          s.onload = () => {\n",
       "            VEGA_DEBUG[key] = version;\n",
       "            return resolve(paths[lib]);\n",
       "          };\n",
       "          s.onerror = () => reject(`Error loading script: ${paths[lib]}`);\n",
       "          s.src = paths[lib];\n",
       "        });\n",
       "    }\n",
       "\n",
       "    function showError(err) {\n",
       "      outputDiv.innerHTML = `<div class=\"error\" style=\"color:red;\">${err}</div>`;\n",
       "      throw err;\n",
       "    }\n",
       "\n",
       "    function displayChart(vegaEmbed) {\n",
       "      vegaEmbed(outputDiv, spec, embedOpt)\n",
       "        .catch(err => showError(`Javascript Error: ${err.message}<br>This usually means there's a typo in your chart specification. See the javascript console for the full traceback.`));\n",
       "    }\n",
       "\n",
       "    if(typeof define === \"function\" && define.amd) {\n",
       "      requirejs.config({paths});\n",
       "      require([\"vega-embed\"], displayChart, err => showError(`Error loading script: ${err.message}`));\n",
       "    } else {\n",
       "      maybeLoadScript(\"vega\", \"5\")\n",
       "        .then(() => maybeLoadScript(\"vega-lite\", \"4.17.0\"))\n",
       "        .then(() => maybeLoadScript(\"vega-embed\", \"6\"))\n",
       "        .catch(showError)\n",
       "        .then(() => displayChart(vegaEmbed));\n",
       "    }\n",
       "  })({\"config\": {\"view\": {\"continuousWidth\": 400, \"continuousHeight\": 300}}, \"layer\": [{\"data\": {\"url\": \"altairdata/altair-data-9179a965b7e90dc069c33e0c7a9fed31.json\", \"format\": {\"type\": \"json\"}}, \"mark\": \"bar\", \"encoding\": {\"x\": {\"bin\": {\"extent\": [10, 60], \"step\": 1}, \"field\": \"RandomValues\", \"title\": \"RandomValues\", \"type\": \"quantitative\"}, \"y\": {\"aggregate\": \"count\", \"type\": \"quantitative\"}}, \"selection\": {\"selector001\": {\"type\": \"interval\", \"bind\": \"scales\", \"encodings\": [\"x\", \"y\"]}}}, {\"data\": {\"url\": \"altairdata/altair-data-0e28d0bbc2fa7a7a79c45936c453058d.json\", \"format\": {\"type\": \"json\"}}, \"mark\": {\"type\": \"rule\", \"color\": \"red\"}, \"encoding\": {\"x\": {\"field\": \"a\", \"title\": \"\", \"type\": \"quantitative\"}}}], \"height\": 500, \"width\": 400, \"$schema\": \"https://vega.github.io/schema/vega-lite/v4.17.0.json\"}, {\"mode\": \"vega-lite\"});\n",
       "</script>"
      ],
      "text/plain": [
       "alt.LayerChart(...)"
      ]
     },
     "execution_count": 5,
     "metadata": {},
     "output_type": "execute_result"
    }
   ],
   "source": [
    "data = pd.DataFrame({'RandomValues': rs})\n",
    "\n",
    "bars = alt.Chart(data).mark_bar().encode(\n",
    "    x=alt.X(\"RandomValues:Q\", bin=alt.Bin(extent=[10, 60], step=1), title=\"RandomValues\"),\n",
    "    y=\"count()\"\n",
    ")\n",
    "\n",
    "line_df = pd.DataFrame({'a': [50]})\n",
    "\n",
    "vertline = alt.Chart(line_df).mark_rule(color='red').encode(\n",
    "    x=alt.X('a:Q', title='')\n",
    ")\n",
    "\n",
    "chart = alt.layer(\n",
    "    bars, vertline\n",
    ").properties(\n",
    "    height=500,\n",
    "    width=400\n",
    ")\n",
    "\n",
    "chart.interactive()  # you can play around with it in interactive mode"
   ]
  },
  {
   "cell_type": "markdown",
   "metadata": {},
   "source": [
    "## B. Bootstrap approach"
   ]
  },
  {
   "cell_type": "markdown",
   "metadata": {},
   "source": [
    "The bootstrap approach is a statistical method that works in many, many scenarios. In general, if a parametric (t-test, ANOVA, etc.) method is not applicable, you want to consider bootstrapping. Generally, you need a minimum number of observations for the test to make sense (at least 5 or 6). The principle behing this technique is to _imitate_ replicates of your data, by recreating different combinations of it, which is achieved by resampling **with** replacement."
   ]
  },
  {
   "cell_type": "markdown",
   "metadata": {},
   "source": [
    "_Code from presentation_"
   ]
  },
  {
   "cell_type": "code",
   "execution_count": 6,
   "metadata": {},
   "outputs": [
    {
     "name": "stdout",
     "output_type": "stream",
     "text": [
      "0.1\n",
      "[ 0.00111 , 0.19 ]\n"
     ]
    }
   ],
   "source": [
    "from random import choices, seed\n",
    "v1 = [3.47, 3.51, 3.54, 3.58, 3.62, 3.64, 3.65, 3.68, 3.71] ; lt = len(v1)\n",
    "v2 = [3.41, 3.42, 3.44, 3.45, 3.46, 3.51, 3.54, 3.63, 3.64] ; n = 100000 ; alpha = 0.01\n",
    "diff = sum(v1)/lt - sum(v2)/lt ; print(round(diff, 5))\n",
    "seed(0) ; stds = sorted([sum(choices(v1, k=lt))/lt - sum(choices(v2, k=lt))/lt for _ in range(n)])\n",
    "print('[', round(stds[int(n*alpha/2)], 5), ',', round(stds[n - int(n*alpha/2)], 5), ']')"
   ]
  },
  {
   "cell_type": "markdown",
   "metadata": {},
   "source": [
    "_can be re-written as_"
   ]
  },
  {
   "cell_type": "markdown",
   "metadata": {},
   "source": [
    "##### i) Define your data and parameters"
   ]
  },
  {
   "cell_type": "code",
   "execution_count": 7,
   "metadata": {},
   "outputs": [],
   "source": [
    "v1 = [3.47, 3.51, 3.54, 3.58, 3.62, 3.64, 3.65, 3.68, 3.71]  # list of values #1\n",
    "v2 = [3.41, 3.42, 3.44, 3.45, 3.46, 3.51, 3.54, 3.63, 3.64]  # list of values #2\n",
    "\n",
    "\n",
    "n = 100000  # number of bootstraps to compute\n",
    "alpha = 0.01  # alpha level"
   ]
  },
  {
   "cell_type": "markdown",
   "metadata": {},
   "source": [
    "##### ii) [Optional] Visualize your data using altair"
   ]
  },
  {
   "cell_type": "code",
   "execution_count": 8,
   "metadata": {},
   "outputs": [
    {
     "data": {
      "text/html": [
       "\n",
       "<div id=\"altair-viz-fef6064bf0e94fb9b01bb0e2354e6f44\"></div>\n",
       "<script type=\"text/javascript\">\n",
       "  var VEGA_DEBUG = (typeof VEGA_DEBUG == \"undefined\") ? {} : VEGA_DEBUG;\n",
       "  (function(spec, embedOpt){\n",
       "    let outputDiv = document.currentScript.previousElementSibling;\n",
       "    if (outputDiv.id !== \"altair-viz-fef6064bf0e94fb9b01bb0e2354e6f44\") {\n",
       "      outputDiv = document.getElementById(\"altair-viz-fef6064bf0e94fb9b01bb0e2354e6f44\");\n",
       "    }\n",
       "    const paths = {\n",
       "      \"vega\": \"https://cdn.jsdelivr.net/npm//vega@5?noext\",\n",
       "      \"vega-lib\": \"https://cdn.jsdelivr.net/npm//vega-lib?noext\",\n",
       "      \"vega-lite\": \"https://cdn.jsdelivr.net/npm//vega-lite@4.17.0?noext\",\n",
       "      \"vega-embed\": \"https://cdn.jsdelivr.net/npm//vega-embed@6?noext\",\n",
       "    };\n",
       "\n",
       "    function maybeLoadScript(lib, version) {\n",
       "      var key = `${lib.replace(\"-\", \"\")}_version`;\n",
       "      return (VEGA_DEBUG[key] == version) ?\n",
       "        Promise.resolve(paths[lib]) :\n",
       "        new Promise(function(resolve, reject) {\n",
       "          var s = document.createElement('script');\n",
       "          document.getElementsByTagName(\"head\")[0].appendChild(s);\n",
       "          s.async = true;\n",
       "          s.onload = () => {\n",
       "            VEGA_DEBUG[key] = version;\n",
       "            return resolve(paths[lib]);\n",
       "          };\n",
       "          s.onerror = () => reject(`Error loading script: ${paths[lib]}`);\n",
       "          s.src = paths[lib];\n",
       "        });\n",
       "    }\n",
       "\n",
       "    function showError(err) {\n",
       "      outputDiv.innerHTML = `<div class=\"error\" style=\"color:red;\">${err}</div>`;\n",
       "      throw err;\n",
       "    }\n",
       "\n",
       "    function displayChart(vegaEmbed) {\n",
       "      vegaEmbed(outputDiv, spec, embedOpt)\n",
       "        .catch(err => showError(`Javascript Error: ${err.message}<br>This usually means there's a typo in your chart specification. See the javascript console for the full traceback.`));\n",
       "    }\n",
       "\n",
       "    if(typeof define === \"function\" && define.amd) {\n",
       "      requirejs.config({paths});\n",
       "      require([\"vega-embed\"], displayChart, err => showError(`Error loading script: ${err.message}`));\n",
       "    } else {\n",
       "      maybeLoadScript(\"vega\", \"5\")\n",
       "        .then(() => maybeLoadScript(\"vega-lite\", \"4.17.0\"))\n",
       "        .then(() => maybeLoadScript(\"vega-embed\", \"6\"))\n",
       "        .catch(showError)\n",
       "        .then(() => displayChart(vegaEmbed));\n",
       "    }\n",
       "  })({\"config\": {\"view\": {\"continuousWidth\": 400, \"continuousHeight\": 300}}, \"data\": {\"url\": \"altairdata/altair-data-e421f90817830e2a40ddc3337174580b.json\", \"format\": {\"type\": \"json\"}}, \"mark\": {\"type\": \"point\", \"filled\": true}, \"encoding\": {\"color\": {\"field\": \"origin\", \"type\": \"nominal\"}, \"x\": {\"field\": \"value\", \"scale\": {\"domain\": [3, 4]}, \"type\": \"quantitative\"}, \"y\": {\"field\": \"origin\", \"type\": \"nominal\"}}, \"selection\": {\"selector002\": {\"type\": \"interval\", \"bind\": \"scales\", \"encodings\": [\"x\", \"y\"]}}, \"$schema\": \"https://vega.github.io/schema/vega-lite/v4.17.0.json\"}, {\"mode\": \"vega-lite\"});\n",
       "</script>"
      ],
      "text/plain": [
       "alt.Chart(...)"
      ]
     },
     "execution_count": 8,
     "metadata": {},
     "output_type": "execute_result"
    }
   ],
   "source": [
    "# Put v_1 and v_2 in a dataset\n",
    "values = v1 + v2\n",
    "origin = ['v1']*len(v1) + ['v2']*len(v2)\n",
    "\n",
    "data = pd.DataFrame([values, origin], index=['value', 'origin'])\n",
    "data = data.transpose()\n",
    "\n",
    "# Plot your dataset using altair\n",
    "alt.Chart(data).mark_point(filled=True).encode(\n",
    "    x=alt.X(\"value\", scale=alt.Scale(domain=[3, 4])),\n",
    "    y=alt.Y('origin'),\n",
    "    color=alt.Color('origin')\n",
    ").interactive()"
   ]
  },
  {
   "cell_type": "markdown",
   "metadata": {},
   "source": [
    "##### iii) Construct bootstrap CI"
   ]
  },
  {
   "cell_type": "markdown",
   "metadata": {},
   "source": [
    "We will calculate the confidence interval around the difference in means of the 2 dice sets"
   ]
  },
  {
   "cell_type": "code",
   "execution_count": 9,
   "metadata": {},
   "outputs": [
    {
     "name": "stdout",
     "output_type": "stream",
     "text": [
      "Difference = 0.1\n",
      "0.5% quantile position = 500 // 99.5% quantile_position = 99500\n",
      "CI = [0.0011111 , 0.19]\n",
      "Is 0 outside the confidence interval ? True\n"
     ]
    }
   ],
   "source": [
    "mean_1 = sum(v1) / len(v1)  # mean of values #1\n",
    "mean_2 = sum(v2) / len(v2)  # mean of values #2\n",
    "\n",
    "diff = mean_1 - mean_2  # difference of the means\n",
    "\n",
    "print('Difference = %.5g' % diff)  # print difference rounding up to 5 decimals\n",
    "\n",
    "stds = []  # empty list where the standard deviations from the mean will be stored\n",
    "seed(0)  # set your random state in order to get the same result from your random samplings\n",
    "for _ in range(n):  # iterate from 0 to 999,999 (100,000 iterations)\n",
    "    random_boot_1 = choices(v1, k=len(v1))  # resample v1 with replacement\n",
    "    random_boot_2 = choices(v2, k=len(v2))  # resample v2 with replacement\n",
    "    boot_mean_1 = sum(random_boot_1) / len(v1)\n",
    "    boot_mean_2 = sum(random_boot_2) / len(v2)\n",
    "    new_diff = boot_mean_1 - boot_mean_2\n",
    "    stds.append(new_diff)  # add your calculated difference to the list with the 'append' method\n",
    "\n",
    "stds_sorted = sorted(stds)  # sort your values from smallest to largest\n",
    "\n",
    "quantile_at_0_5 = int(n*(alpha/2))  # get the position of your 0.5% quantile in stds_sorted (as an integer)\n",
    "quantile_at_99_5 = n - int(n*(alpha/2))  # get the position of your 99.5% quantile in stds_sorted (as an integer)\n",
    "\n",
    "print('0.5%% quantile position = %d // 99.5%% quantile_position = %d' % (quantile_at_0_5, quantile_at_99_5))\n",
    "\n",
    "q0_5 = stds_sorted[quantile_at_0_5]  # 0.5% quantile value from stds_sorted\n",
    "q99_5 = stds_sorted[quantile_at_99_5]  # 99.5% quantile value from stds_sorted\n",
    "\n",
    "contains_0 = (q0_5 < 0) and (q99_5 > 0)  # True if 0 inside CI, False if not\n",
    "\n",
    "print('CI = [%.5g , %.5g]' % (q0_5, q99_5))\n",
    "print('Is 0 outside the confidence interval ?', not contains_0)"
   ]
  },
  {
   "cell_type": "markdown",
   "metadata": {},
   "source": [
    "##### iv) Visualize your simulated data using altair"
   ]
  },
  {
   "cell_type": "code",
   "execution_count": 10,
   "metadata": {},
   "outputs": [
    {
     "data": {
      "text/html": [
       "\n",
       "<div id=\"altair-viz-82de4479510d41d3be71a75bec85784b\"></div>\n",
       "<script type=\"text/javascript\">\n",
       "  var VEGA_DEBUG = (typeof VEGA_DEBUG == \"undefined\") ? {} : VEGA_DEBUG;\n",
       "  (function(spec, embedOpt){\n",
       "    let outputDiv = document.currentScript.previousElementSibling;\n",
       "    if (outputDiv.id !== \"altair-viz-82de4479510d41d3be71a75bec85784b\") {\n",
       "      outputDiv = document.getElementById(\"altair-viz-82de4479510d41d3be71a75bec85784b\");\n",
       "    }\n",
       "    const paths = {\n",
       "      \"vega\": \"https://cdn.jsdelivr.net/npm//vega@5?noext\",\n",
       "      \"vega-lib\": \"https://cdn.jsdelivr.net/npm//vega-lib?noext\",\n",
       "      \"vega-lite\": \"https://cdn.jsdelivr.net/npm//vega-lite@4.17.0?noext\",\n",
       "      \"vega-embed\": \"https://cdn.jsdelivr.net/npm//vega-embed@6?noext\",\n",
       "    };\n",
       "\n",
       "    function maybeLoadScript(lib, version) {\n",
       "      var key = `${lib.replace(\"-\", \"\")}_version`;\n",
       "      return (VEGA_DEBUG[key] == version) ?\n",
       "        Promise.resolve(paths[lib]) :\n",
       "        new Promise(function(resolve, reject) {\n",
       "          var s = document.createElement('script');\n",
       "          document.getElementsByTagName(\"head\")[0].appendChild(s);\n",
       "          s.async = true;\n",
       "          s.onload = () => {\n",
       "            VEGA_DEBUG[key] = version;\n",
       "            return resolve(paths[lib]);\n",
       "          };\n",
       "          s.onerror = () => reject(`Error loading script: ${paths[lib]}`);\n",
       "          s.src = paths[lib];\n",
       "        });\n",
       "    }\n",
       "\n",
       "    function showError(err) {\n",
       "      outputDiv.innerHTML = `<div class=\"error\" style=\"color:red;\">${err}</div>`;\n",
       "      throw err;\n",
       "    }\n",
       "\n",
       "    function displayChart(vegaEmbed) {\n",
       "      vegaEmbed(outputDiv, spec, embedOpt)\n",
       "        .catch(err => showError(`Javascript Error: ${err.message}<br>This usually means there's a typo in your chart specification. See the javascript console for the full traceback.`));\n",
       "    }\n",
       "\n",
       "    if(typeof define === \"function\" && define.amd) {\n",
       "      requirejs.config({paths});\n",
       "      require([\"vega-embed\"], displayChart, err => showError(`Error loading script: ${err.message}`));\n",
       "    } else {\n",
       "      maybeLoadScript(\"vega\", \"5\")\n",
       "        .then(() => maybeLoadScript(\"vega-lite\", \"4.17.0\"))\n",
       "        .then(() => maybeLoadScript(\"vega-embed\", \"6\"))\n",
       "        .catch(showError)\n",
       "        .then(() => displayChart(vegaEmbed));\n",
       "    }\n",
       "  })({\"config\": {\"view\": {\"continuousWidth\": 400, \"continuousHeight\": 300}}, \"layer\": [{\"data\": {\"url\": \"altairdata/altair-data-f566521da48ef82eee1ac40854451d2d.json\", \"format\": {\"type\": \"json\"}}, \"mark\": \"bar\", \"encoding\": {\"x\": {\"bin\": {\"extent\": [-0.1, 0.3], \"step\": 0.01}, \"field\": \"RandomValues\", \"title\": \"RandomValues\", \"type\": \"quantitative\"}, \"y\": {\"aggregate\": \"count\", \"type\": \"quantitative\"}}, \"selection\": {\"selector003\": {\"type\": \"interval\", \"bind\": \"scales\", \"encodings\": [\"x\", \"y\"]}}}, {\"data\": {\"url\": \"altairdata/altair-data-b57f812177a54a8ce0ba9611d165fc44.json\", \"format\": {\"type\": \"json\"}}, \"mark\": {\"type\": \"rule\", \"color\": \"red\"}, \"encoding\": {\"x\": {\"field\": \"a\", \"title\": \"\", \"type\": \"quantitative\"}}}, {\"data\": {\"url\": \"altairdata/altair-data-b57f812177a54a8ce0ba9611d165fc44.json\", \"format\": {\"type\": \"json\"}}, \"mark\": {\"type\": \"rule\", \"color\": \"red\"}, \"encoding\": {\"x\": {\"field\": \"b\", \"title\": \"\", \"type\": \"quantitative\"}}}], \"height\": 500, \"width\": 400, \"$schema\": \"https://vega.github.io/schema/vega-lite/v4.17.0.json\"}, {\"mode\": \"vega-lite\"});\n",
       "</script>"
      ],
      "text/plain": [
       "alt.LayerChart(...)"
      ]
     },
     "execution_count": 10,
     "metadata": {},
     "output_type": "execute_result"
    }
   ],
   "source": [
    "data = pd.DataFrame({'RandomValues': stds})\n",
    "temp = pd.DataFrame({'a':[stds_sorted[int(n*alpha/2)]], 'b': [stds_sorted[n-int(n*alpha/2)]]})\n",
    "\n",
    "bars = alt.Chart(data).mark_bar().encode(\n",
    "    alt.X(\"RandomValues:Q\", bin=alt.Bin(extent=[-0.1, 0.3], step=0.01), title='RandomValues'),\n",
    "    y='count()',\n",
    ")\n",
    "\n",
    "vertline1 = alt.Chart(temp).mark_rule(color='red').encode(\n",
    "    x=alt.X('a:Q', title='')\n",
    ")\n",
    "\n",
    "vertline2 = alt.Chart(temp).mark_rule(color='red').encode(\n",
    "    x=alt.X('b:Q', title='')\n",
    ")\n",
    "\n",
    "chart = alt.layer(\n",
    "    bars, vertline1, vertline2\n",
    ").properties(\n",
    "    height=500,\n",
    "    width=400\n",
    ")\n",
    "\n",
    "chart.interactive()"
   ]
  },
  {
   "cell_type": "markdown",
   "metadata": {},
   "source": [
    "##### iv) Let's now calculate the p-value equivalent of the CI"
   ]
  },
  {
   "cell_type": "markdown",
   "metadata": {},
   "source": [
    "We will calculate the two-tailed p-value for the alternative hypothesis that the 2 means are not equal"
   ]
  },
  {
   "cell_type": "markdown",
   "metadata": {},
   "source": [
    "_Let's break it down so that you can add your comments_"
   ]
  },
  {
   "cell_type": "code",
   "execution_count": 11,
   "metadata": {},
   "outputs": [],
   "source": [
    "n = 100000  # number of bootstraps to compute\n",
    "alpha = 0.01  # alpha level"
   ]
  },
  {
   "cell_type": "markdown",
   "metadata": {},
   "source": [
    "##### describe what n is and why we chose this number, and describe what alpha is and why is it defined at the top"
   ]
  },
  {
   "cell_type": "raw",
   "metadata": {},
   "source": [
    "### add your comments here\n",
    "\n",
    "n is the number of bootstraps to compute: it is equivalent to the number of samples we compare. We want the highest number of samples possible to make the results in frequency comparable to probabilities.\n",
    "\n",
    "100*(1-alpha) is the percentage of confidence we have in the result that will follow. It makes sense to define it before as we cannot decide on the confidence after the results have been obtained. "
   ]
  },
  {
   "cell_type": "code",
   "execution_count": 12,
   "metadata": {},
   "outputs": [],
   "source": [
    "mean_1 = sum(v1) / len(v1)  # mean of values #1\n",
    "mean_2 = sum(v2) / len(v2)  # mean of values #2\n",
    "\n",
    "overall_mean = sum(v1 + v2) / (len(v1) + len(v2))"
   ]
  },
  {
   "cell_type": "markdown",
   "metadata": {},
   "source": [
    "##### what are we calculating here?"
   ]
  },
  {
   "cell_type": "raw",
   "metadata": {},
   "source": [
    "### add your comments here\n",
    "overall_mean is the mean of the full population of dice. \n",
    "mean_1 is the mean of population 1.\n",
    "mean_2 is the mean of population 2."
   ]
  },
  {
   "cell_type": "code",
   "execution_count": 13,
   "metadata": {},
   "outputs": [
    {
     "data": {
      "text/plain": [
       "3.5999999999999996"
      ]
     },
     "execution_count": 13,
     "metadata": {},
     "output_type": "execute_result"
    }
   ],
   "source": [
    "mean_1"
   ]
  },
  {
   "cell_type": "code",
   "execution_count": 14,
   "metadata": {},
   "outputs": [
    {
     "data": {
      "text/plain": [
       "3.4999999999999996"
      ]
     },
     "execution_count": 14,
     "metadata": {},
     "output_type": "execute_result"
    }
   ],
   "source": [
    "mean_2"
   ]
  },
  {
   "cell_type": "code",
   "execution_count": 15,
   "metadata": {},
   "outputs": [
    {
     "data": {
      "text/plain": [
       "0.10000000000000009"
      ]
     },
     "execution_count": 15,
     "metadata": {},
     "output_type": "execute_result"
    }
   ],
   "source": [
    "mean_1-mean_2"
   ]
  },
  {
   "cell_type": "code",
   "execution_count": 16,
   "metadata": {},
   "outputs": [],
   "source": [
    "centered_v1 = []\n",
    "for x in v1:\n",
    "    centered_x = x - mean_1 + overall_mean\n",
    "    centered_x = round(centered_x, 5)  # this line is optional, used just to make the numbers pretty\n",
    "    centered_v1.append(centered_x)\n",
    "    \n",
    "centered_v2 = []\n",
    "for x in v2:\n",
    "    centered_x = x - mean_2 + overall_mean\n",
    "    centered_x = round(centered_x, 5)  # this line is optional, used just to make the numbers pretty\n",
    "    centered_v2.append(centered_x)"
   ]
  },
  {
   "cell_type": "markdown",
   "metadata": {},
   "source": [
    "##### what is this calculation and why are we doing it?"
   ]
  },
  {
   "cell_type": "raw",
   "metadata": {},
   "source": [
    "### add your comments here\n",
    "We are centering both populations of die weights on the overall mean instead of their own individual means. This allows us to have different distributions but to ignore the shift in mean between the two populations. This is a control to calculate the p value assuming the \"null hypothesis\". Basically, we want to compute the frequency of a result at least as extreme as the result observed (0.1) assuming the initial difference in the means is 0 (null hypothesis). \n",
    "Remark: we could have simply subtracted mean1 to values in v1 and mean2 to values in v2 and centered them on 0 instead of on overall_mean. We only care about the difference of the means anyway. "
   ]
  },
  {
   "cell_type": "code",
   "execution_count": 17,
   "metadata": {},
   "outputs": [
    {
     "name": "stdout",
     "output_type": "stream",
     "text": [
      "The confidence interval offset by 0.1 is [ 0.00111 , 0.19 ]\n",
      "The confidence interval offset by 0 is [ -0.09889 , 0.09 ]\n",
      "Remark: To get the CI for the null hypothesis, we could have simply printed out the CI of the uncentered data offset by -0.1 .\n"
     ]
    }
   ],
   "source": [
    "### Find the 2-tailed 99% confidence interval of the difference of the means, remembering that\n",
    "### the absolute difference of the means was found to be mean_2-mean_1=0.1\n",
    "from statistics import mean\n",
    "seed(0) \n",
    "lt=len(centered_v1)\n",
    "stds = sorted([sum(choices(centered_v1, k=lt))/lt - sum(choices(centered_v2, k=lt))/lt for _ in range(n)])\n",
    "print('The confidence interval offset by 0.1 is','[', round(stds[int(n*alpha/2)]+0.1, 5), ',', round(stds[n - int(n*alpha/2)]+0.1, 5), ']')#intervalle de confiance centré sur la moyenne overall\n",
    "print('The confidence interval offset by 0 is','[', round(stds[int(n*alpha/2)], 5), ',', round(stds[n - int(n*alpha/2)], 5), ']')\n",
    "print('Remark: To get the CI for the null hypothesis, we could have simply printed out the CI of the uncentered data offset by -0.1 .')"
   ]
  },
  {
   "cell_type": "code",
   "execution_count": 18,
   "metadata": {},
   "outputs": [
    {
     "name": "stdout",
     "output_type": "stream",
     "text": [
      "Since we are looking at a two-tailed CI, we need to examines values at least as extreme as the values observed at both sides of the interval, which means higher than 0.1 or lower than -0.1; however, it does not make a lot of sense because we can expect that the genie will never bias the data in his disfavor.\n",
      "The number of times we get a result at least as extreme as our difference of the means is  662 .\n"
     ]
    }
   ],
   "source": [
    "### Calculate the number of times we get a result at least as extreme as our difference of the means\n",
    "extreme=len([i for i in stds if i>=0.1 or i<=-0.1])\n",
    "print('Since we are looking at a two-tailed CI, we need to examines values at least as extreme as the values observed at both sides of the interval, which means higher than 0.1 or lower than -0.1; however, it does not make a lot of sense because we can expect that the genie will never bias the data in his disfavor.')\n",
    "print('The number of times we get a result at least as extreme as our difference of the means is ', extreme, '.')    "
   ]
  },
  {
   "cell_type": "code",
   "execution_count": 19,
   "metadata": {},
   "outputs": [
    {
     "name": "stdout",
     "output_type": "stream",
     "text": [
      "The pvalue computed on this distribution is  0.00662 .\n",
      "True\n",
      "0.1 is not in the CI, and the p value is inferior to alpha: the data makes sense.\n"
     ]
    }
   ],
   "source": [
    "### Calculate the number 2-tailed p-value\n",
    "\n",
    "#A p-value measures the probability of obtaining the observed results, assuming that the null hypothesis is true.\n",
    "\n",
    "print('The pvalue computed on this distribution is ', extreme/n,'.')\n",
    "print(extreme/n<alpha)\n",
    "print('0.1 is not in the CI, and the p value is inferior to alpha: the data makes sense.')"
   ]
  },
  {
   "cell_type": "markdown",
   "metadata": {},
   "source": [
    "##### v) Let's recalculate CI and p-value as one-tailed hypothesis tests with alpha = 0.01"
   ]
  },
  {
   "cell_type": "code",
   "execution_count": 20,
   "metadata": {},
   "outputs": [],
   "source": [
    "### CI: write a function based on the code we have in class that calculates the 1-sided CI\n",
    "def onetailedCI(stds, n=n, alpha=alpha):\n",
    "    return [-float('inf'), round(stds[int(n*(1-alpha))], 5)]"
   ]
  },
  {
   "cell_type": "code",
   "execution_count": 21,
   "metadata": {},
   "outputs": [],
   "source": [
    "### p-value: write a function that calculates the equivalent one-tailed p-value\n",
    "\n",
    "def pval(stds, n=n):\n",
    "    extreme=len([i for i in stds if i>=0.1])\n",
    "    return extreme/n"
   ]
  },
  {
   "cell_type": "code",
   "execution_count": 22,
   "metadata": {},
   "outputs": [
    {
     "data": {
      "text/html": [
       "<div>\n",
       "<style scoped>\n",
       "    .dataframe tbody tr th:only-of-type {\n",
       "        vertical-align: middle;\n",
       "    }\n",
       "\n",
       "    .dataframe tbody tr th {\n",
       "        vertical-align: top;\n",
       "    }\n",
       "\n",
       "    .dataframe thead th {\n",
       "        text-align: right;\n",
       "    }\n",
       "</style>\n",
       "<table border=\"1\" class=\"dataframe\">\n",
       "  <thead>\n",
       "    <tr style=\"text-align: right;\">\n",
       "      <th></th>\n",
       "      <th>alpha</th>\n",
       "      <th>CI</th>\n",
       "      <th>p_value</th>\n",
       "      <th>Coherent data</th>\n",
       "    </tr>\n",
       "  </thead>\n",
       "  <tbody>\n",
       "    <tr>\n",
       "      <th>0</th>\n",
       "      <td>0.0001</td>\n",
       "      <td>[-inf, 0.12222]</td>\n",
       "      <td>0.00197</td>\n",
       "      <td>True</td>\n",
       "    </tr>\n",
       "    <tr>\n",
       "      <th>1</th>\n",
       "      <td>0.0002</td>\n",
       "      <td>[-inf, 0.11778]</td>\n",
       "      <td>0.00197</td>\n",
       "      <td>True</td>\n",
       "    </tr>\n",
       "    <tr>\n",
       "      <th>2</th>\n",
       "      <td>0.0003</td>\n",
       "      <td>[-inf, 0.11556]</td>\n",
       "      <td>0.00197</td>\n",
       "      <td>True</td>\n",
       "    </tr>\n",
       "    <tr>\n",
       "      <th>3</th>\n",
       "      <td>0.0004</td>\n",
       "      <td>[-inf, 0.11444]</td>\n",
       "      <td>0.00197</td>\n",
       "      <td>True</td>\n",
       "    </tr>\n",
       "    <tr>\n",
       "      <th>4</th>\n",
       "      <td>0.0005</td>\n",
       "      <td>[-inf, 0.11222]</td>\n",
       "      <td>0.00197</td>\n",
       "      <td>True</td>\n",
       "    </tr>\n",
       "    <tr>\n",
       "      <th>...</th>\n",
       "      <td>...</td>\n",
       "      <td>...</td>\n",
       "      <td>...</td>\n",
       "      <td>...</td>\n",
       "    </tr>\n",
       "    <tr>\n",
       "      <th>494</th>\n",
       "      <td>0.0495</td>\n",
       "      <td>[-inf, 0.06]</td>\n",
       "      <td>0.00197</td>\n",
       "      <td>True</td>\n",
       "    </tr>\n",
       "    <tr>\n",
       "      <th>495</th>\n",
       "      <td>0.0496</td>\n",
       "      <td>[-inf, 0.06]</td>\n",
       "      <td>0.00197</td>\n",
       "      <td>True</td>\n",
       "    </tr>\n",
       "    <tr>\n",
       "      <th>496</th>\n",
       "      <td>0.0497</td>\n",
       "      <td>[-inf, 0.06]</td>\n",
       "      <td>0.00197</td>\n",
       "      <td>True</td>\n",
       "    </tr>\n",
       "    <tr>\n",
       "      <th>497</th>\n",
       "      <td>0.0498</td>\n",
       "      <td>[-inf, 0.06]</td>\n",
       "      <td>0.00197</td>\n",
       "      <td>True</td>\n",
       "    </tr>\n",
       "    <tr>\n",
       "      <th>498</th>\n",
       "      <td>0.0499</td>\n",
       "      <td>[-inf, 0.06]</td>\n",
       "      <td>0.00197</td>\n",
       "      <td>True</td>\n",
       "    </tr>\n",
       "  </tbody>\n",
       "</table>\n",
       "<p>499 rows × 4 columns</p>\n",
       "</div>"
      ],
      "text/plain": [
       "      alpha               CI  p_value  Coherent data\n",
       "0    0.0001  [-inf, 0.12222]  0.00197           True\n",
       "1    0.0002  [-inf, 0.11778]  0.00197           True\n",
       "2    0.0003  [-inf, 0.11556]  0.00197           True\n",
       "3    0.0004  [-inf, 0.11444]  0.00197           True\n",
       "4    0.0005  [-inf, 0.11222]  0.00197           True\n",
       "..      ...              ...      ...            ...\n",
       "494  0.0495     [-inf, 0.06]  0.00197           True\n",
       "495  0.0496     [-inf, 0.06]  0.00197           True\n",
       "496  0.0497     [-inf, 0.06]  0.00197           True\n",
       "497  0.0498     [-inf, 0.06]  0.00197           True\n",
       "498  0.0499     [-inf, 0.06]  0.00197           True\n",
       "\n",
       "[499 rows x 4 columns]"
      ]
     },
     "execution_count": 22,
     "metadata": {},
     "output_type": "execute_result"
    }
   ],
   "source": [
    "### try varying alpha and recalculate the CI and p-value, store the values in one pandas dataframe for the one tailed\n",
    "### and display the dataframe here\n",
    "import numpy as np\n",
    "alpha_range=list(np.arange(0.0001, 0.05, 0.0001))\n",
    "CI_range=[]\n",
    "p_value_range=[]\n",
    "for alpha in alpha_range:\n",
    "    CI_range.append(onetailedCI(stds,n, alpha))\n",
    "    p_value_range.append(pval(stds, n=n))\n",
    "df=pd.DataFrame([alpha_range, CI_range, p_value_range], index=['alpha', 'CI', 'p_value'])\n",
    "df=df.transpose()\n",
    "df[\"Coherent data\"]=[(0.1 >df['CI'].iloc[i][1] and df['p_value'].iloc[i]<df['alpha'].iloc[i]) or (0.1 <=df['CI'].iloc[i][1] and df['p_value'].iloc[i]>=df['alpha'].iloc[i])  for i in range (len(df))]\n",
    "df"
   ]
  },
  {
   "cell_type": "code",
   "execution_count": 23,
   "metadata": {},
   "outputs": [
    {
     "data": {
      "text/html": [
       "<div>\n",
       "<style scoped>\n",
       "    .dataframe tbody tr th:only-of-type {\n",
       "        vertical-align: middle;\n",
       "    }\n",
       "\n",
       "    .dataframe tbody tr th {\n",
       "        vertical-align: top;\n",
       "    }\n",
       "\n",
       "    .dataframe thead th {\n",
       "        text-align: right;\n",
       "    }\n",
       "</style>\n",
       "<table border=\"1\" class=\"dataframe\">\n",
       "  <thead>\n",
       "    <tr style=\"text-align: right;\">\n",
       "      <th></th>\n",
       "      <th>alpha</th>\n",
       "      <th>CI</th>\n",
       "      <th>p_value</th>\n",
       "      <th>Coherent data</th>\n",
       "      <th>Is_likely_cheating with 1-alpha confidence</th>\n",
       "    </tr>\n",
       "  </thead>\n",
       "  <tbody>\n",
       "    <tr>\n",
       "      <th>0</th>\n",
       "      <td>0.01</td>\n",
       "      <td>[-inf, 0.08333]</td>\n",
       "      <td>0.00197</td>\n",
       "      <td>True</td>\n",
       "      <td>True</td>\n",
       "    </tr>\n",
       "    <tr>\n",
       "      <th>1</th>\n",
       "      <td>0.0021</td>\n",
       "      <td>[-inf, 0.09889]</td>\n",
       "      <td>0.00197</td>\n",
       "      <td>True</td>\n",
       "      <td>True</td>\n",
       "    </tr>\n",
       "    <tr>\n",
       "      <th>2</th>\n",
       "      <td>0.001</td>\n",
       "      <td>[-inf, 0.10556]</td>\n",
       "      <td>0.00197</td>\n",
       "      <td>True</td>\n",
       "      <td>False</td>\n",
       "    </tr>\n",
       "    <tr>\n",
       "      <th>3</th>\n",
       "      <td>0.0005</td>\n",
       "      <td>[-inf, 0.11222]</td>\n",
       "      <td>0.00197</td>\n",
       "      <td>True</td>\n",
       "      <td>False</td>\n",
       "    </tr>\n",
       "    <tr>\n",
       "      <th>4</th>\n",
       "      <td>0.0001</td>\n",
       "      <td>[-inf, 0.12222]</td>\n",
       "      <td>0.00197</td>\n",
       "      <td>True</td>\n",
       "      <td>False</td>\n",
       "    </tr>\n",
       "    <tr>\n",
       "      <th>5</th>\n",
       "      <td>1e-05</td>\n",
       "      <td>[-inf, 0.13444]</td>\n",
       "      <td>0.00197</td>\n",
       "      <td>True</td>\n",
       "      <td>False</td>\n",
       "    </tr>\n",
       "  </tbody>\n",
       "</table>\n",
       "</div>"
      ],
      "text/plain": [
       "    alpha               CI  p_value  Coherent data  \\\n",
       "0    0.01  [-inf, 0.08333]  0.00197           True   \n",
       "1  0.0021  [-inf, 0.09889]  0.00197           True   \n",
       "2   0.001  [-inf, 0.10556]  0.00197           True   \n",
       "3  0.0005  [-inf, 0.11222]  0.00197           True   \n",
       "4  0.0001  [-inf, 0.12222]  0.00197           True   \n",
       "5   1e-05  [-inf, 0.13444]  0.00197           True   \n",
       "\n",
       "   Is_likely_cheating with 1-alpha confidence  \n",
       "0                                        True  \n",
       "1                                        True  \n",
       "2                                       False  \n",
       "3                                       False  \n",
       "4                                       False  \n",
       "5                                       False  "
      ]
     },
     "execution_count": 23,
     "metadata": {},
     "output_type": "execute_result"
    }
   ],
   "source": [
    "#with the list of proposed alphas:\n",
    "alphas=[0.01,0.0021, 0.001, 0.0005, 0.0001, 0.00001]\n",
    "CI_range=[]\n",
    "p_value_range=[]\n",
    "for alpha in alphas:\n",
    "    CI_range.append(onetailedCI(stds,n, alpha))\n",
    "    p_value_range.append(pval(stds, n=n))\n",
    "df2=pd.DataFrame([alphas, CI_range, p_value_range], index=['alpha', 'CI', 'p_value'])\n",
    "df2=df2.transpose()\n",
    "df2[\"Coherent data\"]=[(0.1 >df2['CI'].iloc[i][1] and df2['p_value'].iloc[i]<df2['alpha'].iloc[i]) or (0.1 <df2['CI'].iloc[i][1] and df2['p_value'].iloc[i]>df2['alpha'].iloc[i])  for i in range (len(df2))]\n",
    "df2['Is_likely_cheating with 1-alpha confidence']=[0.1 >df2['CI'].iloc[i][1] for i in range(len(df2))]\n",
    "df2"
   ]
  },
  {
   "cell_type": "markdown",
   "metadata": {},
   "source": [
    "##### comment on your results"
   ]
  },
  {
   "cell_type": "raw",
   "metadata": {},
   "source": [
    "### add your comments here\n",
    "\n",
    "The column 'Coherent data' ensures that the data in both columns CI and p_value is coherent. It checks that if 0.1 is in the CI, pvalue<alpha, and that if 0.1 is not in the interval, the pvalue is higher than alpha.\n",
    "\n",
    "What we did is calculate confidence intervals with different confidence values (alpha) in order to evaluate with what certainty we could say that the genie was cheating. \n",
    "\n",
    "We can say with 99% confidence that the genie is cheating, but we cannot draw any conclusion with 99.9% confidence or higher.\n",
    "This matches with the fact that the pvalue that is smaller than alpha=0.01, but higher than alpha=0.001\n",
    "If we had looked at alpha=0.0021, we would have had pvalue<alpha so 0.1 not in the interval. "
   ]
  }
 ],
 "metadata": {
  "kernelspec": {
   "display_name": "Python 3",
   "language": "python",
   "name": "python3"
  },
  "language_info": {
   "codemirror_mode": {
    "name": "ipython",
    "version": 3
   },
   "file_extension": ".py",
   "mimetype": "text/x-python",
   "name": "python",
   "nbconvert_exporter": "python",
   "pygments_lexer": "ipython3",
   "version": "3.8.5"
  }
 },
 "nbformat": 4,
 "nbformat_minor": 4
}
