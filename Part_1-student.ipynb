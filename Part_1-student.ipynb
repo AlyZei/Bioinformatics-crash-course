{
 "cells": [
  {
   "cell_type": "markdown",
   "metadata": {},
   "source": [
    "# What is programming? And why?"
   ]
  },
  {
   "cell_type": "markdown",
   "metadata": {},
   "source": [
    "(This is a crash course!)"
   ]
  },
  {
   "cell_type": "markdown",
   "metadata": {},
   "source": [
    "## Setting the stage (variable assignment and files)"
   ]
  },
  {
   "cell_type": "code",
   "execution_count": 2,
   "metadata": {},
   "outputs": [],
   "source": [
    "file=open(\"seq_100.txt\")"
   ]
  },
  {
   "cell_type": "code",
   "execution_count": 3,
   "metadata": {},
   "outputs": [
    {
     "data": {
      "text/plain": [
       "100"
      ]
     },
     "execution_count": 3,
     "metadata": {},
     "output_type": "execute_result"
    }
   ],
   "source": [
    "mseq=file.readlines()\n",
    "len(mseq)"
   ]
  },
  {
   "cell_type": "code",
   "execution_count": 4,
   "metadata": {},
   "outputs": [
    {
     "data": {
      "text/plain": [
       "['CAGAATCACCTATTCACACTCAAAGCCCTGC\\n',\n",
       " 'AGCGGCCACGCTGCCGAAGGACAAGAGCAAC\\n',\n",
       " 'GAAACATTCTTAACATTAATTCTTCATAAAC\\n',\n",
       " 'TAAGAGTATGGAAGCTTTGTAAAGTTAACTA\\n',\n",
       " 'ACTTCATAACTTCTGGATTTCACAGCAGAAA\\n',\n",
       " 'ACACGACCGCTCGCACACTTGTTGAGGAAAC\\n',\n",
       " 'CATAGGATTGGGCCAGGCGCGGTGGCTCACG\\n',\n",
       " 'TGCTTCCTTTCTGAGCCAGTAGCTCTCACCA\\n',\n",
       " 'TCTGCCTCCTGTGGACAAAAAAAGGTAACAA\\n',\n",
       " 'ATTCAGTTAACCTCATTATTATCTTTAAAAA\\n',\n",
       " 'ATGTTTTCTCACGATCTGATTTTCATGGTTC\\n',\n",
       " 'CTCCTGAGTAGCTGGGACTGCAGGGACCATC\\n',\n",
       " 'GCCTCCCGAGTAGCTGGGACTACAAGCACAA\\n',\n",
       " 'GGCGACAGAGGGAGACGCTGTCTCAAAATAA\\n',\n",
       " 'CCTTTGTGAACATAAAGAAATCAGAAACATA\\n',\n",
       " 'AAGGCTTAAGCAAGGAATATATTTCCATGCC\\n',\n",
       " 'AGGAACAACAGCATCCTTCTTCCCAATGATC\\n',\n",
       " 'AAACTATGGTAATTTAGACAGTGGGTAGGGT\\n',\n",
       " 'AAGACCATCCTGCACACTCCTGACTCAAATT\\n',\n",
       " 'GAGAAAACCCAGTGGCTGTGCAGATGTGATA\\n',\n",
       " 'CACCCGTTTAAAATTTCCATTAGAAACTCTG\\n',\n",
       " 'AAATTAACTGCAGAAATAGACCTTTAAGCTT\\n',\n",
       " 'AAGGGCAGCAGGGATTCATTGAGTGCTTAGC\\n',\n",
       " 'AAAATATCCAAATGGCTTTTGCTGAATATGT\\n',\n",
       " 'CGCCCCCCCACCCTCCGCCCCAACAATGGCA\\n',\n",
       " 'CTTTCAATATGTAGAGGGTTTTTTTTTTTCC\\n',\n",
       " 'ATCAGAGAATAGAAATATGTTTTTGTGAAAC\\n',\n",
       " 'ACTGAAATCTTCATGTAGCAGCACGTCATAG\\n',\n",
       " 'GAAACTAATCCAGATTAGCACTTGATATTGA\\n',\n",
       " 'AAGATTCTTCTTTTTAGAGTTTAACCTGACA\\n',\n",
       " 'GGGCAGGGCCCCCCAGGAGAGACCCCACACA\\n',\n",
       " 'CTTGCAATTCCCCAAAATAAATGAACTAGAA\\n',\n",
       " 'AAATATTCACAGAAAAGTGATGTTCTTTTTG\\n',\n",
       " 'GGGTGGGGCAGCGTGTGGTAGGCGGGCGTCA\\n',\n",
       " 'GGAAGAGGAGGAAGGAGGCAGTGAATTCGCA\\n',\n",
       " 'CGCTGGCAGCGATGCACGAAGGACATCCATA\\n',\n",
       " 'AAGGTTCATGCAGATGACTTTCTACATCATG\\n',\n",
       " 'CGAACTTCTGACCTCAAGCGATCTGCCTGCC\\n',\n",
       " 'AAACTAAAGTGCCCAAGCCGCATTTAAAAAG\\n',\n",
       " 'CTGAGCCTTTGGTCTAAGTGGTTGGTTGGTC\\n',\n",
       " 'TAAAGATCATATTATGTCCCATCCAGCATTA\\n',\n",
       " 'CCTCTCCCGGTTTGCAGTTCTAGGAAGTGGA\\n',\n",
       " 'TACAATTATCGTAACAATTCAGACAATTTCA\\n',\n",
       " 'AAGACAGCTATTCATACATGTTTCCTTCATT\\n',\n",
       " 'AAAGTCAAGTGAGAAAAATTCAGTCAATACT\\n',\n",
       " 'TCAGGATGTTGGTGGAAAGATAATACATAAA\\n',\n",
       " 'GGAACTACTGCTTATAATTGATTTTCAGAAA\\n',\n",
       " 'CTAATGTAGAAACTAGTTTTAGCTTGTAAAC\\n',\n",
       " 'AAAAAAAAAAAAAAAGGCATTGGGATTTATA\\n',\n",
       " 'CTATACCTTGAGCTTGTTTGTGGGTCAGCAC\\n',\n",
       " 'AAACTTAAGAACTGTCTCAGTCCCCACTGAC\\n',\n",
       " 'ATAAGCAATATTTATTCATGGGTACATGAAC\\n',\n",
       " 'CGGGAGGAGTTCGTGCGCTTCGACAGCGACG\\n',\n",
       " 'CATTAATCTGGCACATTTGGTAAGAAGGTGA\\n',\n",
       " 'AGAGCGCAGGGTGACAGTCATCCAGAGACAC\\n',\n",
       " 'AAAGAATCCTGCAGGTGCTGACAGAGGCTGG\\n',\n",
       " 'AGCTTCAAACTTTTCTTCTGCAGCTTTCTCA\\n',\n",
       " 'AAGCTGTCTGGAGCTTCATGTGAGAAGGAAT\\n',\n",
       " 'GTTCAGCATTTTCAAGCTGACCCCGTATAAA\\n',\n",
       " 'GCCAACCAGCATATAAAAATGTTCAACATCA\\n',\n",
       " 'GCACTTTGGGAGGCTGAGGATGGAGGATCAC\\n',\n",
       " 'GGCTCCAGGAGGAAGAGGCTGAGCTCCAGCA\\n',\n",
       " 'TCCACAGATGGAGAGGAATTTTGCCTCAGGA\\n',\n",
       " 'AGATATGAGCAGATATTAATGACTTTTCCAT\\n',\n",
       " 'ACACAGTTTCACAATGGCTTAAAAATCAATC\\n',\n",
       " 'AACTGTCCGTATCTGTAGTGAAGAGAGTTAC\\n',\n",
       " 'GTTAGCTCTTCTTGGTGAATTGATCCCTTTA\\n',\n",
       " 'CATCACAAATCTAAAATAAAAGTTAAAAAAA\\n',\n",
       " 'CGCAGCACGCCCCTCACAGACCGTGCTGGGC\\n',\n",
       " 'CTCCTATTAAAAGTACTTGATACCATATAAA\\n',\n",
       " 'ATCAATCAAAGGGAAACTTGAAGATCAGAGA\\n',\n",
       " 'AAGATGTGTTTCTCAACCACAATTGGTGGAA\\n',\n",
       " 'CTGACGGCGATTTGCAGAATGTTACTTCTCC\\n',\n",
       " 'CCCACTGTTAACAGCAACAACAATGGCAGGC\\n',\n",
       " 'AGAAAGCACACACCTTAAGAGTGGGAGGAAT\\n',\n",
       " 'AATAAATAAATAAATAAATAAATAGCCAAAG\\n',\n",
       " 'TTTAGGTTATATTAAGTGATTGGCAATAAAA\\n',\n",
       " 'AGTGCCACTAGAGGGTGCCAGTTCCCAGCAA\\n',\n",
       " 'AAAAAAAAAGAATGCACTGTACTTATTCTTT\\n',\n",
       " 'GCTCTTTTCCACTGTATTAAACTGCTTTATA\\n',\n",
       " 'CTGACGTTCCCAAGTCCCCAGCTACTTGGCA\\n',\n",
       " 'AACATATGCTCCATCATTCATCTGGGTGGAA\\n',\n",
       " 'ATGCAGTTGAGATAAACTGAAATGACTGACA\\n',\n",
       " 'TCAAAAAGAGAAGACAAGGAGAAGTCCAAGA\\n',\n",
       " 'TTCTCATCACCTCATGGCACTTCCTCTAAAA\\n',\n",
       " 'AAGTGTTAACATCACTGCAACAACATTTTAA\\n',\n",
       " 'CCTGCCAGTCTCAGTTCATCTCTTACCAGGA\\n',\n",
       " 'GCTGGGAGGGTGAGAGGCCATGCCCACAAAA\\n',\n",
       " 'AGTCCCATATATAAAGTGGCATAGTGTTTAC\\n',\n",
       " 'AATCATTTAGCCTCAGAAATGTAGAAGAGTC\\n',\n",
       " 'TCCTGCAGGAGAGTGCCACAGCCAGACTCGA\\n',\n",
       " 'CTGCCCCTGGGAGCTTAAGCTTTAGCTAAGA\\n',\n",
       " 'CTATTATCCCACCATCTCTCATCACTATTCA\\n',\n",
       " 'GTGTTCTTCTTGTGTACGCTTTTCGGAGTAA\\n',\n",
       " 'CTAGAACAGATAGACAAGAGTGGCGAGCTCA\\n',\n",
       " 'AGGGTAGCTTTGAAAAAAGTATCTCAAAAAG\\n',\n",
       " 'AACTGCTTGGCGGCGATAGAAGTCGGGACCG\\n',\n",
       " 'CACTATTAATATTATAATTATATCATGGTAA\\n',\n",
       " 'GGAAAGGTGGGGACTGTTAATGGGTACAATA\\n',\n",
       " 'ATGAATATATAACCACCACCTGGAAGGTTCA\\n']"
      ]
     },
     "execution_count": 4,
     "metadata": {},
     "output_type": "execute_result"
    }
   ],
   "source": [
    "mseq"
   ]
  },
  {
   "cell_type": "code",
   "execution_count": 5,
   "metadata": {},
   "outputs": [
    {
     "data": {
      "text/plain": [
       "32"
      ]
     },
     "execution_count": 5,
     "metadata": {},
     "output_type": "execute_result"
    }
   ],
   "source": [
    "len(mseq[0])"
   ]
  },
  {
   "cell_type": "markdown",
   "metadata": {},
   "source": [
    "## Operate on variables"
   ]
  },
  {
   "cell_type": "markdown",
   "metadata": {},
   "source": [
    "Consult the doc: https://docs.python.org/3.9/\n",
    "* The **Language reference** teaches you about the syntax, grammar and basic constructs of the language (very tedious to read, not so useful really!). Maybe the \"Compound statement\" can be useful at some point.\n",
    "* The **Library reference** gives a list of all functions available to you... well, not exactly all, but a lot! Bookmark this one and read the entry for a given command you uncover through your _googling_.\n",
    "* Python's official **Tutorial** is very long, very detailed and not so exciting.\n",
    "\n",
    "Best learning dynamic (_programming is a craft_):\n",
    "1. **notebook** to experiment +\n",
    "1. **google** to get ideas + \n",
    "1. Python's **doc** to verify / clarify +\n",
    "1. enthusiast **network**.\n",
    "\n",
    "( _What if?_ )"
   ]
  },
  {
   "cell_type": "markdown",
   "metadata": {},
   "source": [
    "## Repeat and take decisions"
   ]
  },
  {
   "cell_type": "markdown",
   "metadata": {},
   "source": [
    "An indented section corresponds to a series of statements that are \"nested\" in another. Sometimes called a \"block\" in programming jargon! Variables that are created as part of this block will not exist outside."
   ]
  },
  {
   "cell_type": "markdown",
   "metadata": {},
   "source": [
    "Python is super slow... but the computer is soooo fast!"
   ]
  },
  {
   "cell_type": "markdown",
   "metadata": {},
   "source": [
    "Something (nearly) useful!"
   ]
  },
  {
   "cell_type": "code",
   "execution_count": 6,
   "metadata": {},
   "outputs": [
    {
     "name": "stdout",
     "output_type": "stream",
     "text": [
      "656\n"
     ]
    }
   ],
   "source": [
    "#counting the Cs in the sequence mseq\n",
    "\n",
    "c_count=0\n",
    "for i in mseq:\n",
    "    for j in i:\n",
    "        if j=='C':\n",
    "            c_count+=1\n",
    "            \n",
    "print(c_count)"
   ]
  },
  {
   "cell_type": "markdown",
   "metadata": {},
   "source": [
    "How many nucleotides before the first A?"
   ]
  },
  {
   "cell_type": "code",
   "execution_count": 8,
   "metadata": {},
   "outputs": [
    {
     "name": "stdout",
     "output_type": "stream",
     "text": [
      "The number of nucleotides before the first A is 1\n"
     ]
    }
   ],
   "source": [
    "before_a=0   \n",
    "i=0\n",
    "j=0\n",
    "nucleo=mseq[i][j]\n",
    "while nucleo!='A':\n",
    "    #add boundaries for i and j (find the lengths of the lines (it's 32) and then length of the mseq (it's 100))\n",
    "    if j<31:\n",
    "        nucleo=mseq[i+1][j+1]\n",
    "        before_a+=1\n",
    "        i+=1\n",
    "        j+=1\n",
    "    else:\n",
    "        j=0\n",
    "        i+=1\n",
    "    if i==100:\n",
    "        print('no A was found')\n",
    "        break\n",
    "print(\"The number of nucleotides before the first \"+ nucleo+\" is \"+str(before_a-1)+\".\")"
   ]
  },
  {
   "cell_type": "markdown",
   "metadata": {},
   "source": [
    "Always multiple solutions... which is the best?"
   ]
  },
  {
   "cell_type": "markdown",
   "metadata": {},
   "source": [
    "## But it is supposed to simplify my life!!!"
   ]
  },
  {
   "cell_type": "markdown",
   "metadata": {},
   "source": [
    "(function definition, abstraction, the art of forgetting, \"wouldn't it be nice if...\")"
   ]
  },
  {
   "cell_type": "code",
   "execution_count": 9,
   "metadata": {},
   "outputs": [],
   "source": [
    "def count_c(list):\n",
    "    c_count=0\n",
    "    for i in list:\n",
    "        if i=='C':\n",
    "            c_count+=1\n",
    "    return c_count"
   ]
  },
  {
   "cell_type": "markdown",
   "metadata": {},
   "source": [
    "The functions that you define typically build on each others, each time allowing you to forget their inner working."
   ]
  },
  {
   "cell_type": "code",
   "execution_count": 10,
   "metadata": {},
   "outputs": [
    {
     "name": "stdout",
     "output_type": "stream",
     "text": [
      "12\n",
      "10\n",
      "6\n",
      "2\n",
      "7\n",
      "10\n",
      "8\n",
      "11\n",
      "7\n",
      "5\n",
      "6\n",
      "9\n",
      "10\n",
      "6\n",
      "5\n",
      "6\n",
      "10\n",
      "2\n",
      "11\n",
      "5\n",
      "8\n",
      "5\n",
      "5\n",
      "4\n",
      "19\n",
      "4\n",
      "2\n",
      "7\n",
      "5\n",
      "5\n",
      "13\n",
      "7\n",
      "3\n",
      "5\n",
      "3\n",
      "9\n",
      "6\n",
      "12\n",
      "7\n",
      "5\n",
      "7\n",
      "8\n",
      "6\n",
      "7\n",
      "4\n",
      "2\n",
      "4\n",
      "4\n",
      "1\n",
      "7\n",
      "10\n",
      "4\n",
      "8\n",
      "4\n",
      "8\n",
      "6\n",
      "9\n",
      "4\n",
      "8\n",
      "8\n",
      "5\n",
      "8\n",
      "6\n",
      "4\n",
      "7\n",
      "5\n",
      "6\n",
      "4\n",
      "14\n",
      "6\n",
      "4\n",
      "5\n",
      "8\n",
      "10\n",
      "5\n",
      "2\n",
      "1\n",
      "9\n",
      "4\n",
      "7\n",
      "12\n",
      "7\n",
      "4\n",
      "4\n",
      "11\n",
      "6\n",
      "11\n",
      "7\n",
      "5\n",
      "5\n",
      "10\n",
      "8\n",
      "12\n",
      "5\n",
      "6\n",
      "3\n",
      "7\n",
      "3\n",
      "2\n",
      "7\n"
     ]
    }
   ],
   "source": [
    "for s in mseq:\n",
    "    print(count_c(s))"
   ]
  },
  {
   "cell_type": "code",
   "execution_count": 11,
   "metadata": {},
   "outputs": [],
   "source": [
    "def count_nuc(list, nuc):\n",
    "    nuc_count=0\n",
    "    for i in list:\n",
    "        if i==nuc:\n",
    "            nuc_count+=1\n",
    "    return nuc_count"
   ]
  },
  {
   "cell_type": "code",
   "execution_count": 12,
   "metadata": {},
   "outputs": [],
   "source": [
    "for s in mseq:\n",
    "    if (count_nuc(s, 'C')!=count_c(s)):\n",
    "        print(\"the function is bad\")"
   ]
  },
  {
   "cell_type": "code",
   "execution_count": 14,
   "metadata": {},
   "outputs": [
    {
     "name": "stdout",
     "output_type": "stream",
     "text": [
      "[12, 3, 6, 10]\n"
     ]
    }
   ],
   "source": [
    "def count_all(list): #returns the number of A, C, G, T in list in this order\n",
    "    order={'A', 'C', 'G', 'T'}\n",
    "    return [count_nuc(list, i) for i in order]\n",
    "\n",
    "print(count_all(mseq[0]))"
   ]
  },
  {
   "cell_type": "markdown",
   "metadata": {},
   "source": [
    "It is a good idea to put efforts in making your own code simpler to understand. Never hesitate to rewrite, reorganize, adjust variables and function names. It feels as wasted time (it doesn't do anything new!), but it is necessary to avoid getting \"stuck\"."
   ]
  },
  {
   "cell_type": "markdown",
   "metadata": {},
   "source": [
    "## Insert exercises here!"
   ]
  },
  {
   "cell_type": "markdown",
   "metadata": {},
   "source": [
    "### 1) Compute %GC. Make a function that returns the %."
   ]
  },
  {
   "cell_type": "markdown",
   "metadata": {},
   "source": [
    "Break problem into smaller tasks (especially nested tasks, *what-if-I-had-a-function-that*... Be opportunistic with functions you have written (maybe they just need a small adjustment to become more versatile)! It is with this in mind that you try to complete each exercise by defining a function that you could reuse."
   ]
  },
  {
   "cell_type": "code",
   "execution_count": 15,
   "metadata": {},
   "outputs": [],
   "source": [
    "def GC_percentage(seq): #fonction qui trouve le pourcentage de GC dans une séquence seq\n",
    "    a, b, c, d=count_all(seq)\n",
    "    GC_count=b+c\n",
    "    total_count=a+b+c+d\n",
    "    return GC_count/total_count*100"
   ]
  },
  {
   "cell_type": "code",
   "execution_count": 16,
   "metadata": {},
   "outputs": [
    {
     "name": "stdout",
     "output_type": "stream",
     "text": [
      "29.03225806451613\n"
     ]
    }
   ],
   "source": [
    "print(GC_percentage(mseq[0]))"
   ]
  },
  {
   "cell_type": "code",
   "execution_count": 17,
   "metadata": {},
   "outputs": [
    {
     "data": {
      "text/plain": [
       "'CAGAATCACCTATTCACACTCAAAGCCCTGC\\n'"
      ]
     },
     "execution_count": 17,
     "metadata": {},
     "output_type": "execute_result"
    }
   ],
   "source": [
    "mseq[0]"
   ]
  },
  {
   "cell_type": "code",
   "execution_count": 20,
   "metadata": {},
   "outputs": [],
   "source": [
    "def AT_percentage(seq): #fonction qui trouve le pourcentage de GC dans une séquence seq\n",
    "    a, b, c, d=count_all(seq)\n",
    "    AT_count=a+d\n",
    "    total_count=a+b+c+d\n",
    "    return AT_count/total_count*100"
   ]
  },
  {
   "cell_type": "code",
   "execution_count": 21,
   "metadata": {},
   "outputs": [
    {
     "name": "stdout",
     "output_type": "stream",
     "text": [
      "100.0\n"
     ]
    }
   ],
   "source": [
    "total=GC_percentage(mseq[0])+AT_percentage(mseq[0])\n",
    "print(total)"
   ]
  },
  {
   "cell_type": "markdown",
   "metadata": {},
   "source": [
    "### 2) Find the position of the first ATG. Make it into a function that returns the index."
   ]
  },
  {
   "cell_type": "markdown",
   "metadata": {},
   "source": [
    "When the problem seems more complex, try doing it by hand first. You need a pen and paper to program, or a white board... It is easier to be explicit with each step after you've done it intuitively."
   ]
  },
  {
   "cell_type": "code",
   "execution_count": 22,
   "metadata": {},
   "outputs": [],
   "source": [
    "#making mseq into a 100*32 nucleotide long sequence named stripped_mseq\n",
    "stripped_mseq=\"\"\n",
    "for i in mseq:\n",
    "    i=i.strip('\\n')\n",
    "    stripped_mseq=stripped_mseq+i\n",
    "#print(stripped_mseq) "
   ]
  },
  {
   "cell_type": "code",
   "execution_count": 23,
   "metadata": {},
   "outputs": [],
   "source": [
    "def position_first_ATG(list): #index du premier ATG dans la liste list\n",
    "    return list.find('ATG')"
   ]
  },
  {
   "cell_type": "code",
   "execution_count": 24,
   "metadata": {},
   "outputs": [
    {
     "name": "stdout",
     "output_type": "stream",
     "text": [
      "100 ATG\n"
     ]
    }
   ],
   "source": [
    "first_index=position_first_ATG(stripped_mseq)\n",
    "print(first_index, stripped_mseq[first_index:first_index+3])"
   ]
  },
  {
   "cell_type": "code",
   "execution_count": 25,
   "metadata": {},
   "outputs": [],
   "source": [
    "def first_ATG_with_hands(list): #an annoying function made without the help of Python\n",
    "    l=len(list)\n",
    "    i=0\n",
    "    while (i<=l-3 and (list[i]!='A' or list[i+1]!='T' or list[i+2]!='G')):\n",
    "        i+=1\n",
    "    if i>l-3:\n",
    "        print('no ATGs')\n",
    "    return i"
   ]
  },
  {
   "cell_type": "code",
   "execution_count": 26,
   "metadata": {},
   "outputs": [],
   "source": [
    "first_index_with_hands=first_ATG_with_hands(stripped_mseq) #testing my function against teh Python built in function"
   ]
  },
  {
   "cell_type": "code",
   "execution_count": 28,
   "metadata": {},
   "outputs": [
    {
     "data": {
      "text/plain": [
       "True"
      ]
     },
     "execution_count": 28,
     "metadata": {},
     "output_type": "execute_result"
    }
   ],
   "source": [
    "first_index_with_hands==first_index #same result!"
   ]
  },
  {
   "cell_type": "code",
   "execution_count": 30,
   "metadata": {},
   "outputs": [],
   "source": [
    "def findATGnoloophelp(s):\n",
    "    if len(s)<3:\n",
    "        print ('no ATGs')\n",
    "        return -1\n",
    "    if 'ATG' ==s[0:3]:\n",
    "        return 0\n",
    "    result= findATGnoloophelp(s[1::])\n",
    "    if result==-1:\n",
    "        return result\n",
    "    return result+1"
   ]
  },
  {
   "cell_type": "code",
   "execution_count": 31,
   "metadata": {
    "scrolled": true
   },
   "outputs": [
    {
     "name": "stdout",
     "output_type": "stream",
     "text": [
      "100\n"
     ]
    }
   ],
   "source": [
    "print(findATGnoloophelp(stripped_mseq))"
   ]
  },
  {
   "cell_type": "markdown",
   "metadata": {},
   "source": [
    "### 3) Where is the first stop \"codon\"? (TAA, TAG, TGA) *Make it into a...*"
   ]
  },
  {
   "cell_type": "markdown",
   "metadata": {},
   "source": [
    "What if you had a more versatile version of 2)?"
   ]
  },
  {
   "cell_type": "code",
   "execution_count": 32,
   "metadata": {},
   "outputs": [],
   "source": [
    "def position_first(list, to_find): #finding the first occurrence of a given to_find sequence, in a given list\n",
    "    return list.find(to_find)"
   ]
  },
  {
   "cell_type": "code",
   "execution_count": 33,
   "metadata": {},
   "outputs": [],
   "source": [
    "def first_stop_codon(list): #finding the position of the first stop codon\n",
    "    stop=['TAA', 'TAG', 'TGA']\n",
    "    candidates=[position_first(list, to_find) for to_find in stop]\n",
    "    return min(candidates)"
   ]
  },
  {
   "cell_type": "code",
   "execution_count": 34,
   "metadata": {},
   "outputs": [
    {
     "data": {
      "text/plain": [
       "72"
      ]
     },
     "execution_count": 34,
     "metadata": {},
     "output_type": "execute_result"
    }
   ],
   "source": [
    "#position of the first stop codon in mseq\n",
    "first_stop_codon(stripped_mseq)"
   ]
  },
  {
   "cell_type": "code",
   "execution_count": 35,
   "metadata": {},
   "outputs": [
    {
     "name": "stdout",
     "output_type": "stream",
     "text": [
      "72 TAA\n"
     ]
    }
   ],
   "source": [
    "#position of the first stop codon in mseq and the sequence of the first stop codon\n",
    "a=first_stop_codon(stripped_mseq)\n",
    "print(a, stripped_mseq[a:a+3])"
   ]
  },
  {
   "cell_type": "markdown",
   "metadata": {},
   "source": [
    "### 4) How many CpG? *Mak...*"
   ]
  },
  {
   "cell_type": "code",
   "execution_count": 36,
   "metadata": {
    "scrolled": true
   },
   "outputs": [
    {
     "data": {
      "text/plain": [
       "56"
      ]
     },
     "execution_count": 36,
     "metadata": {},
     "output_type": "execute_result"
    }
   ],
   "source": [
    "#the number of cpgs in mseq\n",
    "stripped_mseq.count('CG')"
   ]
  },
  {
   "cell_type": "code",
   "execution_count": 37,
   "metadata": {},
   "outputs": [],
   "source": [
    "# a function counting the number of CpGs in a given list\n",
    "def cpg_number(list):\n",
    "    return list.count('CG')"
   ]
  },
  {
   "cell_type": "code",
   "execution_count": 38,
   "metadata": {},
   "outputs": [
    {
     "data": {
      "text/plain": [
       "56"
      ]
     },
     "execution_count": 38,
     "metadata": {},
     "output_type": "execute_result"
    }
   ],
   "source": [
    "#also the number of cpgs in mseq, counted with the previous function\n",
    "cpg_number(stripped_mseq)"
   ]
  },
  {
   "cell_type": "markdown",
   "metadata": {},
   "source": [
    "### 5) How many k-mers from the file contains at least one 'ATG'?"
   ]
  },
  {
   "cell_type": "markdown",
   "metadata": {},
   "source": [
    "These were loaded in the `mseq` variable at the beginning of the class. They come from the file `seq_100.txt` (on Studium)."
   ]
  },
  {
   "cell_type": "code",
   "execution_count": 39,
   "metadata": {},
   "outputs": [
    {
     "name": "stdout",
     "output_type": "stream",
     "text": [
      "38\n"
     ]
    }
   ],
   "source": [
    "#counting the kmers that contain at least one 'ATG'\n",
    "number_kmers_with_ATG=0\n",
    "for i in mseq:\n",
    "    if 'ATG' in i:\n",
    "        #print(i)\n",
    "        number_kmers_with_ATG+=1\n",
    "\n",
    "print(number_kmers_with_ATG)"
   ]
  }
 ],
 "metadata": {
  "kernelspec": {
   "display_name": "Python 3",
   "language": "python",
   "name": "python3"
  },
  "language_info": {
   "codemirror_mode": {
    "name": "ipython",
    "version": 3
   },
   "file_extension": ".py",
   "mimetype": "text/x-python",
   "name": "python",
   "nbconvert_exporter": "python",
   "pygments_lexer": "ipython3",
   "version": "3.8.5"
  }
 },
 "nbformat": 4,
 "nbformat_minor": 2
}
