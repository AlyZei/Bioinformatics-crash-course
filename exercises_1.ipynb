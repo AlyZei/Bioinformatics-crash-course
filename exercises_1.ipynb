{
 "cells": [
  {
   "cell_type": "markdown",
   "metadata": {},
   "source": [
    "# Data Analysis and Data Science\n",
    "## Be curious about the data \n",
    "\n",
    "By: Caroline Labelle\n",
    "<br>For: BCM6065-65\n",
    "\n",
    "<br>\n",
    "Date: June  30th 2022\n",
    "\n",
    "<hr style=\"border:1px solid black\"> </hr>\n"
   ]
  },
  {
   "cell_type": "markdown",
   "metadata": {},
   "source": [
    "**Student Name**: \n",
    "\n",
    "Complete the following exercises and submit your Notebook in a HTML format on StudiUM. You have until July 1st, 2022, 1:00pm to hand-in your Notebook."
   ]
  },
  {
   "cell_type": "markdown",
   "metadata": {},
   "source": [
    "## Python Libraries\n",
    "\n",
    "Import the Pandas, seaborn and Matplotlib.pyplot"
   ]
  },
  {
   "cell_type": "code",
   "execution_count": 1,
   "metadata": {},
   "outputs": [],
   "source": [
    "### Import librairies\n",
    "import pandas as pd\n",
    "import matplotlib.pyplot as plt\n",
    "import seaborn as sns"
   ]
  },
  {
   "cell_type": "code",
   "execution_count": 5,
   "metadata": {},
   "outputs": [],
   "source": [
    "### (If you wish)\n",
    "### Seaborn theme parameters\n",
    "sns.set_theme(context='notebook', style='darkgrid', palette='pastel', \n",
    "                  font='sans-serif', font_scale=1, color_codes=True, rc=None)"
   ]
  },
  {
   "cell_type": "markdown",
   "metadata": {},
   "source": [
    "## Get the data [5 pts]\n",
    "\n",
    "Download the <code>breast_cancer_metametric.tsv</code> dataset from StudiUM and upload it to the Jupyter IRIC server. Using <code>pandas</code>, read the file and save its content into a variable as a dataframe."
   ]
  },
  {
   "cell_type": "code",
   "execution_count": 6,
   "metadata": {},
   "outputs": [],
   "source": [
    "## Define variable with file name\n",
    "file_name=\"breast_cancer_metametric.tsv\""
   ]
  },
  {
   "cell_type": "code",
   "execution_count": 7,
   "metadata": {},
   "outputs": [],
   "source": [
    "## Read and save data into variable as a dataframe\n",
    "df=pd.read_csv(file_name, sep='\\t')"
   ]
  },
  {
   "cell_type": "code",
   "execution_count": 8,
   "metadata": {},
   "outputs": [
    {
     "data": {
      "text/html": [
       "<div>\n",
       "<style scoped>\n",
       "    .dataframe tbody tr th:only-of-type {\n",
       "        vertical-align: middle;\n",
       "    }\n",
       "\n",
       "    .dataframe tbody tr th {\n",
       "        vertical-align: top;\n",
       "    }\n",
       "\n",
       "    .dataframe thead th {\n",
       "        text-align: right;\n",
       "    }\n",
       "</style>\n",
       "<table border=\"1\" class=\"dataframe\">\n",
       "  <thead>\n",
       "    <tr style=\"text-align: right;\">\n",
       "      <th></th>\n",
       "      <th>CHEMOTHERAPY</th>\n",
       "      <th>HORMONE_THERAPY</th>\n",
       "      <th>RADIO_THERAPY</th>\n",
       "      <th>BREAST_SURGERY</th>\n",
       "      <th>CELLULARITY</th>\n",
       "      <th>VITAL_STATUS</th>\n",
       "      <th>GRADE</th>\n",
       "      <th>COHORT</th>\n",
       "      <th>MUTATION_COUNT</th>\n",
       "      <th>NPI</th>\n",
       "      <th>OS_MONTHS</th>\n",
       "      <th>TUMOR_SIZE</th>\n",
       "      <th>TUMOR_STAGE</th>\n",
       "      <th>AGE_GROUP</th>\n",
       "    </tr>\n",
       "  </thead>\n",
       "  <tbody>\n",
       "    <tr>\n",
       "      <th>0</th>\n",
       "      <td>1.0</td>\n",
       "      <td>1.0</td>\n",
       "      <td>1.0</td>\n",
       "      <td>0.0</td>\n",
       "      <td>2.0</td>\n",
       "      <td>0.0</td>\n",
       "      <td>3.0</td>\n",
       "      <td>1.0</td>\n",
       "      <td>2.0</td>\n",
       "      <td>4.038</td>\n",
       "      <td>174.266667</td>\n",
       "      <td>19.0</td>\n",
       "      <td>1.0</td>\n",
       "      <td>30.0</td>\n",
       "    </tr>\n",
       "    <tr>\n",
       "      <th>1</th>\n",
       "      <td>1.0</td>\n",
       "      <td>1.0</td>\n",
       "      <td>1.0</td>\n",
       "      <td>0.0</td>\n",
       "      <td>1.0</td>\n",
       "      <td>2.0</td>\n",
       "      <td>3.0</td>\n",
       "      <td>1.0</td>\n",
       "      <td>4.0</td>\n",
       "      <td>6.046</td>\n",
       "      <td>48.600000</td>\n",
       "      <td>23.0</td>\n",
       "      <td>2.0</td>\n",
       "      <td>30.0</td>\n",
       "    </tr>\n",
       "    <tr>\n",
       "      <th>2</th>\n",
       "      <td>1.0</td>\n",
       "      <td>1.0</td>\n",
       "      <td>1.0</td>\n",
       "      <td>0.0</td>\n",
       "      <td>0.0</td>\n",
       "      <td>1.0</td>\n",
       "      <td>3.0</td>\n",
       "      <td>1.0</td>\n",
       "      <td>3.0</td>\n",
       "      <td>5.104</td>\n",
       "      <td>79.333333</td>\n",
       "      <td>52.0</td>\n",
       "      <td>3.0</td>\n",
       "      <td>80.0</td>\n",
       "    </tr>\n",
       "    <tr>\n",
       "      <th>3</th>\n",
       "      <td>0.0</td>\n",
       "      <td>1.0</td>\n",
       "      <td>0.0</td>\n",
       "      <td>0.0</td>\n",
       "      <td>2.0</td>\n",
       "      <td>0.0</td>\n",
       "      <td>2.0</td>\n",
       "      <td>3.0</td>\n",
       "      <td>5.0</td>\n",
       "      <td>3.036</td>\n",
       "      <td>224.600000</td>\n",
       "      <td>18.0</td>\n",
       "      <td>1.0</td>\n",
       "      <td>40.0</td>\n",
       "    </tr>\n",
       "    <tr>\n",
       "      <th>4</th>\n",
       "      <td>0.0</td>\n",
       "      <td>1.0</td>\n",
       "      <td>1.0</td>\n",
       "      <td>1.0</td>\n",
       "      <td>2.0</td>\n",
       "      <td>1.0</td>\n",
       "      <td>3.0</td>\n",
       "      <td>1.0</td>\n",
       "      <td>2.0</td>\n",
       "      <td>4.040</td>\n",
       "      <td>147.366667</td>\n",
       "      <td>20.0</td>\n",
       "      <td>1.0</td>\n",
       "      <td>60.0</td>\n",
       "    </tr>\n",
       "  </tbody>\n",
       "</table>\n",
       "</div>"
      ],
      "text/plain": [
       "   CHEMOTHERAPY  HORMONE_THERAPY  RADIO_THERAPY  BREAST_SURGERY  CELLULARITY  \\\n",
       "0           1.0              1.0            1.0             0.0          2.0   \n",
       "1           1.0              1.0            1.0             0.0          1.0   \n",
       "2           1.0              1.0            1.0             0.0          0.0   \n",
       "3           0.0              1.0            0.0             0.0          2.0   \n",
       "4           0.0              1.0            1.0             1.0          2.0   \n",
       "\n",
       "   VITAL_STATUS  GRADE  COHORT  MUTATION_COUNT    NPI   OS_MONTHS  TUMOR_SIZE  \\\n",
       "0           0.0    3.0     1.0             2.0  4.038  174.266667        19.0   \n",
       "1           2.0    3.0     1.0             4.0  6.046   48.600000        23.0   \n",
       "2           1.0    3.0     1.0             3.0  5.104   79.333333        52.0   \n",
       "3           0.0    2.0     3.0             5.0  3.036  224.600000        18.0   \n",
       "4           1.0    3.0     1.0             2.0  4.040  147.366667        20.0   \n",
       "\n",
       "   TUMOR_STAGE  AGE_GROUP  \n",
       "0          1.0       30.0  \n",
       "1          2.0       30.0  \n",
       "2          3.0       80.0  \n",
       "3          1.0       40.0  \n",
       "4          1.0       60.0  "
      ]
     },
     "execution_count": 8,
     "metadata": {},
     "output_type": "execute_result"
    }
   ],
   "source": [
    "df.head()"
   ]
  },
  {
   "cell_type": "markdown",
   "metadata": {},
   "source": [
    "## Explore the data [10 pts + 2pts]\n",
    "\n",
    "Using various <code>pandas</code> functions, answer the following questions. **Make sure you answers are explicitely outputed by your code.**"
   ]
  },
  {
   "cell_type": "markdown",
   "metadata": {},
   "source": [
    "1. How many variables and samples are there in your dataset?"
   ]
  },
  {
   "cell_type": "code",
   "execution_count": 9,
   "metadata": {
    "scrolled": true
   },
   "outputs": [
    {
     "name": "stdout",
     "output_type": "stream",
     "text": [
      "The number of samples is 1104.\n"
     ]
    }
   ],
   "source": [
    "print (\"The number of samples is \"+str(df.shape[0])+\".\")"
   ]
  },
  {
   "cell_type": "code",
   "execution_count": 10,
   "metadata": {},
   "outputs": [
    {
     "name": "stdout",
     "output_type": "stream",
     "text": [
      "The number of variables is 14.\n"
     ]
    }
   ],
   "source": [
    "print (\"The number of variables is \"+str(df.shape[1])+\".\")"
   ]
  },
  {
   "cell_type": "markdown",
   "metadata": {},
   "source": [
    "***\n",
    "2. How many age groups are considered?"
   ]
  },
  {
   "cell_type": "code",
   "execution_count": 14,
   "metadata": {},
   "outputs": [
    {
     "data": {
      "text/plain": [
       "array([30., 80., 40., 60., 50., nan, 90.])"
      ]
     },
     "execution_count": 14,
     "metadata": {},
     "output_type": "execute_result"
    }
   ],
   "source": [
    "#Unique Age Groups that appear\n",
    "df.AGE_GROUP.unique()"
   ]
  },
  {
   "cell_type": "code",
   "execution_count": 15,
   "metadata": {},
   "outputs": [
    {
     "name": "stdout",
     "output_type": "stream",
     "text": [
      "The number of age groups considered is 7.\n",
      "The number of age groups considered is 6 if we don't take NaN into account.\n"
     ]
    }
   ],
   "source": [
    "print (\"The number of age groups considered is \"+str(len(df.AGE_GROUP.unique()))+\".\")\n",
    "print(\"The number of age groups considered is \"+str(len(df.AGE_GROUP.unique())-1)+\" if we don't take NaN into account.\")"
   ]
  },
  {
   "cell_type": "markdown",
   "metadata": {},
   "source": [
    "***\n",
    "3. What is the mean overall survival (in month)?"
   ]
  },
  {
   "cell_type": "code",
   "execution_count": 17,
   "metadata": {},
   "outputs": [
    {
     "name": "stdout",
     "output_type": "stream",
     "text": [
      "The mean overall survival in months is 126.10326086947474.\n"
     ]
    }
   ],
   "source": [
    "print (\"The mean overall survival in months is \"+str(df.OS_MONTHS.mean())+\".\")"
   ]
  },
  {
   "cell_type": "markdown",
   "metadata": {},
   "source": [
    "***\n",
    "4. What is the highest mutation count?"
   ]
  },
  {
   "cell_type": "code",
   "execution_count": 18,
   "metadata": {},
   "outputs": [
    {
     "name": "stdout",
     "output_type": "stream",
     "text": [
      "The highest mutation count is 46.0.\n"
     ]
    }
   ],
   "source": [
    "print (\"The highest mutation count is \"+str(df.MUTATION_COUNT.max())+\".\")"
   ]
  },
  {
   "cell_type": "markdown",
   "metadata": {},
   "source": [
    "***\n",
    "5. How large is the smallest tumor?"
   ]
  },
  {
   "cell_type": "code",
   "execution_count": 19,
   "metadata": {},
   "outputs": [
    {
     "name": "stdout",
     "output_type": "stream",
     "text": [
      "The width of the smallest tumor is 1.0.\n"
     ]
    }
   ],
   "source": [
    "print (\"The width of the smallest tumor is \"+str(df.TUMOR_SIZE.min())+\".\")"
   ]
  },
  {
   "cell_type": "markdown",
   "metadata": {},
   "source": [
    "***\n",
    "6. What are the grades considered in the dataset?"
   ]
  },
  {
   "cell_type": "code",
   "execution_count": 21,
   "metadata": {},
   "outputs": [
    {
     "name": "stdout",
     "output_type": "stream",
     "text": [
      "The grades considered in the dataset are [3. 2. 1.].\n"
     ]
    }
   ],
   "source": [
    "print (\"The grades considered in the dataset are \"+str(df.GRADE.unique())+\".\")"
   ]
  },
  {
   "cell_type": "markdown",
   "metadata": {},
   "source": [
    "***\n",
    "7. What is the median Nottingham Prognostic Index (NPI)?"
   ]
  },
  {
   "cell_type": "code",
   "execution_count": 22,
   "metadata": {},
   "outputs": [
    {
     "name": "stdout",
     "output_type": "stream",
     "text": [
      "The  median Nottingham Prognostic Index (NPI) is 4.046.\n"
     ]
    }
   ],
   "source": [
    "print (\"The  median Nottingham Prognostic Index (NPI) is \"+str(df.NPI.median())+\".\")"
   ]
  },
  {
   "cell_type": "markdown",
   "metadata": {},
   "source": [
    "***\n",
    "8. a) What are the possible values for CHEMOTHERAPY, HORMONE_THERAPY, RADIO_THERAPY, BREAST_SURGERY? <br>b) What do you think these values represent? "
   ]
  },
  {
   "cell_type": "code",
   "execution_count": 24,
   "metadata": {},
   "outputs": [
    {
     "name": "stdout",
     "output_type": "stream",
     "text": [
      "The possible values for CHEMOTHERAPY are [1. 0.].\n",
      "The possible values for HORMONE_THERAPY are [1. 0.].\n",
      "The possible values for RADIO_THERAPY are [1. 0.].\n",
      "The possible values for BREAST_SURGERY are [0. 1.].\n"
     ]
    }
   ],
   "source": [
    "for i in ['CHEMOTHERAPY', 'HORMONE_THERAPY', 'RADIO_THERAPY', 'BREAST_SURGERY']:\n",
    "    print (\"The possible values for \"+i+\" are \"+str(df[i].unique())+\".\")"
   ]
  },
  {
   "cell_type": "raw",
   "metadata": {},
   "source": [
    "These are binary values that probably mean True (1) or False (0) for each treatment. They give us information on whether or not the patient has undergone this specific treatment. "
   ]
  },
  {
   "cell_type": "markdown",
   "metadata": {},
   "source": [
    "***\n",
    "**BONUS**\n",
    "How many patients in the dataset have had breast surgery?"
   ]
  },
  {
   "cell_type": "code",
   "execution_count": 26,
   "metadata": {},
   "outputs": [
    {
     "name": "stdout",
     "output_type": "stream",
     "text": [
      "The number of patients in the dataset that have had breast surgery is 468.0.\n"
     ]
    }
   ],
   "source": [
    "print (\"The number of patients in the dataset that have had breast surgery is \"+str(df.BREAST_SURGERY.sum())+\".\")"
   ]
  },
  {
   "cell_type": "markdown",
   "metadata": {},
   "source": [
    "## Visualize the data [45 pts + 10 pts]"
   ]
  },
  {
   "cell_type": "markdown",
   "metadata": {},
   "source": [
    "You are first interested in the distribution of the overall survival of the various samples. You hypothesize that the distribution differ from one tumor stage to another.\n",
    "\n",
    "Design a figure that will help verify your hypothesis. **Make sure your figure is readable and displayed after your code.**\n",
    "\n",
    "Briefly intepret your figure."
   ]
  },
  {
   "cell_type": "code",
   "execution_count": 30,
   "metadata": {},
   "outputs": [
    {
     "data": {
      "image/png": "[encoded data removed]",
      "text/plain": [
       "<Figure size 432x288 with 1 Axes>"
      ]
     },
     "metadata": {},
     "output_type": "display_data"
    }
   ],
   "source": [
    "### Figure: survival score for each treatment\n",
    "sns.set_theme(style=\"ticks\", palette=\"pastel\")\n",
    "\n",
    "# Draw a nested boxplot to show  OS_MONTHS by Tumor stage\n",
    "sns.boxplot(x=\"TUMOR_STAGE\", y=\"OS_MONTHS\",\n",
    "            palette=[\"m\", \"g\"],\n",
    "            data=df)\n",
    "sns.despine(offset=10, trim=True)"
   ]
  },
  {
   "cell_type": "markdown",
   "metadata": {},
   "source": [
    "**Interpretation** : \n",
    "There is statistically significant difference in Overall Survival between patients with tumors in stages 1 and 2 and patients with tumors in stages 3 and 4. "
   ]
  },
  {
   "cell_type": "markdown",
   "metadata": {},
   "source": [
    "***\n",
    "You are now interested in the pairwise comparison of the following variables: the mutation count, the overall survival and the size of the tumor. \n",
    "\n",
    "You are wondering if any of these variables seem to be correlated. You also wonder if these pairwise comparison could be grouped based on the stage of the tumor.\n",
    "\n",
    "Considering your variable of interest, make an hypothesis (what do you expect the results to be like?) and design a figure that will help verify your hypothesis. **Make sure your figure is readable and displayed after your code.**\n",
    "\n",
    "Briefly intepret your figure."
   ]
  },
  {
   "cell_type": "markdown",
   "metadata": {},
   "source": [
    "**Hypothesis** : We could hypothesize that the mutation count, the overall survival and the size of the tumor are strongly correlated. \n",
    "We can also formulate the hypothesis that the correlation will grow stronger when grouped based on the stage of the tumor. "
   ]
  },
  {
   "cell_type": "code",
   "execution_count": 35,
   "metadata": {},
   "outputs": [
    {
     "data": {
      "text/html": [
       "<div>\n",
       "<style scoped>\n",
       "    .dataframe tbody tr th:only-of-type {\n",
       "        vertical-align: middle;\n",
       "    }\n",
       "\n",
       "    .dataframe tbody tr th {\n",
       "        vertical-align: top;\n",
       "    }\n",
       "\n",
       "    .dataframe thead th {\n",
       "        text-align: right;\n",
       "    }\n",
       "</style>\n",
       "<table border=\"1\" class=\"dataframe\">\n",
       "  <thead>\n",
       "    <tr style=\"text-align: right;\">\n",
       "      <th></th>\n",
       "      <th>MUTATION_COUNT</th>\n",
       "      <th>OS_MONTHS</th>\n",
       "      <th>TUMOR_SIZE</th>\n",
       "    </tr>\n",
       "  </thead>\n",
       "  <tbody>\n",
       "    <tr>\n",
       "      <th>MUTATION_COUNT</th>\n",
       "      <td>1.000000</td>\n",
       "      <td>0.057844</td>\n",
       "      <td>0.013116</td>\n",
       "    </tr>\n",
       "    <tr>\n",
       "      <th>OS_MONTHS</th>\n",
       "      <td>0.057844</td>\n",
       "      <td>1.000000</td>\n",
       "      <td>-0.226374</td>\n",
       "    </tr>\n",
       "    <tr>\n",
       "      <th>TUMOR_SIZE</th>\n",
       "      <td>0.013116</td>\n",
       "      <td>-0.226374</td>\n",
       "      <td>1.000000</td>\n",
       "    </tr>\n",
       "  </tbody>\n",
       "</table>\n",
       "</div>"
      ],
      "text/plain": [
       "                MUTATION_COUNT  OS_MONTHS  TUMOR_SIZE\n",
       "MUTATION_COUNT        1.000000   0.057844    0.013116\n",
       "OS_MONTHS             0.057844   1.000000   -0.226374\n",
       "TUMOR_SIZE            0.013116  -0.226374    1.000000"
      ]
     },
     "execution_count": 35,
     "metadata": {},
     "output_type": "execute_result"
    }
   ],
   "source": [
    "### Figure\n",
    "\n",
    "corr_df=df[['MUTATION_COUNT', 'OS_MONTHS', 'TUMOR_SIZE']].corr(method='pearson', min_periods=1)\n",
    "\n",
    "### You can select a subset of a dataframe by defining a list of column names (col = []) \n",
    "### and then selecting those columns in the main dataframe (df[col])\n",
    "### Ressource: https://pandas.pydata.org/pandas-docs/stable/getting_started/intro_tutorials/03_subset_data.html\n",
    "\n",
    "corr_df.head()"
   ]
  },
  {
   "cell_type": "code",
   "execution_count": 36,
   "metadata": {
    "scrolled": true
   },
   "outputs": [
    {
     "data": {
      "text/html": [
       "<style  type=\"text/css\" >\n",
       "#T_491b39fb_f89b_11ec_a805_9a00b02fe405row0_col0,#T_491b39fb_f89b_11ec_a805_9a00b02fe405row1_col1,#T_491b39fb_f89b_11ec_a805_9a00b02fe405row2_col2{\n",
       "            background-color:  #b40426;\n",
       "            color:  #f1f1f1;\n",
       "        }#T_491b39fb_f89b_11ec_a805_9a00b02fe405row0_col1{\n",
       "            background-color:  #86a9fc;\n",
       "            color:  #000000;\n",
       "        }#T_491b39fb_f89b_11ec_a805_9a00b02fe405row0_col2{\n",
       "            background-color:  #799cf8;\n",
       "            color:  #000000;\n",
       "        }#T_491b39fb_f89b_11ec_a805_9a00b02fe405row1_col0{\n",
       "            background-color:  #485fd1;\n",
       "            color:  #f1f1f1;\n",
       "        }#T_491b39fb_f89b_11ec_a805_9a00b02fe405row1_col2,#T_491b39fb_f89b_11ec_a805_9a00b02fe405row2_col0,#T_491b39fb_f89b_11ec_a805_9a00b02fe405row2_col1{\n",
       "            background-color:  #3b4cc0;\n",
       "            color:  #f1f1f1;\n",
       "        }</style><table id=\"T_491b39fb_f89b_11ec_a805_9a00b02fe405\" ><thead>    <tr>        <th class=\"blank level0\" ></th>        <th class=\"col_heading level0 col0\" >MUTATION_COUNT</th>        <th class=\"col_heading level0 col1\" >OS_MONTHS</th>        <th class=\"col_heading level0 col2\" >TUMOR_SIZE</th>    </tr></thead><tbody>\n",
       "                <tr>\n",
       "                        <th id=\"T_491b39fb_f89b_11ec_a805_9a00b02fe405level0_row0\" class=\"row_heading level0 row0\" >MUTATION_COUNT</th>\n",
       "                        <td id=\"T_491b39fb_f89b_11ec_a805_9a00b02fe405row0_col0\" class=\"data row0 col0\" >1.000000</td>\n",
       "                        <td id=\"T_491b39fb_f89b_11ec_a805_9a00b02fe405row0_col1\" class=\"data row0 col1\" >0.057844</td>\n",
       "                        <td id=\"T_491b39fb_f89b_11ec_a805_9a00b02fe405row0_col2\" class=\"data row0 col2\" >0.013116</td>\n",
       "            </tr>\n",
       "            <tr>\n",
       "                        <th id=\"T_491b39fb_f89b_11ec_a805_9a00b02fe405level0_row1\" class=\"row_heading level0 row1\" >OS_MONTHS</th>\n",
       "                        <td id=\"T_491b39fb_f89b_11ec_a805_9a00b02fe405row1_col0\" class=\"data row1 col0\" >0.057844</td>\n",
       "                        <td id=\"T_491b39fb_f89b_11ec_a805_9a00b02fe405row1_col1\" class=\"data row1 col1\" >1.000000</td>\n",
       "                        <td id=\"T_491b39fb_f89b_11ec_a805_9a00b02fe405row1_col2\" class=\"data row1 col2\" >-0.226374</td>\n",
       "            </tr>\n",
       "            <tr>\n",
       "                        <th id=\"T_491b39fb_f89b_11ec_a805_9a00b02fe405level0_row2\" class=\"row_heading level0 row2\" >TUMOR_SIZE</th>\n",
       "                        <td id=\"T_491b39fb_f89b_11ec_a805_9a00b02fe405row2_col0\" class=\"data row2 col0\" >0.013116</td>\n",
       "                        <td id=\"T_491b39fb_f89b_11ec_a805_9a00b02fe405row2_col1\" class=\"data row2 col1\" >-0.226374</td>\n",
       "                        <td id=\"T_491b39fb_f89b_11ec_a805_9a00b02fe405row2_col2\" class=\"data row2 col2\" >1.000000</td>\n",
       "            </tr>\n",
       "    </tbody></table>"
      ],
      "text/plain": [
       "<pandas.io.formats.style.Styler at 0x1232628>"
      ]
     },
     "execution_count": 36,
     "metadata": {},
     "output_type": "execute_result"
    }
   ],
   "source": [
    "corr_df.style.background_gradient(cmap='coolwarm')"
   ]
  },
  {
   "cell_type": "raw",
   "metadata": {},
   "source": [
    "df_tumorstage={}\n",
    "\n",
    "for stage in df.TUMOR_STAGE.unique():\n",
    "    df_tumorstage[stage]=df[df['TUMOR_STAGE']==stage]\n",
    "    df_tumorstage[stage][['MUTATION_COUNT', 'OS_MONTHS', 'TUMOR_SIZE']].corr(method='pearson', min_periods=1).style.background_gradient(cmap='coolwarm')\n",
    "    #plt.title(\"Correlation between Mutation count, survival and tumor size at stage \"+ str(stage))\n",
    "    \n",
    "#[['MUTATION_COUNT', 'OS_MONTHS', 'TUMOR_SIZE']].corr(method='pearson', min_periods=1)"
   ]
  },
  {
   "cell_type": "code",
   "execution_count": 59,
   "metadata": {},
   "outputs": [
    {
     "data": {
      "text/html": [
       "<style  type=\"text/css\" >\n",
       "#T_ff6dccb5_f89d_11ec_81af_9a00b02fe405row0_col0,#T_ff6dccb5_f89d_11ec_81af_9a00b02fe405row1_col1,#T_ff6dccb5_f89d_11ec_81af_9a00b02fe405row2_col2{\n",
       "            background-color:  #b40426;\n",
       "            color:  #f1f1f1;\n",
       "        }#T_ff6dccb5_f89d_11ec_81af_9a00b02fe405row0_col1{\n",
       "            background-color:  #85a8fc;\n",
       "            color:  #000000;\n",
       "        }#T_ff6dccb5_f89d_11ec_81af_9a00b02fe405row0_col2{\n",
       "            background-color:  #6384eb;\n",
       "            color:  #000000;\n",
       "        }#T_ff6dccb5_f89d_11ec_81af_9a00b02fe405row1_col0{\n",
       "            background-color:  #5b7ae5;\n",
       "            color:  #000000;\n",
       "        }#T_ff6dccb5_f89d_11ec_81af_9a00b02fe405row1_col2,#T_ff6dccb5_f89d_11ec_81af_9a00b02fe405row2_col0,#T_ff6dccb5_f89d_11ec_81af_9a00b02fe405row2_col1{\n",
       "            background-color:  #3b4cc0;\n",
       "            color:  #f1f1f1;\n",
       "        }</style><table id=\"T_ff6dccb5_f89d_11ec_81af_9a00b02fe405\" ><thead>    <tr>        <th class=\"blank level0\" ></th>        <th class=\"col_heading level0 col0\" >MUTATION_COUNT</th>        <th class=\"col_heading level0 col1\" >OS_MONTHS</th>        <th class=\"col_heading level0 col2\" >TUMOR_SIZE</th>    </tr></thead><tbody>\n",
       "                <tr>\n",
       "                        <th id=\"T_ff6dccb5_f89d_11ec_81af_9a00b02fe405level0_row0\" class=\"row_heading level0 row0\" >MUTATION_COUNT</th>\n",
       "                        <td id=\"T_ff6dccb5_f89d_11ec_81af_9a00b02fe405row0_col0\" class=\"data row0 col0\" >1.000000</td>\n",
       "                        <td id=\"T_ff6dccb5_f89d_11ec_81af_9a00b02fe405row0_col1\" class=\"data row0 col1\" >0.133361</td>\n",
       "                        <td id=\"T_ff6dccb5_f89d_11ec_81af_9a00b02fe405row0_col2\" class=\"data row0 col2\" >0.027945</td>\n",
       "            </tr>\n",
       "            <tr>\n",
       "                        <th id=\"T_ff6dccb5_f89d_11ec_81af_9a00b02fe405level0_row1\" class=\"row_heading level0 row1\" >OS_MONTHS</th>\n",
       "                        <td id=\"T_ff6dccb5_f89d_11ec_81af_9a00b02fe405row1_col0\" class=\"data row1 col0\" >0.133361</td>\n",
       "                        <td id=\"T_ff6dccb5_f89d_11ec_81af_9a00b02fe405row1_col1\" class=\"data row1 col1\" >1.000000</td>\n",
       "                        <td id=\"T_ff6dccb5_f89d_11ec_81af_9a00b02fe405row1_col2\" class=\"data row1 col2\" >-0.120752</td>\n",
       "            </tr>\n",
       "            <tr>\n",
       "                        <th id=\"T_ff6dccb5_f89d_11ec_81af_9a00b02fe405level0_row2\" class=\"row_heading level0 row2\" >TUMOR_SIZE</th>\n",
       "                        <td id=\"T_ff6dccb5_f89d_11ec_81af_9a00b02fe405row2_col0\" class=\"data row2 col0\" >0.027945</td>\n",
       "                        <td id=\"T_ff6dccb5_f89d_11ec_81af_9a00b02fe405row2_col1\" class=\"data row2 col1\" >-0.120752</td>\n",
       "                        <td id=\"T_ff6dccb5_f89d_11ec_81af_9a00b02fe405row2_col2\" class=\"data row2 col2\" >1.000000</td>\n",
       "            </tr>\n",
       "    </tbody></table>"
      ],
      "text/plain": [
       "<pandas.io.formats.style.Styler at 0x1162de98>"
      ]
     },
     "execution_count": 59,
     "metadata": {},
     "output_type": "execute_result"
    }
   ],
   "source": [
    "df[df['TUMOR_STAGE']==1.0][['MUTATION_COUNT', 'OS_MONTHS', 'TUMOR_SIZE']].corr(method='pearson', min_periods=1).style.background_gradient(cmap='coolwarm')\n",
    "#plt.show()\n",
    "#plt.title(\"Correlation between Mutation count, survival and tumor size at stage 1\")"
   ]
  },
  {
   "cell_type": "code",
   "execution_count": 60,
   "metadata": {
    "scrolled": true
   },
   "outputs": [
    {
     "data": {
      "text/html": [
       "<style  type=\"text/css\" >\n",
       "#T_22d71d8b_f89e_11ec_8555_9a00b02fe405row0_col0,#T_22d71d8b_f89e_11ec_8555_9a00b02fe405row1_col1,#T_22d71d8b_f89e_11ec_8555_9a00b02fe405row2_col2{\n",
       "            background-color:  #b40426;\n",
       "            color:  #f1f1f1;\n",
       "        }#T_22d71d8b_f89e_11ec_8555_9a00b02fe405row0_col1{\n",
       "            background-color:  #506bda;\n",
       "            color:  #000000;\n",
       "        }#T_22d71d8b_f89e_11ec_8555_9a00b02fe405row0_col2{\n",
       "            background-color:  #6b8df0;\n",
       "            color:  #000000;\n",
       "        }#T_22d71d8b_f89e_11ec_8555_9a00b02fe405row1_col0,#T_22d71d8b_f89e_11ec_8555_9a00b02fe405row1_col2,#T_22d71d8b_f89e_11ec_8555_9a00b02fe405row2_col1{\n",
       "            background-color:  #3b4cc0;\n",
       "            color:  #f1f1f1;\n",
       "        }#T_22d71d8b_f89e_11ec_8555_9a00b02fe405row2_col0{\n",
       "            background-color:  #5572df;\n",
       "            color:  #000000;\n",
       "        }</style><table id=\"T_22d71d8b_f89e_11ec_8555_9a00b02fe405\" ><thead>    <tr>        <th class=\"blank level0\" ></th>        <th class=\"col_heading level0 col0\" >MUTATION_COUNT</th>        <th class=\"col_heading level0 col1\" >OS_MONTHS</th>        <th class=\"col_heading level0 col2\" >TUMOR_SIZE</th>    </tr></thead><tbody>\n",
       "                <tr>\n",
       "                        <th id=\"T_22d71d8b_f89e_11ec_8555_9a00b02fe405level0_row0\" class=\"row_heading level0 row0\" >MUTATION_COUNT</th>\n",
       "                        <td id=\"T_22d71d8b_f89e_11ec_8555_9a00b02fe405row0_col0\" class=\"data row0 col0\" >1.000000</td>\n",
       "                        <td id=\"T_22d71d8b_f89e_11ec_8555_9a00b02fe405row0_col1\" class=\"data row0 col1\" >-0.023598</td>\n",
       "                        <td id=\"T_22d71d8b_f89e_11ec_8555_9a00b02fe405row0_col2\" class=\"data row0 col2\" >0.065315</td>\n",
       "            </tr>\n",
       "            <tr>\n",
       "                        <th id=\"T_22d71d8b_f89e_11ec_8555_9a00b02fe405level0_row1\" class=\"row_heading level0 row1\" >OS_MONTHS</th>\n",
       "                        <td id=\"T_22d71d8b_f89e_11ec_8555_9a00b02fe405row1_col0\" class=\"data row1 col0\" >-0.023598</td>\n",
       "                        <td id=\"T_22d71d8b_f89e_11ec_8555_9a00b02fe405row1_col1\" class=\"data row1 col1\" >1.000000</td>\n",
       "                        <td id=\"T_22d71d8b_f89e_11ec_8555_9a00b02fe405row1_col2\" class=\"data row1 col2\" >-0.103046</td>\n",
       "            </tr>\n",
       "            <tr>\n",
       "                        <th id=\"T_22d71d8b_f89e_11ec_8555_9a00b02fe405level0_row2\" class=\"row_heading level0 row2\" >TUMOR_SIZE</th>\n",
       "                        <td id=\"T_22d71d8b_f89e_11ec_8555_9a00b02fe405row2_col0\" class=\"data row2 col0\" >0.065315</td>\n",
       "                        <td id=\"T_22d71d8b_f89e_11ec_8555_9a00b02fe405row2_col1\" class=\"data row2 col1\" >-0.103046</td>\n",
       "                        <td id=\"T_22d71d8b_f89e_11ec_8555_9a00b02fe405row2_col2\" class=\"data row2 col2\" >1.000000</td>\n",
       "            </tr>\n",
       "    </tbody></table>"
      ],
      "text/plain": [
       "<pandas.io.formats.style.Styler at 0x116385e0>"
      ]
     },
     "execution_count": 60,
     "metadata": {},
     "output_type": "execute_result"
    }
   ],
   "source": [
    "df[df['TUMOR_STAGE']==2.0][['MUTATION_COUNT', 'OS_MONTHS', 'TUMOR_SIZE']].corr(method='pearson', min_periods=1).style.background_gradient(cmap='coolwarm')\n",
    "#plt.show()\n",
    "#plt.title(\"Correlation between Mutation count, survival and tumor size at stage 2\")"
   ]
  },
  {
   "cell_type": "code",
   "execution_count": 61,
   "metadata": {
    "scrolled": true
   },
   "outputs": [
    {
     "data": {
      "text/html": [
       "<style  type=\"text/css\" >\n",
       "#T_2fbc543d_f89e_11ec_bb96_9a00b02fe405row0_col0,#T_2fbc543d_f89e_11ec_bb96_9a00b02fe405row1_col1,#T_2fbc543d_f89e_11ec_bb96_9a00b02fe405row2_col2{\n",
       "            background-color:  #b40426;\n",
       "            color:  #f1f1f1;\n",
       "        }#T_2fbc543d_f89e_11ec_bb96_9a00b02fe405row0_col1{\n",
       "            background-color:  #7b9ff9;\n",
       "            color:  #000000;\n",
       "        }#T_2fbc543d_f89e_11ec_bb96_9a00b02fe405row0_col2{\n",
       "            background-color:  #4b64d5;\n",
       "            color:  #f1f1f1;\n",
       "        }#T_2fbc543d_f89e_11ec_bb96_9a00b02fe405row1_col0{\n",
       "            background-color:  #6b8df0;\n",
       "            color:  #000000;\n",
       "        }#T_2fbc543d_f89e_11ec_bb96_9a00b02fe405row1_col2,#T_2fbc543d_f89e_11ec_bb96_9a00b02fe405row2_col0,#T_2fbc543d_f89e_11ec_bb96_9a00b02fe405row2_col1{\n",
       "            background-color:  #3b4cc0;\n",
       "            color:  #f1f1f1;\n",
       "        }</style><table id=\"T_2fbc543d_f89e_11ec_bb96_9a00b02fe405\" ><thead>    <tr>        <th class=\"blank level0\" ></th>        <th class=\"col_heading level0 col0\" >MUTATION_COUNT</th>        <th class=\"col_heading level0 col1\" >OS_MONTHS</th>        <th class=\"col_heading level0 col2\" >TUMOR_SIZE</th>    </tr></thead><tbody>\n",
       "                <tr>\n",
       "                        <th id=\"T_2fbc543d_f89e_11ec_bb96_9a00b02fe405level0_row0\" class=\"row_heading level0 row0\" >MUTATION_COUNT</th>\n",
       "                        <td id=\"T_2fbc543d_f89e_11ec_bb96_9a00b02fe405row0_col0\" class=\"data row0 col0\" >1.000000</td>\n",
       "                        <td id=\"T_2fbc543d_f89e_11ec_bb96_9a00b02fe405row0_col1\" class=\"data row0 col1\" >0.123397</td>\n",
       "                        <td id=\"T_2fbc543d_f89e_11ec_bb96_9a00b02fe405row0_col2\" class=\"data row0 col2\" >-0.035227</td>\n",
       "            </tr>\n",
       "            <tr>\n",
       "                        <th id=\"T_2fbc543d_f89e_11ec_bb96_9a00b02fe405level0_row1\" class=\"row_heading level0 row1\" >OS_MONTHS</th>\n",
       "                        <td id=\"T_2fbc543d_f89e_11ec_bb96_9a00b02fe405row1_col0\" class=\"data row1 col0\" >0.123397</td>\n",
       "                        <td id=\"T_2fbc543d_f89e_11ec_bb96_9a00b02fe405row1_col1\" class=\"data row1 col1\" >1.000000</td>\n",
       "                        <td id=\"T_2fbc543d_f89e_11ec_bb96_9a00b02fe405row1_col2\" class=\"data row1 col2\" >-0.098819</td>\n",
       "            </tr>\n",
       "            <tr>\n",
       "                        <th id=\"T_2fbc543d_f89e_11ec_bb96_9a00b02fe405level0_row2\" class=\"row_heading level0 row2\" >TUMOR_SIZE</th>\n",
       "                        <td id=\"T_2fbc543d_f89e_11ec_bb96_9a00b02fe405row2_col0\" class=\"data row2 col0\" >-0.035227</td>\n",
       "                        <td id=\"T_2fbc543d_f89e_11ec_bb96_9a00b02fe405row2_col1\" class=\"data row2 col1\" >-0.098819</td>\n",
       "                        <td id=\"T_2fbc543d_f89e_11ec_bb96_9a00b02fe405row2_col2\" class=\"data row2 col2\" >1.000000</td>\n",
       "            </tr>\n",
       "    </tbody></table>"
      ],
      "text/plain": [
       "<pandas.io.formats.style.Styler at 0x11615eb0>"
      ]
     },
     "execution_count": 61,
     "metadata": {},
     "output_type": "execute_result"
    }
   ],
   "source": [
    "df[df['TUMOR_STAGE']==3.0][['MUTATION_COUNT', 'OS_MONTHS', 'TUMOR_SIZE']].corr(method='pearson', min_periods=1).style.background_gradient(cmap='coolwarm')\n",
    "#plt.show()\n",
    "#plt.title(\"Correlation between Mutation count, survival and tumor size at stage 3\")"
   ]
  },
  {
   "cell_type": "code",
   "execution_count": 72,
   "metadata": {
    "scrolled": true
   },
   "outputs": [
    {
     "data": {
      "text/html": [
       "<style  type=\"text/css\" >\n",
       "#T_a37e7663_f8a2_11ec_8f58_9a00b02fe405row0_col0,#T_a37e7663_f8a2_11ec_8f58_9a00b02fe405row1_col1,#T_a37e7663_f8a2_11ec_8f58_9a00b02fe405row2_col2{\n",
       "            background-color:  #b40426;\n",
       "            color:  #f1f1f1;\n",
       "        }#T_a37e7663_f8a2_11ec_8f58_9a00b02fe405row0_col1{\n",
       "            background-color:  #7da0f9;\n",
       "            color:  #000000;\n",
       "        }#T_a37e7663_f8a2_11ec_8f58_9a00b02fe405row0_col2{\n",
       "            background-color:  #ee8468;\n",
       "            color:  #000000;\n",
       "        }#T_a37e7663_f8a2_11ec_8f58_9a00b02fe405row1_col0,#T_a37e7663_f8a2_11ec_8f58_9a00b02fe405row1_col2,#T_a37e7663_f8a2_11ec_8f58_9a00b02fe405row2_col1{\n",
       "            background-color:  #3b4cc0;\n",
       "            color:  #f1f1f1;\n",
       "        }#T_a37e7663_f8a2_11ec_8f58_9a00b02fe405row2_col0{\n",
       "            background-color:  #f59c7d;\n",
       "            color:  #000000;\n",
       "        }</style><table id=\"T_a37e7663_f8a2_11ec_8f58_9a00b02fe405\" ><thead>    <tr>        <th class=\"blank level0\" ></th>        <th class=\"col_heading level0 col0\" >MUTATION_COUNT</th>        <th class=\"col_heading level0 col1\" >OS_MONTHS</th>        <th class=\"col_heading level0 col2\" >TUMOR_SIZE</th>    </tr></thead><tbody>\n",
       "                <tr>\n",
       "                        <th id=\"T_a37e7663_f8a2_11ec_8f58_9a00b02fe405level0_row0\" class=\"row_heading level0 row0\" >MUTATION_COUNT</th>\n",
       "                        <td id=\"T_a37e7663_f8a2_11ec_8f58_9a00b02fe405row0_col0\" class=\"data row0 col0\" >1.000000</td>\n",
       "                        <td id=\"T_a37e7663_f8a2_11ec_8f58_9a00b02fe405row0_col1\" class=\"data row0 col1\" >0.162329</td>\n",
       "                        <td id=\"T_a37e7663_f8a2_11ec_8f58_9a00b02fe405row0_col2\" class=\"data row0 col2\" >0.786880</td>\n",
       "            </tr>\n",
       "            <tr>\n",
       "                        <th id=\"T_a37e7663_f8a2_11ec_8f58_9a00b02fe405level0_row1\" class=\"row_heading level0 row1\" >OS_MONTHS</th>\n",
       "                        <td id=\"T_a37e7663_f8a2_11ec_8f58_9a00b02fe405row1_col0\" class=\"data row1 col0\" >0.162329</td>\n",
       "                        <td id=\"T_a37e7663_f8a2_11ec_8f58_9a00b02fe405row1_col1\" class=\"data row1 col1\" >1.000000</td>\n",
       "                        <td id=\"T_a37e7663_f8a2_11ec_8f58_9a00b02fe405row1_col2\" class=\"data row1 col2\" >-0.054554</td>\n",
       "            </tr>\n",
       "            <tr>\n",
       "                        <th id=\"T_a37e7663_f8a2_11ec_8f58_9a00b02fe405level0_row2\" class=\"row_heading level0 row2\" >TUMOR_SIZE</th>\n",
       "                        <td id=\"T_a37e7663_f8a2_11ec_8f58_9a00b02fe405row2_col0\" class=\"data row2 col0\" >0.786880</td>\n",
       "                        <td id=\"T_a37e7663_f8a2_11ec_8f58_9a00b02fe405row2_col1\" class=\"data row2 col1\" >-0.054554</td>\n",
       "                        <td id=\"T_a37e7663_f8a2_11ec_8f58_9a00b02fe405row2_col2\" class=\"data row2 col2\" >1.000000</td>\n",
       "            </tr>\n",
       "    </tbody></table>"
      ],
      "text/plain": [
       "<pandas.io.formats.style.Styler at 0x11dbf628>"
      ]
     },
     "execution_count": 72,
     "metadata": {},
     "output_type": "execute_result"
    }
   ],
   "source": [
    "df[df['TUMOR_STAGE']==4.0][['MUTATION_COUNT', 'OS_MONTHS', 'TUMOR_SIZE']].corr(method='pearson', min_periods=1).style.background_gradient(cmap='coolwarm')\n",
    "#plt.show()\n",
    "#plt.title(\"Correlation between Mutation count, survival and tumor size at stage 4\")"
   ]
  },
  {
   "cell_type": "code",
   "execution_count": 68,
   "metadata": {},
   "outputs": [
    {
     "data": {
      "text/plain": [
       "<seaborn.axisgrid.PairGrid at 0x11db3370>"
      ]
     },
     "execution_count": 68,
     "metadata": {},
     "output_type": "execute_result"
    },
    {
     "data": {
      "image/png": "[encoded data removed]",
      "text/plain": [
       "<Figure size 639.3x540 with 12 Axes>"
      ]
     },
     "metadata": {},
     "output_type": "display_data"
    }
   ],
   "source": [
    "sns.set_theme(style=\"ticks\")\n",
    "\n",
    "sns.pairplot(df[['MUTATION_COUNT', 'OS_MONTHS', 'TUMOR_SIZE',\"TUMOR_STAGE\"]], hue=\"TUMOR_STAGE\")"
   ]
  },
  {
   "cell_type": "markdown",
   "metadata": {},
   "source": [
    "**Interpretation** : Variables don't seem to be correlated, except for mutation count and tumor size that become strongly correlated at tumor stage 4. "
   ]
  },
  {
   "cell_type": "markdown",
   "metadata": {},
   "source": [
    "***\n",
    "\n",
    "What about the age of the patient? \n",
    "\n",
    "Do the age of the patient and/or the stage of the tumor affect the overall survival? Make a hypothesis regarding the relationship between the age of the patient, the stage of the tumor and the overall survival."
   ]
  },
  {
   "cell_type": "markdown",
   "metadata": {},
   "source": [
    "**Hypothesis** : We could hypothesize that both the age of the patient and the stage of the tumor negatively affect survival.  "
   ]
  },
  {
   "cell_type": "markdown",
   "metadata": {},
   "source": [
    "You prefer to consider the overall survival in terms of YEARS rather than MONTHS. Add a column <code>OS_YEARS</code> to your dataframe, which is based on the <code>OS_MONTHS</code> column."
   ]
  },
  {
   "cell_type": "code",
   "execution_count": 63,
   "metadata": {},
   "outputs": [],
   "source": [
    "### Add OS_YEARS column to dataframe\n",
    "df[\"OS_YEARS\"]=df[\"OS_MONTHS\"]/12"
   ]
  },
  {
   "cell_type": "markdown",
   "metadata": {},
   "source": [
    "Design a figure that will help verify your hypothesis. Don<t forget to use the overall survival in years! **Make sure your figure is readable and displayed after your code.**\n",
    "\n",
    "Briefly intepret your figure."
   ]
  },
  {
   "cell_type": "code",
   "execution_count": 65,
   "metadata": {},
   "outputs": [
    {
     "data": {
      "image/png": "[encoded data removed]",
      "text/plain": [
       "<Figure size 432x288 with 1 Axes>"
      ]
     },
     "metadata": {},
     "output_type": "display_data"
    }
   ],
   "source": [
    "### Figure\n",
    "from mpl_toolkits.mplot3d import Axes3D\n",
    "\n",
    "sns.set(style = \"darkgrid\")\n",
    "\n",
    "fig = plt.figure()\n",
    "ax = fig.add_subplot(111, projection = '3d')\n",
    "\n",
    "x = df['OS_YEARS']\n",
    "y = df['AGE_GROUP']\n",
    "z = df['TUMOR_STAGE']\n",
    "\n",
    "ax.set_xlabel(\"Overall survival in years\")\n",
    "ax.set_ylabel(\"Age group\")\n",
    "ax.set_zlabel(\"Tumor stage\")\n",
    "\n",
    "ax.scatter(x, y, z)\n",
    "\n",
    "plt.show()"
   ]
  },
  {
   "cell_type": "code",
   "execution_count": 70,
   "metadata": {},
   "outputs": [
    {
     "data": {
      "image/png": "[encoded data removed]",
      "text/plain": [
       "<Figure size 531.3x432 with 1 Axes>"
      ]
     },
     "metadata": {},
     "output_type": "display_data"
    }
   ],
   "source": [
    "sns.set_theme(style=\"whitegrid\")\n",
    "\n",
    "# Draw a nested barplot by age group and tumor stage\n",
    "g = sns.catplot(\n",
    "    data=df, kind=\"bar\",\n",
    "    x=\"AGE_GROUP\", y=\"OS_YEARS\", hue=\"TUMOR_STAGE\",\n",
    "    ci=\"sd\", palette=\"dark\", alpha=.6, height=6\n",
    ")\n",
    "g.despine(left=True)\n",
    "g.set_axis_labels(\"Age group\", \"Overall survival in years\")\n",
    "g.legend.set_title(\"Tumor stage\")"
   ]
  },
  {
   "cell_type": "markdown",
   "metadata": {},
   "source": [
    "**Interpretation** : The age group surprisingly does not seem to affect overall survival, except maybe after 90 years old.\n",
    "As for the tumor stage, there is a clear trend indicating that the higher the tumor stage, the lower the survival time in years, except for the group over 90 years old where there does not seem to be any difference between the tumor stages in terms of survival. "
   ]
  },
  {
   "cell_type": "markdown",
   "metadata": {},
   "source": [
    "***\n",
    "**BONUS** The Nottingham prognostic index (NPI) is based on histopathological factors (tumour size, lymph node stage and tumour grade) and is used to stratify BC patients with operable early-stage primary BC into prognostic groups. \n",
    "\n",
    "The overall survival (OS) represents the length of time from the start of treatment that patients diagnosed with the disease are still alive.\n",
    "\n",
    "Considering this information and all the variables included in your dataset, make an hypothesis of your choosing that consider the NPI and design a figure that will help verify your hypothesis. **Make sure your figure is readable and displayed after your code.**\n",
    "\n",
    "Briefly intepret your figure."
   ]
  },
  {
   "cell_type": "markdown",
   "metadata": {},
   "source": [
    "**Hypothesis** : The NPI, based on its definition, should be strongly correlated to tumour size, lymph node stage and tumour grade. It should also be correlated to the breast surgery. "
   ]
  },
  {
   "cell_type": "code",
   "execution_count": 78,
   "metadata": {},
   "outputs": [
    {
     "data": {
      "text/html": [
       "<style  type=\"text/css\" >\n",
       "#T_c50378de_f8a3_11ec_88e8_9a00b02fe405row0_col0,#T_c50378de_f8a3_11ec_88e8_9a00b02fe405row1_col1,#T_c50378de_f8a3_11ec_88e8_9a00b02fe405row2_col2,#T_c50378de_f8a3_11ec_88e8_9a00b02fe405row3_col3,#T_c50378de_f8a3_11ec_88e8_9a00b02fe405row4_col4{\n",
       "            background-color:  #b40426;\n",
       "            color:  #f1f1f1;\n",
       "        }#T_c50378de_f8a3_11ec_88e8_9a00b02fe405row0_col1{\n",
       "            background-color:  #f5c2aa;\n",
       "            color:  #000000;\n",
       "        }#T_c50378de_f8a3_11ec_88e8_9a00b02fe405row0_col2{\n",
       "            background-color:  #7da0f9;\n",
       "            color:  #000000;\n",
       "        }#T_c50378de_f8a3_11ec_88e8_9a00b02fe405row0_col3{\n",
       "            background-color:  #d4dbe6;\n",
       "            color:  #000000;\n",
       "        }#T_c50378de_f8a3_11ec_88e8_9a00b02fe405row0_col4,#T_c50378de_f8a3_11ec_88e8_9a00b02fe405row4_col0,#T_c50378de_f8a3_11ec_88e8_9a00b02fe405row4_col1,#T_c50378de_f8a3_11ec_88e8_9a00b02fe405row4_col2,#T_c50378de_f8a3_11ec_88e8_9a00b02fe405row4_col3{\n",
       "            background-color:  #3b4cc0;\n",
       "            color:  #f1f1f1;\n",
       "        }#T_c50378de_f8a3_11ec_88e8_9a00b02fe405row1_col0{\n",
       "            background-color:  #f5c1a9;\n",
       "            color:  #000000;\n",
       "        }#T_c50378de_f8a3_11ec_88e8_9a00b02fe405row1_col2{\n",
       "            background-color:  #82a6fb;\n",
       "            color:  #000000;\n",
       "        }#T_c50378de_f8a3_11ec_88e8_9a00b02fe405row1_col3{\n",
       "            background-color:  #f6bea4;\n",
       "            color:  #000000;\n",
       "        }#T_c50378de_f8a3_11ec_88e8_9a00b02fe405row1_col4{\n",
       "            background-color:  #3c4ec2;\n",
       "            color:  #f1f1f1;\n",
       "        }#T_c50378de_f8a3_11ec_88e8_9a00b02fe405row2_col0{\n",
       "            background-color:  #aac7fd;\n",
       "            color:  #000000;\n",
       "        }#T_c50378de_f8a3_11ec_88e8_9a00b02fe405row2_col1{\n",
       "            background-color:  #adc9fd;\n",
       "            color:  #000000;\n",
       "        }#T_c50378de_f8a3_11ec_88e8_9a00b02fe405row2_col3{\n",
       "            background-color:  #f39475;\n",
       "            color:  #000000;\n",
       "        }#T_c50378de_f8a3_11ec_88e8_9a00b02fe405row2_col4{\n",
       "            background-color:  #6e90f2;\n",
       "            color:  #000000;\n",
       "        }#T_c50378de_f8a3_11ec_88e8_9a00b02fe405row3_col0{\n",
       "            background-color:  #dadce0;\n",
       "            color:  #000000;\n",
       "        }#T_c50378de_f8a3_11ec_88e8_9a00b02fe405row3_col1{\n",
       "            background-color:  #f7b99e;\n",
       "            color:  #000000;\n",
       "        }#T_c50378de_f8a3_11ec_88e8_9a00b02fe405row3_col2{\n",
       "            background-color:  #f5a081;\n",
       "            color:  #000000;\n",
       "        }#T_c50378de_f8a3_11ec_88e8_9a00b02fe405row3_col4{\n",
       "            background-color:  #4961d2;\n",
       "            color:  #f1f1f1;\n",
       "        }</style><table id=\"T_c50378de_f8a3_11ec_88e8_9a00b02fe405\" ><thead>    <tr>        <th class=\"blank level0\" ></th>        <th class=\"col_heading level0 col0\" >TUMOR_SIZE</th>        <th class=\"col_heading level0 col1\" >TUMOR_STAGE</th>        <th class=\"col_heading level0 col2\" >GRADE</th>        <th class=\"col_heading level0 col3\" >NPI</th>        <th class=\"col_heading level0 col4\" >BREAST_SURGERY</th>    </tr></thead><tbody>\n",
       "                <tr>\n",
       "                        <th id=\"T_c50378de_f8a3_11ec_88e8_9a00b02fe405level0_row0\" class=\"row_heading level0 row0\" >TUMOR_SIZE</th>\n",
       "                        <td id=\"T_c50378de_f8a3_11ec_88e8_9a00b02fe405row0_col0\" class=\"data row0 col0\" >1.000000</td>\n",
       "                        <td id=\"T_c50378de_f8a3_11ec_88e8_9a00b02fe405row0_col1\" class=\"data row0 col1\" >0.535272</td>\n",
       "                        <td id=\"T_c50378de_f8a3_11ec_88e8_9a00b02fe405row0_col2\" class=\"data row0 col2\" >0.152531</td>\n",
       "                        <td id=\"T_c50378de_f8a3_11ec_88e8_9a00b02fe405row0_col3\" class=\"data row0 col3\" >0.353941</td>\n",
       "                        <td id=\"T_c50378de_f8a3_11ec_88e8_9a00b02fe405row0_col4\" class=\"data row0 col4\" >-0.270926</td>\n",
       "            </tr>\n",
       "            <tr>\n",
       "                        <th id=\"T_c50378de_f8a3_11ec_88e8_9a00b02fe405level0_row1\" class=\"row_heading level0 row1\" >TUMOR_STAGE</th>\n",
       "                        <td id=\"T_c50378de_f8a3_11ec_88e8_9a00b02fe405row1_col0\" class=\"data row1 col0\" >0.535272</td>\n",
       "                        <td id=\"T_c50378de_f8a3_11ec_88e8_9a00b02fe405row1_col1\" class=\"data row1 col1\" >1.000000</td>\n",
       "                        <td id=\"T_c50378de_f8a3_11ec_88e8_9a00b02fe405row1_col2\" class=\"data row1 col2\" >0.170173</td>\n",
       "                        <td id=\"T_c50378de_f8a3_11ec_88e8_9a00b02fe405row1_col3\" class=\"data row1 col3\" >0.571408</td>\n",
       "                        <td id=\"T_c50378de_f8a3_11ec_88e8_9a00b02fe405row1_col4\" class=\"data row1 col4\" >-0.263653</td>\n",
       "            </tr>\n",
       "            <tr>\n",
       "                        <th id=\"T_c50378de_f8a3_11ec_88e8_9a00b02fe405level0_row2\" class=\"row_heading level0 row2\" >GRADE</th>\n",
       "                        <td id=\"T_c50378de_f8a3_11ec_88e8_9a00b02fe405row2_col0\" class=\"data row2 col0\" >0.152531</td>\n",
       "                        <td id=\"T_c50378de_f8a3_11ec_88e8_9a00b02fe405row2_col1\" class=\"data row2 col1\" >0.170173</td>\n",
       "                        <td id=\"T_c50378de_f8a3_11ec_88e8_9a00b02fe405row2_col2\" class=\"data row2 col2\" >1.000000</td>\n",
       "                        <td id=\"T_c50378de_f8a3_11ec_88e8_9a00b02fe405row2_col3\" class=\"data row2 col3\" >0.715827</td>\n",
       "                        <td id=\"T_c50378de_f8a3_11ec_88e8_9a00b02fe405row2_col4\" class=\"data row2 col4\" >-0.064711</td>\n",
       "            </tr>\n",
       "            <tr>\n",
       "                        <th id=\"T_c50378de_f8a3_11ec_88e8_9a00b02fe405level0_row3\" class=\"row_heading level0 row3\" >NPI</th>\n",
       "                        <td id=\"T_c50378de_f8a3_11ec_88e8_9a00b02fe405row3_col0\" class=\"data row3 col0\" >0.353941</td>\n",
       "                        <td id=\"T_c50378de_f8a3_11ec_88e8_9a00b02fe405row3_col1\" class=\"data row3 col1\" >0.571408</td>\n",
       "                        <td id=\"T_c50378de_f8a3_11ec_88e8_9a00b02fe405row3_col2\" class=\"data row3 col2\" >0.715827</td>\n",
       "                        <td id=\"T_c50378de_f8a3_11ec_88e8_9a00b02fe405row3_col3\" class=\"data row3 col3\" >1.000000</td>\n",
       "                        <td id=\"T_c50378de_f8a3_11ec_88e8_9a00b02fe405row3_col4\" class=\"data row3 col4\" >-0.209987</td>\n",
       "            </tr>\n",
       "            <tr>\n",
       "                        <th id=\"T_c50378de_f8a3_11ec_88e8_9a00b02fe405level0_row4\" class=\"row_heading level0 row4\" >BREAST_SURGERY</th>\n",
       "                        <td id=\"T_c50378de_f8a3_11ec_88e8_9a00b02fe405row4_col0\" class=\"data row4 col0\" >-0.270926</td>\n",
       "                        <td id=\"T_c50378de_f8a3_11ec_88e8_9a00b02fe405row4_col1\" class=\"data row4 col1\" >-0.263653</td>\n",
       "                        <td id=\"T_c50378de_f8a3_11ec_88e8_9a00b02fe405row4_col2\" class=\"data row4 col2\" >-0.064711</td>\n",
       "                        <td id=\"T_c50378de_f8a3_11ec_88e8_9a00b02fe405row4_col3\" class=\"data row4 col3\" >-0.209987</td>\n",
       "                        <td id=\"T_c50378de_f8a3_11ec_88e8_9a00b02fe405row4_col4\" class=\"data row4 col4\" >1.000000</td>\n",
       "            </tr>\n",
       "    </tbody></table>"
      ],
      "text/plain": [
       "<pandas.io.formats.style.Styler at 0x11c48aa8>"
      ]
     },
     "execution_count": 78,
     "metadata": {},
     "output_type": "execute_result"
    }
   ],
   "source": [
    "### Figure\n",
    "df[[\"TUMOR_SIZE\", \"TUMOR_STAGE\", \"GRADE\", \"NPI\", \"BREAST_SURGERY\"]].corr().style.background_gradient(cmap='coolwarm')"
   ]
  },
  {
   "cell_type": "markdown",
   "metadata": {},
   "source": [
    "**Interpretation** : Surprisingly, the NPI does not seem to be correlated to the choice of breast surgery. However, as expected, NPI is strongly correlated to tumor grade. To go further, we could try performing a PCA and keeping only the most relevant parameters. "
   ]
  },
  {
   "cell_type": "markdown",
   "metadata": {},
   "source": [
    "## Trying for a PCA"
   ]
  },
  {
   "cell_type": "code",
   "execution_count": 80,
   "metadata": {},
   "outputs": [
    {
     "name": "stdout",
     "output_type": "stream",
     "text": [
      "The number of missing data in column CHEMOTHERAPY is 0.\n",
      "The number of missing data in column HORMONE_THERAPY is 0.\n",
      "The number of missing data in column RADIO_THERAPY is 0.\n",
      "The number of missing data in column BREAST_SURGERY is 0.\n",
      "The number of missing data in column CELLULARITY is 0.\n",
      "The number of missing data in column VITAL_STATUS is 0.\n",
      "The number of missing data in column GRADE is 0.\n",
      "The number of missing data in column COHORT is 0.\n",
      "The number of missing data in column MUTATION_COUNT is 0.\n",
      "The number of missing data in column NPI is 0.\n",
      "The number of missing data in column OS_MONTHS is 0.\n",
      "The number of missing data in column TUMOR_SIZE is 0.\n",
      "The number of missing data in column TUMOR_STAGE is 0.\n",
      "The number of missing data in column AGE_GROUP is 12.\n",
      "The number of missing data in column OS_YEARS is 0.\n"
     ]
    }
   ],
   "source": [
    "for column in df.columns:\n",
    "    print (\"The number of missing data in column \" +str(column)+ \" is \" +str(df[column].isna().sum())+\".\")"
   ]
  },
  {
   "cell_type": "code",
   "execution_count": 82,
   "metadata": {},
   "outputs": [
    {
     "name": "stdout",
     "output_type": "stream",
     "text": [
      "The number of missing data in column CHEMOTHERAPY is 0.\n",
      "The number of missing data in column HORMONE_THERAPY is 0.\n",
      "The number of missing data in column RADIO_THERAPY is 0.\n",
      "The number of missing data in column BREAST_SURGERY is 0.\n",
      "The number of missing data in column CELLULARITY is 0.\n",
      "The number of missing data in column VITAL_STATUS is 0.\n",
      "The number of missing data in column GRADE is 0.\n",
      "The number of missing data in column COHORT is 0.\n",
      "The number of missing data in column MUTATION_COUNT is 0.\n",
      "The number of missing data in column NPI is 0.\n",
      "The number of missing data in column OS_MONTHS is 0.\n",
      "The number of missing data in column TUMOR_SIZE is 0.\n",
      "The number of missing data in column TUMOR_STAGE is 0.\n",
      "The number of missing data in column AGE_GROUP is 0.\n",
      "The number of missing data in column OS_YEARS is 0.\n"
     ]
    }
   ],
   "source": [
    "clean_df=df.dropna(axis=0)\n",
    "for column in clean_df.columns:\n",
    "    print (\"The number of missing data in column \" +str(column)+ \" is \" +str(clean_df[column].isna().sum())+\".\")"
   ]
  },
  {
   "cell_type": "code",
   "execution_count": null,
   "metadata": {},
   "outputs": [],
   "source": [
    "#normalize the columns by their variance\n",
    "#do the PCA \n",
    "#I did not have the time!"
   ]
  }
 ],
 "metadata": {
  "kernelspec": {
   "display_name": "Python 3",
   "language": "python",
   "name": "python3"
  },
  "language_info": {
   "codemirror_mode": {
    "name": "ipython",
    "version": 3
   },
   "file_extension": ".py",
   "mimetype": "text/x-python",
   "name": "python",
   "nbconvert_exporter": "python",
   "pygments_lexer": "ipython3",
   "version": "3.8.5"
  }
 },
 "nbformat": 4,
 "nbformat_minor": 2
}
