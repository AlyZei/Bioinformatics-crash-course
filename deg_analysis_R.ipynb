{
 "cells": [
  {
   "cell_type": "code",
   "execution_count": 1,
   "metadata": {},
   "outputs": [
    {
     "name": "stderr",
     "output_type": "stream",
     "text": [
      "Installing package into 'C:/Users/Alya/Documents/R/win-library/4.0'\n",
      "(as 'lib' is unspecified)\n",
      "\n",
      "Warning message:\n",
      "\"unable to access index for repository https://cran.r-project.org/src/contrib:\n",
      "  cannot open destfile 'C:\\Users\\Alya\\AppData\\Local\\Temp\\RtmpWsbT8C\\file71e852611b66', reason 'No such file or directory'\"\n",
      "Warning message:\n",
      "\"package 'BiocManager' is not available for this version of R\n",
      "\n",
      "A version of this package for your version of R might be available elsewhere,\n",
      "see the ideas at\n",
      "https://cran.r-project.org/doc/manuals/r-patched/R-admin.html#Installing-packages\"\n",
      "Warning message:\n",
      "\"unable to access index for repository https://cran.r-project.org/bin/windows/contrib/4.0:\n",
      "  cannot open destfile 'C:\\Users\\Alya\\AppData\\Local\\Temp\\RtmpWsbT8C\\file71e850ce7eb7', reason 'No such file or directory'\"\n",
      "Warning message in gzfile(file, mode):\n",
      "\"cannot open compressed file 'C:\\Users\\Alya\\AppData\\Local\\Temp\\RtmpWsbT8C/libloc_192_41ecb0b2.rds', probable reason 'No such file or directory'\"\n"
     ]
    },
    {
     "ename": "ERROR",
     "evalue": "Error in gzfile(file, mode): cannot open the connection\n",
     "output_type": "error",
     "traceback": [
      "Error in gzfile(file, mode): cannot open the connection\nTraceback:\n",
      "1. BiocManager::install(\"edgeR\")",
      "2. installed.packages()",
      "3. saveRDS(list(base = base, value = ret0), dest)",
      "4. gzfile(file, mode)"
     ]
    }
   ],
   "source": [
    "### Installing EdgeR\n",
    "install.packages(\"BiocManager\")\n",
    "BiocManager::install(\"edgeR\")\n",
    "install.packages(\"locfit\")\n",
    "library(edgeR)"
   ]
  },
  {
   "cell_type": "code",
   "execution_count": 7,
   "metadata": {},
   "outputs": [
    {
     "data": {
      "text/html": [
       "<table class=\"dataframe\">\n",
       "<caption>A data.frame: 6 × 6</caption>\n",
       "<thead>\n",
       "\t<tr><th></th><th scope=col>Treatment_1</th><th scope=col>Treatment_2</th><th scope=col>Treatment_3</th><th scope=col>Control_1</th><th scope=col>Control_2</th><th scope=col>Control_3</th></tr>\n",
       "\t<tr><th></th><th scope=col>&lt;int&gt;</th><th scope=col>&lt;int&gt;</th><th scope=col>&lt;int&gt;</th><th scope=col>&lt;int&gt;</th><th scope=col>&lt;int&gt;</th><th scope=col>&lt;int&gt;</th></tr>\n",
       "</thead>\n",
       "<tbody>\n",
       "\t<tr><th scope=row>ENSG00000223972</th><td>1</td><td>0</td><td>0</td><td>0</td><td>0</td><td>0</td></tr>\n",
       "\t<tr><th scope=row>ENSG00000227232</th><td>1</td><td>0</td><td>0</td><td>1</td><td>0</td><td>1</td></tr>\n",
       "\t<tr><th scope=row>ENSG00000278267</th><td>0</td><td>0</td><td>0</td><td>0</td><td>0</td><td>0</td></tr>\n",
       "\t<tr><th scope=row>ENSG00000243485</th><td>0</td><td>0</td><td>0</td><td>0</td><td>0</td><td>0</td></tr>\n",
       "\t<tr><th scope=row>ENSG00000284332</th><td>0</td><td>0</td><td>0</td><td>0</td><td>0</td><td>0</td></tr>\n",
       "\t<tr><th scope=row>ENSG00000237613</th><td>0</td><td>0</td><td>0</td><td>0</td><td>0</td><td>0</td></tr>\n",
       "</tbody>\n",
       "</table>\n"
      ],
      "text/latex": [
       "A data.frame: 6 × 6\n",
       "\\begin{tabular}{r|llllll}\n",
       "  & Treatment\\_1 & Treatment\\_2 & Treatment\\_3 & Control\\_1 & Control\\_2 & Control\\_3\\\\\n",
       "  & <int> & <int> & <int> & <int> & <int> & <int>\\\\\n",
       "\\hline\n",
       "\tENSG00000223972 & 1 & 0 & 0 & 0 & 0 & 0\\\\\n",
       "\tENSG00000227232 & 1 & 0 & 0 & 1 & 0 & 1\\\\\n",
       "\tENSG00000278267 & 0 & 0 & 0 & 0 & 0 & 0\\\\\n",
       "\tENSG00000243485 & 0 & 0 & 0 & 0 & 0 & 0\\\\\n",
       "\tENSG00000284332 & 0 & 0 & 0 & 0 & 0 & 0\\\\\n",
       "\tENSG00000237613 & 0 & 0 & 0 & 0 & 0 & 0\\\\\n",
       "\\end{tabular}\n"
      ],
      "text/markdown": [
       "\n",
       "A data.frame: 6 × 6\n",
       "\n",
       "| <!--/--> | Treatment_1 &lt;int&gt; | Treatment_2 &lt;int&gt; | Treatment_3 &lt;int&gt; | Control_1 &lt;int&gt; | Control_2 &lt;int&gt; | Control_3 &lt;int&gt; |\n",
       "|---|---|---|---|---|---|---|\n",
       "| ENSG00000223972 | 1 | 0 | 0 | 0 | 0 | 0 |\n",
       "| ENSG00000227232 | 1 | 0 | 0 | 1 | 0 | 1 |\n",
       "| ENSG00000278267 | 0 | 0 | 0 | 0 | 0 | 0 |\n",
       "| ENSG00000243485 | 0 | 0 | 0 | 0 | 0 | 0 |\n",
       "| ENSG00000284332 | 0 | 0 | 0 | 0 | 0 | 0 |\n",
       "| ENSG00000237613 | 0 | 0 | 0 | 0 | 0 | 0 |\n",
       "\n"
      ],
      "text/plain": [
       "                Treatment_1 Treatment_2 Treatment_3 Control_1 Control_2\n",
       "ENSG00000223972 1           0           0           0         0        \n",
       "ENSG00000227232 1           0           0           1         0        \n",
       "ENSG00000278267 0           0           0           0         0        \n",
       "ENSG00000243485 0           0           0           0         0        \n",
       "ENSG00000284332 0           0           0           0         0        \n",
       "ENSG00000237613 0           0           0           0         0        \n",
       "                Control_3\n",
       "ENSG00000223972 0        \n",
       "ENSG00000227232 1        \n",
       "ENSG00000278267 0        \n",
       "ENSG00000243485 0        \n",
       "ENSG00000284332 0        \n",
       "ENSG00000237613 0        "
      ]
     },
     "metadata": {},
     "output_type": "display_data"
    }
   ],
   "source": [
    "### Upload data\n",
    "counts <- read.delim(\"all_results.tsv\", sep=\"\\t\", row.names=1)\n",
    "head(counts)"
   ]
  },
  {
   "cell_type": "code",
   "execution_count": 9,
   "metadata": {},
   "outputs": [
    {
     "data": {
      "text/html": [
       "<style>\n",
       ".list-inline {list-style: none; margin:0; padding: 0}\n",
       ".list-inline>li {display: inline-block}\n",
       ".list-inline>li:not(:last-child)::after {content: \"\\00b7\"; padding: 0 .5ex}\n",
       "</style>\n",
       "<ol class=list-inline><li>T</li><li>T</li><li>T</li><li>C</li><li>C</li><li>C</li></ol>\n",
       "\n",
       "<details>\n",
       "\t<summary style=display:list-item;cursor:pointer>\n",
       "\t\t<strong>Levels</strong>:\n",
       "\t</summary>\n",
       "\t<style>\n",
       "\t.list-inline {list-style: none; margin:0; padding: 0}\n",
       "\t.list-inline>li {display: inline-block}\n",
       "\t.list-inline>li:not(:last-child)::after {content: \"\\00b7\"; padding: 0 .5ex}\n",
       "\t</style>\n",
       "\t<ol class=list-inline><li>'C'</li><li>'T'</li></ol>\n",
       "</details>"
      ],
      "text/latex": [
       "\\begin{enumerate*}\n",
       "\\item T\n",
       "\\item T\n",
       "\\item T\n",
       "\\item C\n",
       "\\item C\n",
       "\\item C\n",
       "\\end{enumerate*}\n",
       "\n",
       "\\emph{Levels}: \\begin{enumerate*}\n",
       "\\item 'C'\n",
       "\\item 'T'\n",
       "\\end{enumerate*}\n"
      ],
      "text/markdown": [
       "1. T\n",
       "2. T\n",
       "3. T\n",
       "4. C\n",
       "5. C\n",
       "6. C\n",
       "\n",
       "\n",
       "\n",
       "**Levels**: 1. 'C'\n",
       "2. 'T'\n",
       "\n",
       "\n"
      ],
      "text/plain": [
       "[1] T T T C C C\n",
       "Levels: C T"
      ]
     },
     "metadata": {},
     "output_type": "display_data"
    }
   ],
   "source": [
    "### Data groups\n",
    "countsGroup = c(\"T\",\"T\",\"T\", \"C\", \"C\", \"C\")\n",
    "groups = as.factor(countsGroup)\n",
    "groups"
   ]
  },
  {
   "cell_type": "code",
   "execution_count": 11,
   "metadata": {},
   "outputs": [
    {
     "data": {
      "text/html": [
       "<table class=\"dataframe\">\n",
       "<caption>A matrix: 6 × 2 of type dbl</caption>\n",
       "<thead>\n",
       "\t<tr><th></th><th scope=col>groupsC</th><th scope=col>groupsT</th></tr>\n",
       "</thead>\n",
       "<tbody>\n",
       "\t<tr><th scope=row>1</th><td>0</td><td>1</td></tr>\n",
       "\t<tr><th scope=row>2</th><td>0</td><td>1</td></tr>\n",
       "\t<tr><th scope=row>3</th><td>0</td><td>1</td></tr>\n",
       "\t<tr><th scope=row>4</th><td>1</td><td>0</td></tr>\n",
       "\t<tr><th scope=row>5</th><td>1</td><td>0</td></tr>\n",
       "\t<tr><th scope=row>6</th><td>1</td><td>0</td></tr>\n",
       "</tbody>\n",
       "</table>\n"
      ],
      "text/latex": [
       "A matrix: 6 × 2 of type dbl\n",
       "\\begin{tabular}{r|ll}\n",
       "  & groupsC & groupsT\\\\\n",
       "\\hline\n",
       "\t1 & 0 & 1\\\\\n",
       "\t2 & 0 & 1\\\\\n",
       "\t3 & 0 & 1\\\\\n",
       "\t4 & 1 & 0\\\\\n",
       "\t5 & 1 & 0\\\\\n",
       "\t6 & 1 & 0\\\\\n",
       "\\end{tabular}\n"
      ],
      "text/markdown": [
       "\n",
       "A matrix: 6 × 2 of type dbl\n",
       "\n",
       "| <!--/--> | groupsC | groupsT |\n",
       "|---|---|---|\n",
       "| 1 | 0 | 1 |\n",
       "| 2 | 0 | 1 |\n",
       "| 3 | 0 | 1 |\n",
       "| 4 | 1 | 0 |\n",
       "| 5 | 1 | 0 |\n",
       "| 6 | 1 | 0 |\n",
       "\n"
      ],
      "text/plain": [
       "  groupsC groupsT\n",
       "1 0       1      \n",
       "2 0       1      \n",
       "3 0       1      \n",
       "4 1       0      \n",
       "5 1       0      \n",
       "6 1       0      "
      ]
     },
     "metadata": {},
     "output_type": "display_data"
    }
   ],
   "source": [
    "### Create a model matrix\n",
    "mm <- model.matrix(~0 + groups)\n",
    "mm"
   ]
  },
  {
   "cell_type": "code",
   "execution_count": 12,
   "metadata": {},
   "outputs": [
    {
     "ename": "ERROR",
     "evalue": "Error in DGEList(counts = counts, genes = rownames(counts), group = factor(countsGroup)): could not find function \"DGEList\"\n",
     "output_type": "error",
     "traceback": [
      "Error in DGEList(counts = counts, genes = rownames(counts), group = factor(countsGroup)): could not find function \"DGEList\"\nTraceback:\n"
     ]
    }
   ],
   "source": [
    "### Create a DEG object\n",
    "dgList <- DGEList(counts=counts, genes=rownames(counts), group=factor(countsGroup))\n",
    "dgList"
   ]
  },
  {
   "cell_type": "code",
   "execution_count": 14,
   "metadata": {},
   "outputs": [
    {
     "ename": "ERROR",
     "evalue": "Error in is(counts, \"DGEList\"): object 'dgList' not found\n",
     "output_type": "error",
     "traceback": [
      "Error in is(counts, \"DGEList\"): object 'dgList' not found\nTraceback:\n",
      "1. voom(dgList, mm, plot = T)",
      "2. is(counts, \"DGEList\")"
     ]
    }
   ],
   "source": [
    "### Apply Voom algorithm\n",
    "y <- voom(dgList, mm, plot=T)#T is for True\n",
    "fit <- lmFit(y, mm)"
   ]
  },
  {
   "cell_type": "code",
   "execution_count": 15,
   "metadata": {},
   "outputs": [
    {
     "ename": "ERROR",
     "evalue": "Error in coef(fit): object 'fit' not found\n",
     "output_type": "error",
     "traceback": [
      "Error in coef(fit): object 'fit' not found\nTraceback:\n",
      "1. head(coef(fit))",
      "2. coef(fit)"
     ]
    }
   ],
   "source": [
    "### See the results\n",
    "head(coef(fit))"
   ]
  },
  {
   "cell_type": "code",
   "execution_count": null,
   "metadata": {},
   "outputs": [],
   "source": [
    "### Make a contrast table\n",
    "cont <- makeContrasts(groupsT-groupsC, levels=colnames(coef(fit)))\n",
    "tmp <- contrasts.fit(fit, cont)\n",
    "tmp <- eBayes(tmp)"
   ]
  },
  {
   "cell_type": "code",
   "execution_count": null,
   "metadata": {},
   "outputs": [],
   "source": [
    "### Create top table\n",
    "top.table <- topTable(tmp, sort.by = \"P\", n=Inf)\n",
    "head(top.table)"
   ]
  },
  {
   "cell_type": "code",
   "execution_count": null,
   "metadata": {},
   "outputs": [],
   "source": [
    "### Export table\n",
    "write.table(top.table, file=\"deg_results.tsv\", row.names=F, sep=\"\\t\", quote=FALSE)"
   ]
  },
  {
   "cell_type": "code",
   "execution_count": null,
   "metadata": {},
   "outputs": [],
   "source": []
  }
 ],
 "metadata": {
  "kernelspec": {
   "display_name": "R",
   "language": "R",
   "name": "ir"
  },
  "language_info": {
   "codemirror_mode": "r",
   "file_extension": ".r",
   "mimetype": "text/x-r-source",
   "name": "R",
   "pygments_lexer": "r",
   "version": "4.0.3"
  }
 },
 "nbformat": 4,
 "nbformat_minor": 5
}
